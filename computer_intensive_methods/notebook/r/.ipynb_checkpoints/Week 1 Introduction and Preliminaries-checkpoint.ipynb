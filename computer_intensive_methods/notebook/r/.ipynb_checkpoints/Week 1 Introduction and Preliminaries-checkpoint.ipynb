{
 "cells": [
  {
   "cell_type": "markdown",
   "id": "technical-setup",
   "metadata": {},
   "source": [
    "# Type of Data\n",
    "- Boolean: TRUE or FALSE\n",
    "- Integers\n",
    "- Characters\n",
    "- Floating point numbers\n",
    "- Missing values"
   ]
  },
  {
   "cell_type": "markdown",
   "id": "described-expert",
   "metadata": {},
   "source": [
    "## Boolean"
   ]
  },
  {
   "cell_type": "code",
   "execution_count": 25,
   "id": "celtic-buddy",
   "metadata": {},
   "outputs": [
    {
     "data": {
      "text/html": [
       "'logical'"
      ],
      "text/latex": [
       "'logical'"
      ],
      "text/markdown": [
       "'logical'"
      ],
      "text/plain": [
       "[1] \"logical\""
      ]
     },
     "metadata": {},
     "output_type": "display_data"
    },
    {
     "data": {
      "text/html": [
       "FALSE"
      ],
      "text/latex": [
       "FALSE"
      ],
      "text/markdown": [
       "FALSE"
      ],
      "text/plain": [
       "[1] FALSE"
      ]
     },
     "metadata": {},
     "output_type": "display_data"
    },
    {
     "data": {
      "text/html": [
       "TRUE"
      ],
      "text/latex": [
       "TRUE"
      ],
      "text/markdown": [
       "TRUE"
      ],
      "text/plain": [
       "[1] TRUE"
      ]
     },
     "metadata": {},
     "output_type": "display_data"
    }
   ],
   "source": [
    "a = TRUE\n",
    "typeof(a)\n",
    "is.numeric(a)\n",
    "is.logical(a)"
   ]
  },
  {
   "cell_type": "markdown",
   "id": "covered-linux",
   "metadata": {},
   "source": [
    "## Integer\n",
    "- We cannot use is.integer to test whether if it's an integer number.\n",
    "- Here is the [link](https://stackoverflow.com/questions/3476782/check-if-the-number-is-integer) to refer to why is it so."
   ]
  },
  {
   "cell_type": "code",
   "execution_count": 26,
   "id": "strange-mentor",
   "metadata": {},
   "outputs": [
    {
     "data": {
      "text/html": [
       "'double'"
      ],
      "text/latex": [
       "'double'"
      ],
      "text/markdown": [
       "'double'"
      ],
      "text/plain": [
       "[1] \"double\""
      ]
     },
     "metadata": {},
     "output_type": "display_data"
    },
    {
     "data": {
      "text/html": [
       "FALSE"
      ],
      "text/latex": [
       "FALSE"
      ],
      "text/markdown": [
       "FALSE"
      ],
      "text/plain": [
       "[1] FALSE"
      ]
     },
     "metadata": {},
     "output_type": "display_data"
    },
    {
     "data": {
      "text/html": [
       "TRUE"
      ],
      "text/latex": [
       "TRUE"
      ],
      "text/markdown": [
       "TRUE"
      ],
      "text/plain": [
       "[1] TRUE"
      ]
     },
     "metadata": {},
     "output_type": "display_data"
    }
   ],
   "source": [
    "b = 1\n",
    "typeof(b)\n",
    "is.integer(b)\n",
    "is.numeric(b)"
   ]
  },
  {
   "cell_type": "markdown",
   "id": "driving-willow",
   "metadata": {},
   "source": [
    "## Floating Point Number"
   ]
  },
  {
   "cell_type": "code",
   "execution_count": 27,
   "id": "accepted-medicaid",
   "metadata": {},
   "outputs": [
    {
     "data": {
      "text/html": [
       "'double'"
      ],
      "text/latex": [
       "'double'"
      ],
      "text/markdown": [
       "'double'"
      ],
      "text/plain": [
       "[1] \"double\""
      ]
     },
     "metadata": {},
     "output_type": "display_data"
    },
    {
     "data": {
      "text/html": [
       "TRUE"
      ],
      "text/latex": [
       "TRUE"
      ],
      "text/markdown": [
       "TRUE"
      ],
      "text/plain": [
       "[1] TRUE"
      ]
     },
     "metadata": {},
     "output_type": "display_data"
    }
   ],
   "source": [
    "c = 2.0\n",
    "typeof(c)\n",
    "is.numeric(c)"
   ]
  },
  {
   "cell_type": "markdown",
   "id": "plain-purchase",
   "metadata": {},
   "source": [
    "## Character"
   ]
  },
  {
   "cell_type": "code",
   "execution_count": 28,
   "id": "combined-spain",
   "metadata": {},
   "outputs": [
    {
     "data": {
      "text/html": [
       "'character'"
      ],
      "text/latex": [
       "'character'"
      ],
      "text/markdown": [
       "'character'"
      ],
      "text/plain": [
       "[1] \"character\""
      ]
     },
     "metadata": {},
     "output_type": "display_data"
    },
    {
     "data": {
      "text/html": [
       "TRUE"
      ],
      "text/latex": [
       "TRUE"
      ],
      "text/markdown": [
       "TRUE"
      ],
      "text/plain": [
       "[1] TRUE"
      ]
     },
     "metadata": {},
     "output_type": "display_data"
    }
   ],
   "source": [
    "d = 'testing'\n",
    "typeof(d)\n",
    "is.character(d)"
   ]
  },
  {
   "cell_type": "markdown",
   "id": "successful-chair",
   "metadata": {},
   "source": [
    "## NA in R"
   ]
  },
  {
   "cell_type": "code",
   "execution_count": 29,
   "id": "fresh-tablet",
   "metadata": {},
   "outputs": [
    {
     "data": {
      "text/html": [
       "'logical'"
      ],
      "text/latex": [
       "'logical'"
      ],
      "text/markdown": [
       "'logical'"
      ],
      "text/plain": [
       "[1] \"logical\""
      ]
     },
     "metadata": {},
     "output_type": "display_data"
    },
    {
     "data": {
      "text/html": [
       "TRUE"
      ],
      "text/latex": [
       "TRUE"
      ],
      "text/markdown": [
       "TRUE"
      ],
      "text/plain": [
       "[1] TRUE"
      ]
     },
     "metadata": {},
     "output_type": "display_data"
    }
   ],
   "source": [
    "e = NA\n",
    "typeof(e)\n",
    "is.na(e)"
   ]
  },
  {
   "cell_type": "markdown",
   "id": "correct-monitor",
   "metadata": {},
   "source": [
    "# Operators\n",
    "- +, -, *, /, ^, %%, %/%\n",
    "- <, >, <=, >=, ==, !=\n",
    "- &, |"
   ]
  },
  {
   "cell_type": "code",
   "execution_count": 30,
   "id": "olive-fireplace",
   "metadata": {},
   "outputs": [
    {
     "data": {
      "text/html": [
       "3"
      ],
      "text/latex": [
       "3"
      ],
      "text/markdown": [
       "3"
      ],
      "text/plain": [
       "[1] 3"
      ]
     },
     "metadata": {},
     "output_type": "display_data"
    }
   ],
   "source": [
    "1+2"
   ]
  },
  {
   "cell_type": "code",
   "execution_count": 31,
   "id": "third-portuguese",
   "metadata": {},
   "outputs": [
    {
     "data": {
      "text/html": [
       "-1"
      ],
      "text/latex": [
       "-1"
      ],
      "text/markdown": [
       "-1"
      ],
      "text/plain": [
       "[1] -1"
      ]
     },
     "metadata": {},
     "output_type": "display_data"
    }
   ],
   "source": [
    "1-2"
   ]
  },
  {
   "cell_type": "code",
   "execution_count": 32,
   "id": "upper-trust",
   "metadata": {},
   "outputs": [
    {
     "data": {
      "text/html": [
       "10"
      ],
      "text/latex": [
       "10"
      ],
      "text/markdown": [
       "10"
      ],
      "text/plain": [
       "[1] 10"
      ]
     },
     "metadata": {},
     "output_type": "display_data"
    }
   ],
   "source": [
    "1*10"
   ]
  },
  {
   "cell_type": "code",
   "execution_count": 33,
   "id": "derived-georgia",
   "metadata": {},
   "outputs": [
    {
     "data": {
      "text/html": [
       "0.1"
      ],
      "text/latex": [
       "0.1"
      ],
      "text/markdown": [
       "0.1"
      ],
      "text/plain": [
       "[1] 0.1"
      ]
     },
     "metadata": {},
     "output_type": "display_data"
    }
   ],
   "source": [
    "1/10"
   ]
  },
  {
   "cell_type": "code",
   "execution_count": 34,
   "id": "united-failure",
   "metadata": {},
   "outputs": [
    {
     "data": {
      "text/html": [
       "8"
      ],
      "text/latex": [
       "8"
      ],
      "text/markdown": [
       "8"
      ],
      "text/plain": [
       "[1] 8"
      ]
     },
     "metadata": {},
     "output_type": "display_data"
    }
   ],
   "source": [
    "2^3"
   ]
  },
  {
   "cell_type": "code",
   "execution_count": 37,
   "id": "sunset-signature",
   "metadata": {},
   "outputs": [
    {
     "data": {
      "text/html": [
       "0"
      ],
      "text/latex": [
       "0"
      ],
      "text/markdown": [
       "0"
      ],
      "text/plain": [
       "[1] 0"
      ]
     },
     "metadata": {},
     "output_type": "display_data"
    },
    {
     "data": {
      "text/html": [
       "2"
      ],
      "text/latex": [
       "2"
      ],
      "text/markdown": [
       "2"
      ],
      "text/plain": [
       "[1] 2"
      ]
     },
     "metadata": {},
     "output_type": "display_data"
    }
   ],
   "source": [
    "# remainder\n",
    "6 %% 2\n",
    "6 %% 4"
   ]
  },
  {
   "cell_type": "code",
   "execution_count": 41,
   "id": "advised-leave",
   "metadata": {},
   "outputs": [
    {
     "data": {
      "text/html": [
       "3"
      ],
      "text/latex": [
       "3"
      ],
      "text/markdown": [
       "3"
      ],
      "text/plain": [
       "[1] 3"
      ]
     },
     "metadata": {},
     "output_type": "display_data"
    },
    {
     "data": {
      "text/html": [
       "1"
      ],
      "text/latex": [
       "1"
      ],
      "text/markdown": [
       "1"
      ],
      "text/plain": [
       "[1] 1"
      ]
     },
     "metadata": {},
     "output_type": "display_data"
    }
   ],
   "source": [
    "# quotient\n",
    "6 %/% 2\n",
    "6 %/% 4"
   ]
  },
  {
   "cell_type": "markdown",
   "id": "altered-sherman",
   "metadata": {},
   "source": [
    "# Error in Floating Point Numbers\n",
    "- a fraction times and exponent, such as 1.25 x 10 ^ 3\n",
    "- the more bits in the fraction part, the higher the precision\n",
    "- single precision or double precision (32 bits or 64 bits)\n",
    "- [difference between singele and double precision](https://www.geeksforgeeks.org/difference-between-single-precision-and-double-precision/)\n",
    "- R is double precision\n",
    "- 3 types of error:\n",
    "    - Blunders\n",
    "    - An approximate computational method\n",
    "    - Erros due to approximation imposed by the computer (finite precision of numbers, caused truncation error)\n",
    "- Absolute error is the difference between an observed or calculated value and the true value\n",
    "- Relative error is the absolute error divided by the true value (nonzero)\n",
    "- Error may be analysed using a direct error analysis method or inverse error analysis method\n",
    "    - inverse error analysis is mnost often used and concerned only with the assessment of rounding error (with respect to true value) at each intermediate stage of computations.\n",
    "    - rounding errors tend to accumulate in long computations."
   ]
  },
  {
   "cell_type": "code",
   "execution_count": 43,
   "id": "cosmetic-double",
   "metadata": {},
   "outputs": [
    {
     "data": {
      "text/html": [
       "0.15"
      ],
      "text/latex": [
       "0.15"
      ],
      "text/markdown": [
       "0.15"
      ],
      "text/plain": [
       "[1] 0.15"
      ]
     },
     "metadata": {},
     "output_type": "display_data"
    },
    {
     "data": {
      "text/html": [
       "FALSE"
      ],
      "text/latex": [
       "FALSE"
      ],
      "text/markdown": [
       "FALSE"
      ],
      "text/plain": [
       "[1] FALSE"
      ]
     },
     "metadata": {},
     "output_type": "display_data"
    }
   ],
   "source": [
    "3*0.05\n",
    "0.15 == 3*0.05"
   ]
  },
  {
   "cell_type": "code",
   "execution_count": 44,
   "id": "spectacular-panic",
   "metadata": {},
   "outputs": [
    {
     "data": {
      "text/html": [
       "-2.77555756156289e-17"
      ],
      "text/latex": [
       "-2.77555756156289e-17"
      ],
      "text/markdown": [
       "-2.77555756156289e-17"
      ],
      "text/plain": [
       "[1] -2.775558e-17"
      ]
     },
     "metadata": {},
     "output_type": "display_data"
    }
   ],
   "source": [
    "0.15 - 3*0.05"
   ]
  },
  {
   "cell_type": "markdown",
   "id": "coastal-waterproof",
   "metadata": {},
   "source": [
    "As seen above, we have a very small difference."
   ]
  },
  {
   "cell_type": "code",
   "execution_count": 45,
   "id": "conscious-liberal",
   "metadata": {},
   "outputs": [
    {
     "data": {
      "text/html": [
       "FALSE"
      ],
      "text/latex": [
       "FALSE"
      ],
      "text/markdown": [
       "FALSE"
      ],
      "text/plain": [
       "[1] FALSE"
      ]
     },
     "metadata": {},
     "output_type": "display_data"
    }
   ],
   "source": [
    "(0.2 - 0.1) == (0.3-0.2)"
   ]
  },
  {
   "cell_type": "code",
   "execution_count": 46,
   "id": "diverse-longitude",
   "metadata": {},
   "outputs": [
    {
     "data": {
      "text/html": [
       "TRUE"
      ],
      "text/latex": [
       "TRUE"
      ],
      "text/markdown": [
       "TRUE"
      ],
      "text/plain": [
       "[1] TRUE"
      ]
     },
     "metadata": {},
     "output_type": "display_data"
    }
   ],
   "source": [
    "all.equal(0.2-0.1, 0.3-0.2)"
   ]
  },
  {
   "cell_type": "markdown",
   "id": "greenhouse-turkey",
   "metadata": {},
   "source": [
    "# Assignment Operators\n",
    "- [difference between <- and =](https://stackoverflow.com/questions/1741820/what-are-the-differences-between-and-assignment-operators-in-r)"
   ]
  },
  {
   "cell_type": "code",
   "execution_count": 47,
   "id": "needed-pulse",
   "metadata": {},
   "outputs": [
    {
     "data": {
      "text/html": [
       "3.33333333333333"
      ],
      "text/latex": [
       "3.33333333333333"
      ],
      "text/markdown": [
       "3.33333333333333"
      ],
      "text/plain": [
       "[1] 3.333333"
      ]
     },
     "metadata": {},
     "output_type": "display_data"
    }
   ],
   "source": [
    "a <- 1/3\n",
    "b = 10\n",
    "a*b"
   ]
  },
  {
   "cell_type": "markdown",
   "id": "administrative-emission",
   "metadata": {},
   "source": [
    "# Data Structure\n",
    "- a data structure is a way of organizing data for use in the computer\n",
    "\n",
    "## Vectors\n",
    "- structured the data by grouping them as a sequence of values, all of the *same type*"
   ]
  },
  {
   "cell_type": "code",
   "execution_count": 48,
   "id": "complex-coral",
   "metadata": {},
   "outputs": [
    {
     "data": {
      "text/html": [
       "<ol class=list-inline>\n",
       "\t<li>1</li>\n",
       "\t<li>3</li>\n",
       "\t<li>5</li>\n",
       "\t<li>7</li>\n",
       "\t<li>9</li>\n",
       "</ol>\n"
      ],
      "text/latex": [
       "\\begin{enumerate*}\n",
       "\\item 1\n",
       "\\item 3\n",
       "\\item 5\n",
       "\\item 7\n",
       "\\item 9\n",
       "\\end{enumerate*}\n"
      ],
      "text/markdown": [
       "1. 1\n",
       "2. 3\n",
       "3. 5\n",
       "4. 7\n",
       "5. 9\n",
       "\n",
       "\n"
      ],
      "text/plain": [
       "[1] 1 3 5 7 9"
      ]
     },
     "metadata": {},
     "output_type": "display_data"
    },
    {
     "data": {
      "text/html": [
       "TRUE"
      ],
      "text/latex": [
       "TRUE"
      ],
      "text/markdown": [
       "TRUE"
      ],
      "text/plain": [
       "[1] TRUE"
      ]
     },
     "metadata": {},
     "output_type": "display_data"
    }
   ],
   "source": [
    "x <- c(1,3,5,7,9)\n",
    "x\n",
    "is.vector(x)"
   ]
  },
  {
   "cell_type": "code",
   "execution_count": 49,
   "id": "chemical-underground",
   "metadata": {},
   "outputs": [
    {
     "data": {
      "text/html": [
       "<ol class=list-inline>\n",
       "\t<li>0</li>\n",
       "\t<li>0</li>\n",
       "\t<li>0</li>\n",
       "\t<li>14</li>\n",
       "\t<li>0</li>\n",
       "</ol>\n"
      ],
      "text/latex": [
       "\\begin{enumerate*}\n",
       "\\item 0\n",
       "\\item 0\n",
       "\\item 0\n",
       "\\item 14\n",
       "\\item 0\n",
       "\\end{enumerate*}\n"
      ],
      "text/markdown": [
       "1. 0\n",
       "2. 0\n",
       "3. 0\n",
       "4. 14\n",
       "5. 0\n",
       "\n",
       "\n"
      ],
      "text/plain": [
       "[1]  0  0  0 14  0"
      ]
     },
     "metadata": {},
     "output_type": "display_data"
    }
   ],
   "source": [
    "y <- c(-1, -3, -5, 7, -9)\n",
    "x+y"
   ]
  },
  {
   "cell_type": "code",
   "execution_count": 50,
   "id": "another-contact",
   "metadata": {},
   "outputs": [
    {
     "name": "stderr",
     "output_type": "stream",
     "text": [
      "Warning message in x + c(-1, -3):\n",
      "\"longer object length is not a multiple of shorter object length\""
     ]
    },
    {
     "data": {
      "text/html": [
       "<ol class=list-inline>\n",
       "\t<li>0</li>\n",
       "\t<li>0</li>\n",
       "\t<li>4</li>\n",
       "\t<li>4</li>\n",
       "\t<li>8</li>\n",
       "</ol>\n"
      ],
      "text/latex": [
       "\\begin{enumerate*}\n",
       "\\item 0\n",
       "\\item 0\n",
       "\\item 4\n",
       "\\item 4\n",
       "\\item 8\n",
       "\\end{enumerate*}\n"
      ],
      "text/markdown": [
       "1. 0\n",
       "2. 0\n",
       "3. 4\n",
       "4. 4\n",
       "5. 8\n",
       "\n",
       "\n"
      ],
      "text/plain": [
       "[1] 0 0 4 4 8"
      ]
     },
     "metadata": {},
     "output_type": "display_data"
    }
   ],
   "source": [
    "x + c(-1, -3)"
   ]
  },
  {
   "cell_type": "markdown",
   "id": "orange-check",
   "metadata": {},
   "source": [
    "so we can see that the c(-1, -3) become (-1, -3, -1, -3, -1) to fit the length of x."
   ]
  },
  {
   "cell_type": "code",
   "execution_count": 51,
   "id": "economic-rapid",
   "metadata": {},
   "outputs": [
    {
     "data": {
      "text/html": [
       "<ol class=list-inline>\n",
       "\t<li>2</li>\n",
       "\t<li>4</li>\n",
       "\t<li>6</li>\n",
       "\t<li>8</li>\n",
       "\t<li>10</li>\n",
       "</ol>\n"
      ],
      "text/latex": [
       "\\begin{enumerate*}\n",
       "\\item 2\n",
       "\\item 4\n",
       "\\item 6\n",
       "\\item 8\n",
       "\\item 10\n",
       "\\end{enumerate*}\n"
      ],
      "text/markdown": [
       "1. 2\n",
       "2. 4\n",
       "3. 6\n",
       "4. 8\n",
       "5. 10\n",
       "\n",
       "\n"
      ],
      "text/plain": [
       "[1]  2  4  6  8 10"
      ]
     },
     "metadata": {},
     "output_type": "display_data"
    }
   ],
   "source": [
    "x + 1"
   ]
  },
  {
   "cell_type": "markdown",
   "id": "secondary-deficit",
   "metadata": {},
   "source": [
    "the 1 automatically broadcasting which adding the entire vector with 1."
   ]
  },
  {
   "cell_type": "code",
   "execution_count": 52,
   "id": "forced-three",
   "metadata": {},
   "outputs": [
    {
     "data": {
      "text/html": [
       "<ol class=list-inline>\n",
       "\t<li>TRUE</li>\n",
       "\t<li>TRUE</li>\n",
       "\t<li>FALSE</li>\n",
       "\t<li>FALSE</li>\n",
       "\t<li>FALSE</li>\n",
       "</ol>\n"
      ],
      "text/latex": [
       "\\begin{enumerate*}\n",
       "\\item TRUE\n",
       "\\item TRUE\n",
       "\\item FALSE\n",
       "\\item FALSE\n",
       "\\item FALSE\n",
       "\\end{enumerate*}\n"
      ],
      "text/markdown": [
       "1. TRUE\n",
       "2. TRUE\n",
       "3. FALSE\n",
       "4. FALSE\n",
       "5. FALSE\n",
       "\n",
       "\n"
      ],
      "text/plain": [
       "[1]  TRUE  TRUE FALSE FALSE FALSE"
      ]
     },
     "metadata": {},
     "output_type": "display_data"
    }
   ],
   "source": [
    "x < 4"
   ]
  },
  {
   "cell_type": "code",
   "execution_count": 54,
   "id": "maritime-resolution",
   "metadata": {},
   "outputs": [
    {
     "data": {
      "text/html": [
       "FALSE"
      ],
      "text/latex": [
       "FALSE"
      ],
      "text/markdown": [
       "FALSE"
      ],
      "text/plain": [
       "[1] FALSE"
      ]
     },
     "metadata": {},
     "output_type": "display_data"
    },
    {
     "data": {
      "text/html": [
       "'Mean relative difference: 2'"
      ],
      "text/latex": [
       "'Mean relative difference: 2'"
      ],
      "text/markdown": [
       "'Mean relative difference: 2'"
      ],
      "text/plain": [
       "[1] \"Mean relative difference: 2\""
      ]
     },
     "metadata": {},
     "output_type": "display_data"
    }
   ],
   "source": [
    "identical(x, -y)\n",
    "all.equal(x, -y)"
   ]
  },
  {
   "cell_type": "markdown",
   "id": "endless-century",
   "metadata": {},
   "source": [
    "### Function on Vectors\n",
    "- mean\n",
    "- var\n",
    "- sum\n",
    "- sort\n",
    "- hist"
   ]
  },
  {
   "cell_type": "code",
   "execution_count": 57,
   "id": "separate-scott",
   "metadata": {
    "scrolled": true
   },
   "outputs": [
    {
     "data": {
      "text/html": [
       "5"
      ],
      "text/latex": [
       "5"
      ],
      "text/markdown": [
       "5"
      ],
      "text/plain": [
       "[1] 5"
      ]
     },
     "metadata": {},
     "output_type": "display_data"
    },
    {
     "data": {
      "text/html": [
       "10"
      ],
      "text/latex": [
       "10"
      ],
      "text/markdown": [
       "10"
      ],
      "text/plain": [
       "[1] 10"
      ]
     },
     "metadata": {},
     "output_type": "display_data"
    },
    {
     "data": {
      "text/html": [
       "25"
      ],
      "text/latex": [
       "25"
      ],
      "text/markdown": [
       "25"
      ],
      "text/plain": [
       "[1] 25"
      ]
     },
     "metadata": {},
     "output_type": "display_data"
    },
    {
     "data": {
      "text/html": [
       "<ol class=list-inline>\n",
       "\t<li>1</li>\n",
       "\t<li>3</li>\n",
       "\t<li>5</li>\n",
       "\t<li>7</li>\n",
       "\t<li>9</li>\n",
       "</ol>\n"
      ],
      "text/latex": [
       "\\begin{enumerate*}\n",
       "\\item 1\n",
       "\\item 3\n",
       "\\item 5\n",
       "\\item 7\n",
       "\\item 9\n",
       "\\end{enumerate*}\n"
      ],
      "text/markdown": [
       "1. 1\n",
       "2. 3\n",
       "3. 5\n",
       "4. 7\n",
       "5. 9\n",
       "\n",
       "\n"
      ],
      "text/plain": [
       "[1] 1 3 5 7 9"
      ]
     },
     "metadata": {},
     "output_type": "display_data"
    },
    {
     "data": {
      "image/png": "[encoded data removed]",
      "text/plain": [
       "Plot with title \"Histogram of x\""
      ]
     },
     "metadata": {},
     "output_type": "display_data"
    }
   ],
   "source": [
    "mean(x)\n",
    "var(x)\n",
    "sum(x)\n",
    "sort(x)\n",
    "hist(x)"
   ]
  },
  {
   "cell_type": "markdown",
   "id": "egyptian-wales",
   "metadata": {},
   "source": [
    "## Arrays\n",
    "- More complicated than vector but all same type\n",
    "- Can be formed from vectors"
   ]
  },
  {
   "cell_type": "code",
   "execution_count": 58,
   "id": "independent-script",
   "metadata": {},
   "outputs": [
    {
     "data": {
      "text/html": [
       "<table>\n",
       "<tbody>\n",
       "\t<tr><td>1</td><td>3</td></tr>\n",
       "\t<tr><td>2</td><td>4</td></tr>\n",
       "</tbody>\n",
       "</table>\n"
      ],
      "text/latex": [
       "\\begin{tabular}{ll}\n",
       "\t 1 & 3\\\\\n",
       "\t 2 & 4\\\\\n",
       "\\end{tabular}\n"
      ],
      "text/markdown": [
       "\n",
       "| 1 | 3 |\n",
       "| 2 | 4 |\n",
       "\n"
      ],
      "text/plain": [
       "     [,1] [,2]\n",
       "[1,] 1    3   \n",
       "[2,] 2    4   "
      ]
     },
     "metadata": {},
     "output_type": "display_data"
    }
   ],
   "source": [
    "x <- c(1,2,3,4)\n",
    "y <- array(x, dim=c(2,2))\n",
    "y"
   ]
  },
  {
   "cell_type": "code",
   "execution_count": 63,
   "id": "sweet-touch",
   "metadata": {},
   "outputs": [
    {
     "data": {
      "text/html": [
       "<ol class=list-inline>\n",
       "\t<li>2</li>\n",
       "\t<li>2</li>\n",
       "</ol>\n"
      ],
      "text/latex": [
       "\\begin{enumerate*}\n",
       "\\item 2\n",
       "\\item 2\n",
       "\\end{enumerate*}\n"
      ],
      "text/markdown": [
       "1. 2\n",
       "2. 2\n",
       "\n",
       "\n"
      ],
      "text/plain": [
       "[1] 2 2"
      ]
     },
     "metadata": {},
     "output_type": "display_data"
    },
    {
     "data": {
      "text/html": [
       "FALSE"
      ],
      "text/latex": [
       "FALSE"
      ],
      "text/markdown": [
       "FALSE"
      ],
      "text/plain": [
       "[1] FALSE"
      ]
     },
     "metadata": {},
     "output_type": "display_data"
    },
    {
     "data": {
      "text/html": [
       "TRUE"
      ],
      "text/latex": [
       "TRUE"
      ],
      "text/markdown": [
       "TRUE"
      ],
      "text/plain": [
       "[1] TRUE"
      ]
     },
     "metadata": {},
     "output_type": "display_data"
    },
    {
     "data": {
      "text/html": [
       "TRUE"
      ],
      "text/latex": [
       "TRUE"
      ],
      "text/markdown": [
       "TRUE"
      ],
      "text/plain": [
       "[1] TRUE"
      ]
     },
     "metadata": {},
     "output_type": "display_data"
    },
    {
     "data": {
      "text/html": [
       "'double'"
      ],
      "text/latex": [
       "'double'"
      ],
      "text/markdown": [
       "'double'"
      ],
      "text/plain": [
       "[1] \"double\""
      ]
     },
     "metadata": {},
     "output_type": "display_data"
    },
    {
     "name": "stdout",
     "output_type": "stream",
     "text": [
      " num [1:2, 1:2] 1 2 3 4\n"
     ]
    }
   ],
   "source": [
    "dim(y)\n",
    "is.vector(y)\n",
    "is.matrix(y)\n",
    "is.array(y)\n",
    "typeof(y)\n",
    "str(y)"
   ]
  },
  {
   "cell_type": "code",
   "execution_count": 62,
   "id": "removable-alpha",
   "metadata": {},
   "outputs": [
    {
     "data": {
      "text/html": [
       "<ol class=list-inline>\n",
       "\t<li>3</li>\n",
       "\t<li>4</li>\n",
       "</ol>\n"
      ],
      "text/latex": [
       "\\begin{enumerate*}\n",
       "\\item 3\n",
       "\\item 4\n",
       "\\end{enumerate*}\n"
      ],
      "text/markdown": [
       "1. 3\n",
       "2. 4\n",
       "\n",
       "\n"
      ],
      "text/plain": [
       "[1] 3 4"
      ]
     },
     "metadata": {},
     "output_type": "display_data"
    }
   ],
   "source": [
    "which(y>2)"
   ]
  },
  {
   "cell_type": "code",
   "execution_count": 61,
   "id": "documentary-hammer",
   "metadata": {},
   "outputs": [
    {
     "data": {
      "text/html": [
       "<ol class=list-inline>\n",
       "\t<li>4</li>\n",
       "\t<li>6</li>\n",
       "</ol>\n"
      ],
      "text/latex": [
       "\\begin{enumerate*}\n",
       "\\item 4\n",
       "\\item 6\n",
       "\\end{enumerate*}\n"
      ],
      "text/markdown": [
       "1. 4\n",
       "2. 6\n",
       "\n",
       "\n"
      ],
      "text/plain": [
       "[1] 4 6"
      ]
     },
     "metadata": {},
     "output_type": "display_data"
    }
   ],
   "source": [
    "rowSums(y)"
   ]
  },
  {
   "cell_type": "markdown",
   "id": "funky-appearance",
   "metadata": {},
   "source": [
    "## Matrices\n",
    "- a matrix is basically a 2D array in R"
   ]
  },
  {
   "cell_type": "code",
   "execution_count": 64,
   "id": "joint-crest",
   "metadata": {},
   "outputs": [
    {
     "data": {
      "text/html": [
       "<table>\n",
       "<tbody>\n",
       "\t<tr><td>4</td><td>6</td></tr>\n",
       "\t<tr><td>5</td><td>7</td></tr>\n",
       "</tbody>\n",
       "</table>\n"
      ],
      "text/latex": [
       "\\begin{tabular}{ll}\n",
       "\t 4 & 6\\\\\n",
       "\t 5 & 7\\\\\n",
       "\\end{tabular}\n"
      ],
      "text/markdown": [
       "\n",
       "| 4 | 6 |\n",
       "| 5 | 7 |\n",
       "\n"
      ],
      "text/plain": [
       "     [,1] [,2]\n",
       "[1,] 4    6   \n",
       "[2,] 5    7   "
      ]
     },
     "metadata": {},
     "output_type": "display_data"
    },
    {
     "data": {
      "text/html": [
       "TRUE"
      ],
      "text/latex": [
       "TRUE"
      ],
      "text/markdown": [
       "TRUE"
      ],
      "text/plain": [
       "[1] TRUE"
      ]
     },
     "metadata": {},
     "output_type": "display_data"
    },
    {
     "data": {
      "text/html": [
       "TRUE"
      ],
      "text/latex": [
       "TRUE"
      ],
      "text/markdown": [
       "TRUE"
      ],
      "text/plain": [
       "[1] TRUE"
      ]
     },
     "metadata": {},
     "output_type": "display_data"
    }
   ],
   "source": [
    "x <- matrix(c(4,5,6,7), nrow=2)\n",
    "x\n",
    "is.array(x)\n",
    "is.matrix(x)"
   ]
  },
  {
   "cell_type": "code",
   "execution_count": 65,
   "id": "mature-drill",
   "metadata": {},
   "outputs": [
    {
     "data": {
      "text/html": [
       "<table>\n",
       "<tbody>\n",
       "\t<tr><td>4</td><td>5</td></tr>\n",
       "\t<tr><td>6</td><td>7</td></tr>\n",
       "</tbody>\n",
       "</table>\n"
      ],
      "text/latex": [
       "\\begin{tabular}{ll}\n",
       "\t 4 & 5\\\\\n",
       "\t 6 & 7\\\\\n",
       "\\end{tabular}\n"
      ],
      "text/markdown": [
       "\n",
       "| 4 | 5 |\n",
       "| 6 | 7 |\n",
       "\n"
      ],
      "text/plain": [
       "     [,1] [,2]\n",
       "[1,] 4    5   \n",
       "[2,] 6    7   "
      ]
     },
     "metadata": {},
     "output_type": "display_data"
    }
   ],
   "source": [
    "t(x)"
   ]
  },
  {
   "cell_type": "code",
   "execution_count": 66,
   "id": "weighted-ambassador",
   "metadata": {},
   "outputs": [
    {
     "data": {
      "text/html": [
       "-2"
      ],
      "text/latex": [
       "-2"
      ],
      "text/markdown": [
       "-2"
      ],
      "text/plain": [
       "[1] -2"
      ]
     },
     "metadata": {},
     "output_type": "display_data"
    }
   ],
   "source": [
    "det(x)"
   ]
  },
  {
   "cell_type": "code",
   "execution_count": 67,
   "id": "korean-information",
   "metadata": {},
   "outputs": [
    {
     "data": {
      "text/html": [
       "<ol class=list-inline>\n",
       "\t<li>4</li>\n",
       "\t<li>7</li>\n",
       "</ol>\n"
      ],
      "text/latex": [
       "\\begin{enumerate*}\n",
       "\\item 4\n",
       "\\item 7\n",
       "\\end{enumerate*}\n"
      ],
      "text/markdown": [
       "1. 4\n",
       "2. 7\n",
       "\n",
       "\n"
      ],
      "text/plain": [
       "[1] 4 7"
      ]
     },
     "metadata": {},
     "output_type": "display_data"
    }
   ],
   "source": [
    "diag(x)"
   ]
  },
  {
   "cell_type": "code",
   "execution_count": 68,
   "id": "voluntary-breakfast",
   "metadata": {},
   "outputs": [
    {
     "data": {
      "text/html": [
       "<table>\n",
       "<tbody>\n",
       "\t<tr><td>5</td><td>5</td><td>5</td></tr>\n",
       "\t<tr><td>5</td><td>5</td><td>5</td></tr>\n",
       "</tbody>\n",
       "</table>\n"
      ],
      "text/latex": [
       "\\begin{tabular}{lll}\n",
       "\t 5 & 5 & 5\\\\\n",
       "\t 5 & 5 & 5\\\\\n",
       "\\end{tabular}\n"
      ],
      "text/markdown": [
       "\n",
       "| 5 | 5 | 5 |\n",
       "| 5 | 5 | 5 |\n",
       "\n"
      ],
      "text/plain": [
       "     [,1] [,2] [,3]\n",
       "[1,] 5    5    5   \n",
       "[2,] 5    5    5   "
      ]
     },
     "metadata": {},
     "output_type": "display_data"
    }
   ],
   "source": [
    "y <- matrix(rep(5, 6), ncol = 3)\n",
    "y"
   ]
  },
  {
   "cell_type": "code",
   "execution_count": 69,
   "id": "catholic-platinum",
   "metadata": {},
   "outputs": [
    {
     "data": {
      "text/html": [
       "<table>\n",
       "<tbody>\n",
       "\t<tr><td>50</td><td>50</td><td>50</td></tr>\n",
       "\t<tr><td>60</td><td>60</td><td>60</td></tr>\n",
       "</tbody>\n",
       "</table>\n"
      ],
      "text/latex": [
       "\\begin{tabular}{lll}\n",
       "\t 50 & 50 & 50\\\\\n",
       "\t 60 & 60 & 60\\\\\n",
       "\\end{tabular}\n"
      ],
      "text/markdown": [
       "\n",
       "| 50 | 50 | 50 |\n",
       "| 60 | 60 | 60 |\n",
       "\n"
      ],
      "text/plain": [
       "     [,1] [,2] [,3]\n",
       "[1,] 50   50   50  \n",
       "[2,] 60   60   60  "
      ]
     },
     "metadata": {},
     "output_type": "display_data"
    }
   ],
   "source": [
    "x %*% y"
   ]
  },
  {
   "cell_type": "code",
   "execution_count": 70,
   "id": "automated-circuit",
   "metadata": {},
   "outputs": [
    {
     "ename": "ERROR",
     "evalue": "Error in y %*% x: non-conformable arguments\n",
     "output_type": "error",
     "traceback": [
      "Error in y %*% x: non-conformable arguments\nTraceback:\n"
     ]
    }
   ],
   "source": [
    "y %*% x"
   ]
  },
  {
   "cell_type": "code",
   "execution_count": 71,
   "id": "coordinated-costs",
   "metadata": {},
   "outputs": [],
   "source": [
    "z <- c(7, 8)"
   ]
  },
  {
   "cell_type": "code",
   "execution_count": 72,
   "id": "republican-genealogy",
   "metadata": {},
   "outputs": [
    {
     "data": {
      "text/html": [
       "<table>\n",
       "<tbody>\n",
       "\t<tr><td>76</td></tr>\n",
       "\t<tr><td>91</td></tr>\n",
       "</tbody>\n",
       "</table>\n"
      ],
      "text/latex": [
       "\\begin{tabular}{l}\n",
       "\t 76\\\\\n",
       "\t 91\\\\\n",
       "\\end{tabular}\n"
      ],
      "text/markdown": [
       "\n",
       "| 76 |\n",
       "| 91 |\n",
       "\n"
      ],
      "text/plain": [
       "     [,1]\n",
       "[1,] 76  \n",
       "[2,] 91  "
      ]
     },
     "metadata": {},
     "output_type": "display_data"
    }
   ],
   "source": [
    "x %*% z"
   ]
  },
  {
   "cell_type": "code",
   "execution_count": 73,
   "id": "organizational-oxide",
   "metadata": {},
   "outputs": [
    {
     "data": {
      "text/html": [
       "<table>\n",
       "<tbody>\n",
       "\t<tr><td>68</td><td>98</td></tr>\n",
       "</tbody>\n",
       "</table>\n"
      ],
      "text/latex": [
       "\\begin{tabular}{ll}\n",
       "\t 68 & 98\\\\\n",
       "\\end{tabular}\n"
      ],
      "text/markdown": [
       "\n",
       "| 68 | 98 |\n",
       "\n"
      ],
      "text/plain": [
       "     [,1] [,2]\n",
       "[1,] 68   98  "
      ]
     },
     "metadata": {},
     "output_type": "display_data"
    }
   ],
   "source": [
    "z %*% x"
   ]
  },
  {
   "cell_type": "markdown",
   "id": "needed-partner",
   "metadata": {},
   "source": [
    "note that when a vector is not specify with the rows or columns, it will fit in to any situation like what is shown above."
   ]
  },
  {
   "cell_type": "code",
   "execution_count": 74,
   "id": "metropolitan-monitor",
   "metadata": {},
   "outputs": [
    {
     "data": {
      "text/plain": [
       "NULL"
      ]
     },
     "metadata": {},
     "output_type": "display_data"
    }
   ],
   "source": [
    "rownames(x)"
   ]
  },
  {
   "cell_type": "code",
   "execution_count": 75,
   "id": "basic-discount",
   "metadata": {},
   "outputs": [
    {
     "data": {
      "text/html": [
       "<table>\n",
       "<tbody>\n",
       "\t<tr><td>4</td><td>6</td></tr>\n",
       "\t<tr><td>5</td><td>7</td></tr>\n",
       "</tbody>\n",
       "</table>\n"
      ],
      "text/latex": [
       "\\begin{tabular}{ll}\n",
       "\t 4 & 6\\\\\n",
       "\t 5 & 7\\\\\n",
       "\\end{tabular}\n"
      ],
      "text/markdown": [
       "\n",
       "| 4 | 6 |\n",
       "| 5 | 7 |\n",
       "\n"
      ],
      "text/plain": [
       "     [,1] [,2]\n",
       "[1,] 4    6   \n",
       "[2,] 5    7   "
      ]
     },
     "metadata": {},
     "output_type": "display_data"
    }
   ],
   "source": [
    "x"
   ]
  },
  {
   "cell_type": "code",
   "execution_count": 76,
   "id": "viral-pasta",
   "metadata": {},
   "outputs": [],
   "source": [
    "rownames(x) <- c('a', 'b')"
   ]
  },
  {
   "cell_type": "code",
   "execution_count": 77,
   "id": "checked-conversion",
   "metadata": {},
   "outputs": [
    {
     "data": {
      "text/html": [
       "<ol class=list-inline>\n",
       "\t<li>'a'</li>\n",
       "\t<li>'b'</li>\n",
       "</ol>\n"
      ],
      "text/latex": [
       "\\begin{enumerate*}\n",
       "\\item 'a'\n",
       "\\item 'b'\n",
       "\\end{enumerate*}\n"
      ],
      "text/markdown": [
       "1. 'a'\n",
       "2. 'b'\n",
       "\n",
       "\n"
      ],
      "text/plain": [
       "[1] \"a\" \"b\""
      ]
     },
     "metadata": {},
     "output_type": "display_data"
    }
   ],
   "source": [
    "rownames(x)"
   ]
  },
  {
   "cell_type": "code",
   "execution_count": 78,
   "id": "monthly-token",
   "metadata": {},
   "outputs": [
    {
     "data": {
      "text/html": [
       "<table>\n",
       "<tbody>\n",
       "\t<tr><th scope=row>a</th><td>4</td><td>6</td></tr>\n",
       "\t<tr><th scope=row>b</th><td>5</td><td>7</td></tr>\n",
       "</tbody>\n",
       "</table>\n"
      ],
      "text/latex": [
       "\\begin{tabular}{r|ll}\n",
       "\ta & 4 & 6\\\\\n",
       "\tb & 5 & 7\\\\\n",
       "\\end{tabular}\n"
      ],
      "text/markdown": [
       "\n",
       "| a | 4 | 6 |\n",
       "| b | 5 | 7 |\n",
       "\n"
      ],
      "text/plain": [
       "  [,1] [,2]\n",
       "a 4    6   \n",
       "b 5    7   "
      ]
     },
     "metadata": {},
     "output_type": "display_data"
    }
   ],
   "source": [
    "x"
   ]
  },
  {
   "cell_type": "code",
   "execution_count": 79,
   "id": "cooperative-andrew",
   "metadata": {},
   "outputs": [
    {
     "data": {
      "text/html": [
       "<dl class=dl-horizontal>\n",
       "\t<dt>a</dt>\n",
       "\t\t<dd>5</dd>\n",
       "\t<dt>b</dt>\n",
       "\t\t<dd>6</dd>\n",
       "</dl>\n"
      ],
      "text/latex": [
       "\\begin{description*}\n",
       "\\item[a] 5\n",
       "\\item[b] 6\n",
       "\\end{description*}\n"
      ],
      "text/markdown": [
       "a\n",
       ":   5b\n",
       ":   6\n",
       "\n"
      ],
      "text/plain": [
       "a b \n",
       "5 6 "
      ]
     },
     "metadata": {},
     "output_type": "display_data"
    }
   ],
   "source": [
    "rowMeans(x)"
   ]
  },
  {
   "cell_type": "code",
   "execution_count": 80,
   "id": "monetary-instruction",
   "metadata": {},
   "outputs": [
    {
     "data": {
      "text/html": [
       "<ol class=list-inline>\n",
       "\t<li>4.5</li>\n",
       "\t<li>6.5</li>\n",
       "</ol>\n"
      ],
      "text/latex": [
       "\\begin{enumerate*}\n",
       "\\item 4.5\n",
       "\\item 6.5\n",
       "\\end{enumerate*}\n"
      ],
      "text/markdown": [
       "1. 4.5\n",
       "2. 6.5\n",
       "\n",
       "\n"
      ],
      "text/plain": [
       "[1] 4.5 6.5"
      ]
     },
     "metadata": {},
     "output_type": "display_data"
    }
   ],
   "source": [
    "colMeans(x)"
   ]
  },
  {
   "cell_type": "code",
   "execution_count": 81,
   "id": "imposed-congo",
   "metadata": {},
   "outputs": [
    {
     "data": {
      "text/html": [
       "<dl class=dl-horizontal>\n",
       "\t<dt>a</dt>\n",
       "\t\t<dd>5</dd>\n",
       "\t<dt>b</dt>\n",
       "\t\t<dd>6</dd>\n",
       "</dl>\n"
      ],
      "text/latex": [
       "\\begin{description*}\n",
       "\\item[a] 5\n",
       "\\item[b] 6\n",
       "\\end{description*}\n"
      ],
      "text/markdown": [
       "a\n",
       ":   5b\n",
       ":   6\n",
       "\n"
      ],
      "text/plain": [
       "a b \n",
       "5 6 "
      ]
     },
     "metadata": {},
     "output_type": "display_data"
    }
   ],
   "source": [
    "apply(x, 1, mean)"
   ]
  },
  {
   "cell_type": "code",
   "execution_count": 82,
   "id": "promising-death",
   "metadata": {},
   "outputs": [
    {
     "data": {
      "text/html": [
       "<ol class=list-inline>\n",
       "\t<li>4.5</li>\n",
       "\t<li>6.5</li>\n",
       "</ol>\n"
      ],
      "text/latex": [
       "\\begin{enumerate*}\n",
       "\\item 4.5\n",
       "\\item 6.5\n",
       "\\end{enumerate*}\n"
      ],
      "text/markdown": [
       "1. 4.5\n",
       "2. 6.5\n",
       "\n",
       "\n"
      ],
      "text/plain": [
       "[1] 4.5 6.5"
      ]
     },
     "metadata": {},
     "output_type": "display_data"
    }
   ],
   "source": [
    "apply(x, 2, mean)"
   ]
  },
  {
   "cell_type": "markdown",
   "id": "fallen-northern",
   "metadata": {},
   "source": [
    "Using apply can do the same thing, 1 stand for row, 2 stand for column"
   ]
  },
  {
   "cell_type": "markdown",
   "id": "polished-violin",
   "metadata": {},
   "source": [
    "## Lists"
   ]
  },
  {
   "cell_type": "code",
   "execution_count": 83,
   "id": "computational-regression",
   "metadata": {},
   "outputs": [
    {
     "data": {
      "text/html": [
       "<ol>\n",
       "\t<li>'abc'</li>\n",
       "\t<li>10</li>\n",
       "\t<li>FALSE</li>\n",
       "</ol>\n"
      ],
      "text/latex": [
       "\\begin{enumerate}\n",
       "\\item 'abc'\n",
       "\\item 10\n",
       "\\item FALSE\n",
       "\\end{enumerate}\n"
      ],
      "text/markdown": [
       "1. 'abc'\n",
       "2. 10\n",
       "3. FALSE\n",
       "\n",
       "\n"
      ],
      "text/plain": [
       "[[1]]\n",
       "[1] \"abc\"\n",
       "\n",
       "[[2]]\n",
       "[1] 10\n",
       "\n",
       "[[3]]\n",
       "[1] FALSE\n"
      ]
     },
     "metadata": {},
     "output_type": "display_data"
    }
   ],
   "source": [
    "z <- list('abc', 10, FALSE)\n",
    "z"
   ]
  },
  {
   "cell_type": "code",
   "execution_count": 84,
   "id": "prime-cedar",
   "metadata": {},
   "outputs": [
    {
     "data": {
      "text/html": [
       "TRUE"
      ],
      "text/latex": [
       "TRUE"
      ],
      "text/markdown": [
       "TRUE"
      ],
      "text/plain": [
       "[1] TRUE"
      ]
     },
     "metadata": {},
     "output_type": "display_data"
    }
   ],
   "source": [
    "is.character(z[[1]])"
   ]
  },
  {
   "cell_type": "code",
   "execution_count": 85,
   "id": "backed-parts",
   "metadata": {},
   "outputs": [
    {
     "data": {
      "text/html": [
       "40"
      ],
      "text/latex": [
       "40"
      ],
      "text/markdown": [
       "40"
      ],
      "text/plain": [
       "[1] 40"
      ]
     },
     "metadata": {},
     "output_type": "display_data"
    }
   ],
   "source": [
    "z[[2]] * 4"
   ]
  },
  {
   "cell_type": "code",
   "execution_count": 86,
   "id": "pointed-pathology",
   "metadata": {},
   "outputs": [
    {
     "data": {
      "text/html": [
       "<ol>\n",
       "\t<li>'abc'</li>\n",
       "\t<li>10</li>\n",
       "\t<li>FALSE</li>\n",
       "\t<li>2</li>\n",
       "</ol>\n"
      ],
      "text/latex": [
       "\\begin{enumerate}\n",
       "\\item 'abc'\n",
       "\\item 10\n",
       "\\item FALSE\n",
       "\\item 2\n",
       "\\end{enumerate}\n"
      ],
      "text/markdown": [
       "1. 'abc'\n",
       "2. 10\n",
       "3. FALSE\n",
       "4. 2\n",
       "\n",
       "\n"
      ],
      "text/plain": [
       "[[1]]\n",
       "[1] \"abc\"\n",
       "\n",
       "[[2]]\n",
       "[1] 10\n",
       "\n",
       "[[3]]\n",
       "[1] FALSE\n",
       "\n",
       "[[4]]\n",
       "[1] 2\n"
      ]
     },
     "metadata": {},
     "output_type": "display_data"
    }
   ],
   "source": [
    "z <- c(z,2)\n",
    "z"
   ]
  },
  {
   "cell_type": "code",
   "execution_count": 87,
   "id": "portuguese-arrival",
   "metadata": {},
   "outputs": [
    {
     "data": {
      "text/html": [
       "<dl>\n",
       "\t<dt>$alpha</dt>\n",
       "\t\t<dd>'abc'</dd>\n",
       "\t<dt>$beta</dt>\n",
       "\t\t<dd>10</dd>\n",
       "\t<dt>$gamma</dt>\n",
       "\t\t<dd>FALSE</dd>\n",
       "\t<dt>$&lt;NA&gt;</dt>\n",
       "\t\t<dd>2</dd>\n",
       "</dl>\n"
      ],
      "text/latex": [
       "\\begin{description}\n",
       "\\item[\\$alpha] 'abc'\n",
       "\\item[\\$beta] 10\n",
       "\\item[\\$gamma] FALSE\n",
       "\\item[\\$<NA>] 2\n",
       "\\end{description}\n"
      ],
      "text/markdown": [
       "$alpha\n",
       ":   'abc'\n",
       "$beta\n",
       ":   10\n",
       "$gamma\n",
       ":   FALSE\n",
       "$&lt;NA&gt;\n",
       ":   2\n",
       "\n",
       "\n"
      ],
      "text/plain": [
       "$alpha\n",
       "[1] \"abc\"\n",
       "\n",
       "$beta\n",
       "[1] 10\n",
       "\n",
       "$gamma\n",
       "[1] FALSE\n",
       "\n",
       "$<NA>\n",
       "[1] 2\n"
      ]
     },
     "metadata": {},
     "output_type": "display_data"
    }
   ],
   "source": [
    "names(z) <- c('alpha', 'beta', 'gamma')\n",
    "z"
   ]
  },
  {
   "cell_type": "code",
   "execution_count": 88,
   "id": "interior-grace",
   "metadata": {},
   "outputs": [
    {
     "data": {
      "text/html": [
       "10"
      ],
      "text/latex": [
       "10"
      ],
      "text/markdown": [
       "10"
      ],
      "text/plain": [
       "[1] 10"
      ]
     },
     "metadata": {},
     "output_type": "display_data"
    }
   ],
   "source": [
    "z$beta"
   ]
  },
  {
   "cell_type": "code",
   "execution_count": 89,
   "id": "third-portfolio",
   "metadata": {},
   "outputs": [
    {
     "data": {
      "text/html": [
       "<dl>\n",
       "\t<dt>$alpha</dt>\n",
       "\t\t<dd>'abc'</dd>\n",
       "\t<dt>$beta</dt>\n",
       "\t\t<dd>10</dd>\n",
       "\t<dt>$gamma</dt>\n",
       "\t\t<dd>FALSE</dd>\n",
       "</dl>\n"
      ],
      "text/latex": [
       "\\begin{description}\n",
       "\\item[\\$alpha] 'abc'\n",
       "\\item[\\$beta] 10\n",
       "\\item[\\$gamma] FALSE\n",
       "\\end{description}\n"
      ],
      "text/markdown": [
       "$alpha\n",
       ":   'abc'\n",
       "$beta\n",
       ":   10\n",
       "$gamma\n",
       ":   FALSE\n",
       "\n",
       "\n"
      ],
      "text/plain": [
       "$alpha\n",
       "[1] \"abc\"\n",
       "\n",
       "$beta\n",
       "[1] 10\n",
       "\n",
       "$gamma\n",
       "[1] FALSE\n"
      ]
     },
     "metadata": {},
     "output_type": "display_data"
    }
   ],
   "source": [
    "a <- list(alpha='abc', beta=10, gamma=FALSE)\n",
    "a"
   ]
  },
  {
   "cell_type": "code",
   "execution_count": 90,
   "id": "comfortable-founder",
   "metadata": {},
   "outputs": [
    {
     "data": {
      "text/html": [
       "<dl>\n",
       "\t<dt>$alpha</dt>\n",
       "\t\t<dd>'abc'</dd>\n",
       "\t<dt>$beta</dt>\n",
       "\t\t<dd>10</dd>\n",
       "\t<dt>$gamma</dt>\n",
       "\t\t<dd>FALSE</dd>\n",
       "\t<dt>$extra</dt>\n",
       "\t\t<dd>1</dd>\n",
       "</dl>\n"
      ],
      "text/latex": [
       "\\begin{description}\n",
       "\\item[\\$alpha] 'abc'\n",
       "\\item[\\$beta] 10\n",
       "\\item[\\$gamma] FALSE\n",
       "\\item[\\$extra] 1\n",
       "\\end{description}\n"
      ],
      "text/markdown": [
       "$alpha\n",
       ":   'abc'\n",
       "$beta\n",
       ":   10\n",
       "$gamma\n",
       ":   FALSE\n",
       "$extra\n",
       ":   1\n",
       "\n",
       "\n"
      ],
      "text/plain": [
       "$alpha\n",
       "[1] \"abc\"\n",
       "\n",
       "$beta\n",
       "[1] 10\n",
       "\n",
       "$gamma\n",
       "[1] FALSE\n",
       "\n",
       "$extra\n",
       "[1] 1\n"
      ]
     },
     "metadata": {},
     "output_type": "display_data"
    }
   ],
   "source": [
    "a$extra <-1\n",
    "a"
   ]
  },
  {
   "cell_type": "code",
   "execution_count": 91,
   "id": "sized-princeton",
   "metadata": {},
   "outputs": [
    {
     "data": {
      "text/html": [
       "<dl>\n",
       "\t<dt>$alpha</dt>\n",
       "\t\t<dd>'abc'</dd>\n",
       "\t<dt>$beta</dt>\n",
       "\t\t<dd>10</dd>\n",
       "\t<dt>$gamma</dt>\n",
       "\t\t<dd>FALSE</dd>\n",
       "</dl>\n"
      ],
      "text/latex": [
       "\\begin{description}\n",
       "\\item[\\$alpha] 'abc'\n",
       "\\item[\\$beta] 10\n",
       "\\item[\\$gamma] FALSE\n",
       "\\end{description}\n"
      ],
      "text/markdown": [
       "$alpha\n",
       ":   'abc'\n",
       "$beta\n",
       ":   10\n",
       "$gamma\n",
       ":   FALSE\n",
       "\n",
       "\n"
      ],
      "text/plain": [
       "$alpha\n",
       "[1] \"abc\"\n",
       "\n",
       "$beta\n",
       "[1] 10\n",
       "\n",
       "$gamma\n",
       "[1] FALSE\n"
      ]
     },
     "metadata": {},
     "output_type": "display_data"
    }
   ],
   "source": [
    "a$extra <- NULL\n",
    "a"
   ]
  },
  {
   "cell_type": "markdown",
   "id": "rubber-identification",
   "metadata": {},
   "source": [
    "To reset the extra back to Null value."
   ]
  },
  {
   "cell_type": "markdown",
   "id": "universal-temple",
   "metadata": {},
   "source": [
    "## Data Frame\n",
    "- data table with rows for cases and columns for variables\n",
    "- can contain columns of different data types\n",
    "- cannot do matrix multiplication"
   ]
  },
  {
   "cell_type": "code",
   "execution_count": 93,
   "id": "macro-assurance",
   "metadata": {},
   "outputs": [],
   "source": [
    "colnames(x) <- c('v1', 'v2')"
   ]
  },
  {
   "cell_type": "code",
   "execution_count": 96,
   "id": "private-helicopter",
   "metadata": {},
   "outputs": [
    {
     "ename": "ERROR",
     "evalue": "Error in x$v1: $ operator is invalid for atomic vectors\n",
     "output_type": "error",
     "traceback": [
      "Error in x$v1: $ operator is invalid for atomic vectors\nTraceback:\n"
     ]
    }
   ],
   "source": [
    "x$v1"
   ]
  },
  {
   "cell_type": "code",
   "execution_count": 97,
   "id": "popular-america",
   "metadata": {},
   "outputs": [
    {
     "data": {
      "text/html": [
       "<table>\n",
       "<thead><tr><th></th><th scope=col>v1</th><th scope=col>v2</th><th scope=col>v3</th></tr></thead>\n",
       "<tbody>\n",
       "\t<tr><th scope=row>a</th><td>4    </td><td>6    </td><td> TRUE</td></tr>\n",
       "\t<tr><th scope=row>b</th><td>5    </td><td>7    </td><td>FALSE</td></tr>\n",
       "</tbody>\n",
       "</table>\n"
      ],
      "text/latex": [
       "\\begin{tabular}{r|lll}\n",
       "  & v1 & v2 & v3\\\\\n",
       "\\hline\n",
       "\ta & 4     & 6     &  TRUE\\\\\n",
       "\tb & 5     & 7     & FALSE\\\\\n",
       "\\end{tabular}\n"
      ],
      "text/markdown": [
       "\n",
       "| <!--/--> | v1 | v2 | v3 |\n",
       "|---|---|---|---|\n",
       "| a | 4     | 6     |  TRUE |\n",
       "| b | 5     | 7     | FALSE |\n",
       "\n"
      ],
      "text/plain": [
       "  v1 v2 v3   \n",
       "a 4  6   TRUE\n",
       "b 5  7  FALSE"
      ]
     },
     "metadata": {},
     "output_type": "display_data"
    }
   ],
   "source": [
    "x.dataframe <- data.frame(x, v3=c(TRUE, FALSE))\n",
    "x.dataframe"
   ]
  },
  {
   "cell_type": "code",
   "execution_count": 99,
   "id": "increased-swimming",
   "metadata": {},
   "outputs": [
    {
     "data": {
      "text/html": [
       "<ol class=list-inline>\n",
       "\t<li>4</li>\n",
       "\t<li>5</li>\n",
       "</ol>\n"
      ],
      "text/latex": [
       "\\begin{enumerate*}\n",
       "\\item 4\n",
       "\\item 5\n",
       "\\end{enumerate*}\n"
      ],
      "text/markdown": [
       "1. 4\n",
       "2. 5\n",
       "\n",
       "\n"
      ],
      "text/plain": [
       "[1] 4 5"
      ]
     },
     "metadata": {},
     "output_type": "display_data"
    }
   ],
   "source": [
    "x.dataframe$v1"
   ]
  },
  {
   "cell_type": "code",
   "execution_count": 100,
   "id": "russian-expression",
   "metadata": {},
   "outputs": [
    {
     "data": {
      "text/html": [
       "<ol class=list-inline>\n",
       "\t<li>4</li>\n",
       "\t<li>5</li>\n",
       "</ol>\n"
      ],
      "text/latex": [
       "\\begin{enumerate*}\n",
       "\\item 4\n",
       "\\item 5\n",
       "\\end{enumerate*}\n"
      ],
      "text/markdown": [
       "1. 4\n",
       "2. 5\n",
       "\n",
       "\n"
      ],
      "text/plain": [
       "[1] 4 5"
      ]
     },
     "metadata": {},
     "output_type": "display_data"
    }
   ],
   "source": [
    "x.dataframe[, 'v1']"
   ]
  },
  {
   "cell_type": "code",
   "execution_count": 101,
   "id": "strategic-sandwich",
   "metadata": {},
   "outputs": [
    {
     "data": {
      "text/html": [
       "<dl class=dl-horizontal>\n",
       "\t<dt>v1</dt>\n",
       "\t\t<dd>4.5</dd>\n",
       "\t<dt>v2</dt>\n",
       "\t\t<dd>6.5</dd>\n",
       "\t<dt>v3</dt>\n",
       "\t\t<dd>0.5</dd>\n",
       "</dl>\n"
      ],
      "text/latex": [
       "\\begin{description*}\n",
       "\\item[v1] 4.5\n",
       "\\item[v2] 6.5\n",
       "\\item[v3] 0.5\n",
       "\\end{description*}\n"
      ],
      "text/markdown": [
       "v1\n",
       ":   4.5v2\n",
       ":   6.5v3\n",
       ":   0.5\n",
       "\n"
      ],
      "text/plain": [
       " v1  v2  v3 \n",
       "4.5 6.5 0.5 "
      ]
     },
     "metadata": {},
     "output_type": "display_data"
    }
   ],
   "source": [
    "colMeans(x.dataframe)"
   ]
  },
  {
   "cell_type": "code",
   "execution_count": 102,
   "id": "junior-consortium",
   "metadata": {},
   "outputs": [
    {
     "data": {
      "text/html": [
       "<table>\n",
       "<thead><tr><th></th><th scope=col>v1</th><th scope=col>v2</th><th scope=col>v3</th></tr></thead>\n",
       "<tbody>\n",
       "\t<tr><th scope=row>a</th><td>4    </td><td>6    </td><td> TRUE</td></tr>\n",
       "\t<tr><th scope=row>b</th><td>5    </td><td>7    </td><td>FALSE</td></tr>\n",
       "\t<tr><th scope=row>3</th><td>9    </td><td>8    </td><td> TRUE</td></tr>\n",
       "</tbody>\n",
       "</table>\n"
      ],
      "text/latex": [
       "\\begin{tabular}{r|lll}\n",
       "  & v1 & v2 & v3\\\\\n",
       "\\hline\n",
       "\ta & 4     & 6     &  TRUE\\\\\n",
       "\tb & 5     & 7     & FALSE\\\\\n",
       "\t3 & 9     & 8     &  TRUE\\\\\n",
       "\\end{tabular}\n"
      ],
      "text/markdown": [
       "\n",
       "| <!--/--> | v1 | v2 | v3 |\n",
       "|---|---|---|---|\n",
       "| a | 4     | 6     |  TRUE |\n",
       "| b | 5     | 7     | FALSE |\n",
       "| 3 | 9     | 8     |  TRUE |\n",
       "\n"
      ],
      "text/plain": [
       "  v1 v2 v3   \n",
       "a 4  6   TRUE\n",
       "b 5  7  FALSE\n",
       "3 9  8   TRUE"
      ]
     },
     "metadata": {},
     "output_type": "display_data"
    }
   ],
   "source": [
    "rbind(x.dataframe, list(v1=9, v2=8, v3=TRUE))"
   ]
  },
  {
   "cell_type": "code",
   "execution_count": 103,
   "id": "unusual-anaheim",
   "metadata": {},
   "outputs": [
    {
     "data": {
      "text/html": [
       "<table>\n",
       "<thead><tr><th></th><th scope=col>v1</th><th scope=col>v2</th><th scope=col>v3</th></tr></thead>\n",
       "<tbody>\n",
       "\t<tr><th scope=row>a</th><td>4</td><td>6</td><td>1</td></tr>\n",
       "\t<tr><th scope=row>b</th><td>5</td><td>7</td><td>0</td></tr>\n",
       "\t<tr><th scope=row>3</th><td>9</td><td>8</td><td>1</td></tr>\n",
       "</tbody>\n",
       "</table>\n"
      ],
      "text/latex": [
       "\\begin{tabular}{r|lll}\n",
       "  & v1 & v2 & v3\\\\\n",
       "\\hline\n",
       "\ta & 4 & 6 & 1\\\\\n",
       "\tb & 5 & 7 & 0\\\\\n",
       "\t3 & 9 & 8 & 1\\\\\n",
       "\\end{tabular}\n"
      ],
      "text/markdown": [
       "\n",
       "| <!--/--> | v1 | v2 | v3 |\n",
       "|---|---|---|---|\n",
       "| a | 4 | 6 | 1 |\n",
       "| b | 5 | 7 | 0 |\n",
       "| 3 | 9 | 8 | 1 |\n",
       "\n"
      ],
      "text/plain": [
       "  v1 v2 v3\n",
       "a 4  6  1 \n",
       "b 5  7  0 \n",
       "3 9  8  1 "
      ]
     },
     "metadata": {},
     "output_type": "display_data"
    }
   ],
   "source": [
    "rbind(x.dataframe, c(9,8,1))"
   ]
  },
  {
   "cell_type": "markdown",
   "id": "boolean-diversity",
   "metadata": {},
   "source": [
    "We knew that TRUE=1, FALSE=0, so in here what happened is R actually converted them back to numbers to have same data type for each columns."
   ]
  },
  {
   "cell_type": "markdown",
   "id": "temporal-thompson",
   "metadata": {},
   "source": [
    "# Useful Function\n",
    "## Solve Function"
   ]
  },
  {
   "cell_type": "code",
   "execution_count": 104,
   "id": "cooked-stewart",
   "metadata": {},
   "outputs": [
    {
     "data": {
      "text/html": [
       "<ol class=list-inline>\n",
       "\t<li>-175</li>\n",
       "\t<li>125</li>\n",
       "</ol>\n"
      ],
      "text/latex": [
       "\\begin{enumerate*}\n",
       "\\item -175\n",
       "\\item 125\n",
       "\\end{enumerate*}\n"
      ],
      "text/markdown": [
       "1. -175\n",
       "2. 125\n",
       "\n",
       "\n"
      ],
      "text/plain": [
       "[1] -175  125"
      ]
     },
     "metadata": {},
     "output_type": "display_data"
    }
   ],
   "source": [
    "A <- matrix(c(3,4,5,6), nrow=2)\n",
    "b <- c(100, 50)\n",
    "solve(A,b)"
   ]
  },
  {
   "cell_type": "code",
   "execution_count": 105,
   "id": "competent-wisdom",
   "metadata": {},
   "outputs": [
    {
     "data": {
      "text/html": [
       "<table>\n",
       "<tbody>\n",
       "\t<tr><td>100</td></tr>\n",
       "\t<tr><td> 50</td></tr>\n",
       "</tbody>\n",
       "</table>\n"
      ],
      "text/latex": [
       "\\begin{tabular}{l}\n",
       "\t 100\\\\\n",
       "\t  50\\\\\n",
       "\\end{tabular}\n"
      ],
      "text/markdown": [
       "\n",
       "| 100 |\n",
       "|  50 |\n",
       "\n"
      ],
      "text/plain": [
       "     [,1]\n",
       "[1,] 100 \n",
       "[2,]  50 "
      ]
     },
     "metadata": {},
     "output_type": "display_data"
    }
   ],
   "source": [
    "A %*% solve(A, b)"
   ]
  },
  {
   "cell_type": "code",
   "execution_count": 106,
   "id": "extraordinary-gates",
   "metadata": {},
   "outputs": [
    {
     "data": {
      "text/html": [
       "<table>\n",
       "<tbody>\n",
       "\t<tr><td>-3  </td><td> 2.5</td></tr>\n",
       "\t<tr><td> 2  </td><td>-1.5</td></tr>\n",
       "</tbody>\n",
       "</table>\n"
      ],
      "text/latex": [
       "\\begin{tabular}{ll}\n",
       "\t -3   &  2.5\\\\\n",
       "\t  2   & -1.5\\\\\n",
       "\\end{tabular}\n"
      ],
      "text/markdown": [
       "\n",
       "| -3   |  2.5 |\n",
       "|  2   | -1.5 |\n",
       "\n"
      ],
      "text/plain": [
       "     [,1] [,2]\n",
       "[1,] -3    2.5\n",
       "[2,]  2   -1.5"
      ]
     },
     "metadata": {},
     "output_type": "display_data"
    }
   ],
   "source": [
    "# inverts a matrix\n",
    "solve(A)"
   ]
  },
  {
   "cell_type": "code",
   "execution_count": 107,
   "id": "inside-artwork",
   "metadata": {},
   "outputs": [
    {
     "data": {
      "text/html": [
       "<table>\n",
       "<tbody>\n",
       "\t<tr><td>1</td><td>0</td></tr>\n",
       "\t<tr><td>0</td><td>1</td></tr>\n",
       "</tbody>\n",
       "</table>\n"
      ],
      "text/latex": [
       "\\begin{tabular}{ll}\n",
       "\t 1 & 0\\\\\n",
       "\t 0 & 1\\\\\n",
       "\\end{tabular}\n"
      ],
      "text/markdown": [
       "\n",
       "| 1 | 0 |\n",
       "| 0 | 1 |\n",
       "\n"
      ],
      "text/plain": [
       "     [,1] [,2]\n",
       "[1,] 1    0   \n",
       "[2,] 0    1   "
      ]
     },
     "metadata": {},
     "output_type": "display_data"
    }
   ],
   "source": [
    "A %*% solve(A)"
   ]
  },
  {
   "cell_type": "markdown",
   "id": "selective-karma",
   "metadata": {},
   "source": [
    "## Eigen Function"
   ]
  },
  {
   "cell_type": "code",
   "execution_count": 109,
   "id": "perceived-modem",
   "metadata": {},
   "outputs": [
    {
     "data": {
      "text/html": [
       "<table>\n",
       "<thead><tr><th></th><th scope=col>v1</th><th scope=col>v2</th></tr></thead>\n",
       "<tbody>\n",
       "\t<tr><th scope=row>a</th><td>4</td><td>6</td></tr>\n",
       "\t<tr><th scope=row>b</th><td>5</td><td>7</td></tr>\n",
       "</tbody>\n",
       "</table>\n"
      ],
      "text/latex": [
       "\\begin{tabular}{r|ll}\n",
       "  & v1 & v2\\\\\n",
       "\\hline\n",
       "\ta & 4 & 6\\\\\n",
       "\tb & 5 & 7\\\\\n",
       "\\end{tabular}\n"
      ],
      "text/markdown": [
       "\n",
       "| <!--/--> | v1 | v2 |\n",
       "|---|---|---|\n",
       "| a | 4 | 6 |\n",
       "| b | 5 | 7 |\n",
       "\n"
      ],
      "text/plain": [
       "  v1 v2\n",
       "a 4  6 \n",
       "b 5  7 "
      ]
     },
     "metadata": {},
     "output_type": "display_data"
    }
   ],
   "source": [
    "x"
   ]
  },
  {
   "cell_type": "code",
   "execution_count": 108,
   "id": "digital-monte",
   "metadata": {},
   "outputs": [
    {
     "data": {
      "text/plain": [
       "eigen() decomposition\n",
       "$values\n",
       "[1] 11.1789083 -0.1789083\n",
       "\n",
       "$vectors\n",
       "           [,1]       [,2]\n",
       "[1,] -0.6412924 -0.8205848\n",
       "[2,] -0.7672966  0.5715248\n"
      ]
     },
     "metadata": {},
     "output_type": "display_data"
    }
   ],
   "source": [
    "eigen(x)"
   ]
  },
  {
   "cell_type": "code",
   "execution_count": 110,
   "id": "wound-northeast",
   "metadata": {},
   "outputs": [
    {
     "data": {
      "text/html": [
       "'eigen'"
      ],
      "text/latex": [
       "'eigen'"
      ],
      "text/markdown": [
       "'eigen'"
      ],
      "text/plain": [
       "[1] \"eigen\""
      ]
     },
     "metadata": {},
     "output_type": "display_data"
    }
   ],
   "source": [
    "class(eigen(x))"
   ]
  },
  {
   "cell_type": "code",
   "execution_count": 111,
   "id": "fatal-bulgarian",
   "metadata": {},
   "outputs": [
    {
     "name": "stdout",
     "output_type": "stream",
     "text": [
      "List of 2\n",
      " $ values : num [1:2] 11.179 -0.179\n",
      " $ vectors: num [1:2, 1:2] -0.641 -0.767 -0.821 0.572\n",
      " - attr(*, \"class\")= chr \"eigen\"\n"
     ]
    }
   ],
   "source": [
    "str(eigen(x))"
   ]
  },
  {
   "cell_type": "code",
   "execution_count": 112,
   "id": "particular-riverside",
   "metadata": {},
   "outputs": [
    {
     "data": {
      "text/html": [
       "<table>\n",
       "<tbody>\n",
       "\t<tr><th scope=row>a</th><td> 0.1468095</td></tr>\n",
       "\t<tr><th scope=row>b</th><td>-0.1022506</td></tr>\n",
       "</tbody>\n",
       "</table>\n"
      ],
      "text/latex": [
       "\\begin{tabular}{r|l}\n",
       "\ta &  0.1468095\\\\\n",
       "\tb & -0.1022506\\\\\n",
       "\\end{tabular}\n"
      ],
      "text/markdown": [
       "\n",
       "| a |  0.1468095 |\n",
       "| b | -0.1022506 |\n",
       "\n"
      ],
      "text/plain": [
       "  [,1]      \n",
       "a  0.1468095\n",
       "b -0.1022506"
      ]
     },
     "metadata": {},
     "output_type": "display_data"
    }
   ],
   "source": [
    "x %*% eigen(x)$vectors[,2]"
   ]
  },
  {
   "cell_type": "code",
   "execution_count": 113,
   "id": "hindu-matthew",
   "metadata": {},
   "outputs": [
    {
     "data": {
      "text/html": [
       "-0.178908345800274"
      ],
      "text/latex": [
       "-0.178908345800274"
      ],
      "text/markdown": [
       "-0.178908345800274"
      ],
      "text/plain": [
       "[1] -0.1789083"
      ]
     },
     "metadata": {},
     "output_type": "display_data"
    }
   ],
   "source": [
    "eigen(x)[[1]][[2]]"
   ]
  }
 ],
 "metadata": {
  "kernelspec": {
   "display_name": "R",
   "language": "R",
   "name": "ir"
  },
  "language_info": {
   "codemirror_mode": "r",
   "file_extension": ".r",
   "mimetype": "text/x-r-source",
   "name": "R",
   "pygments_lexer": "r",
   "version": "3.6.1"
  },
  "toc": {
   "base_numbering": 1,
   "nav_menu": {},
   "number_sections": true,
   "sideBar": true,
   "skip_h1_title": false,
   "title_cell": "Table of Contents",
   "title_sidebar": "Contents",
   "toc_cell": false,
   "toc_position": {},
   "toc_section_display": true,
   "toc_window_display": true
  },
  "varInspector": {
   "cols": {
    "lenName": 16,
    "lenType": 16,
    "lenVar": 40
   },
   "kernels_config": {
    "python": {
     "delete_cmd_postfix": "",
     "delete_cmd_prefix": "del ",
     "library": "var_list.py",
     "varRefreshCmd": "print(var_dic_list())"
    },
    "r": {
     "delete_cmd_postfix": ") ",
     "delete_cmd_prefix": "rm(",
     "library": "var_list.r",
     "varRefreshCmd": "cat(var_dic_list()) "
    }
   },
   "types_to_exclude": [
    "module",
    "function",
    "builtin_function_or_method",
    "instance",
    "_Feature"
   ],
   "window_display": false
  }
 },
 "nbformat": 4,
 "nbformat_minor": 5
}
