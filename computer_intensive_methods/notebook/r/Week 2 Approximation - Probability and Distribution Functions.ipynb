{
 "cells": [
  {
   "cell_type": "markdown",
   "id": "jewish-gentleman",
   "metadata": {},
   "source": [
    "Reference: Lecture Notes"
   ]
  },
  {
   "cell_type": "markdown",
   "id": "greek-hawaiian",
   "metadata": {},
   "source": [
    "# General Methods in Approximation\n",
    "- Approximate transformation of random variables\n",
    "- Closed form approximations\n",
    "- General series expansion\n",
    "- Exact relationship between distributions\n",
    "- Numerical root finding\n",
    "- Continued fractions\n",
    "- Gaussian quadrature\n",
    "- Newton-cotes qaudrature"
   ]
  },
  {
   "cell_type": "markdown",
   "id": "cubic-exhibit",
   "metadata": {},
   "source": [
    "## Approximate Transformation of Random Variables"
   ]
  },
  {
   "cell_type": "code",
   "execution_count": 1,
   "id": "pursuant-judgment",
   "metadata": {},
   "outputs": [],
   "source": [
    "# generating 10 samples for normal distribution\n",
    "n <- 10\n",
    "\n",
    "# p percentage points of standard normal (x_p) \n",
    "# and the chi-square(X) distributions\n",
    "p <- c(0.05, 0.1, 0.25, 0.5, 0.75, 0.90, 0.95)\n",
    "\n",
    "\n",
    "approx1 <- function(p, n){\n",
    "    return((1/2) * (qnorm(p) + sqrt(2*n - 1)) ^ 2)\n",
    "    \n",
    "}"
   ]
  },
  {
   "cell_type": "code",
   "execution_count": 2,
   "id": "neutral-alberta",
   "metadata": {},
   "outputs": [],
   "source": [
    "n <- 10\n",
    "p <- c(0.05, 0.1, 0.25, 0.5, 0.75, 0.90, 0.95)\n",
    "x <- data.frame(p, approximation=approx1(p, n), exact=qchisq(p, n))"
   ]
  },
  {
   "cell_type": "code",
   "execution_count": 3,
   "id": "retired-hands",
   "metadata": {},
   "outputs": [
    {
     "data": {
      "text/html": [
       "<table>\n",
       "<thead><tr><th scope=col>p</th><th scope=col>approximation</th><th scope=col>exact</th></tr></thead>\n",
       "<tbody>\n",
       "\t<tr><td>0.05     </td><td> 3.683021</td><td> 3.940299</td></tr>\n",
       "\t<tr><td>0.10     </td><td> 4.735033</td><td> 4.865182</td></tr>\n",
       "\t<tr><td>0.25     </td><td> 6.787436</td><td> 6.737201</td></tr>\n",
       "\t<tr><td>0.50     </td><td> 9.500000</td><td> 9.341818</td></tr>\n",
       "\t<tr><td>0.75     </td><td>12.667501</td><td>12.548861</td></tr>\n",
       "\t<tr><td>0.90     </td><td>15.907341</td><td>15.987179</td></tr>\n",
       "\t<tr><td>0.95     </td><td>18.022522</td><td>18.307038</td></tr>\n",
       "</tbody>\n",
       "</table>\n"
      ],
      "text/latex": [
       "\\begin{tabular}{r|lll}\n",
       " p & approximation & exact\\\\\n",
       "\\hline\n",
       "\t 0.05      &  3.683021 &  3.940299\\\\\n",
       "\t 0.10      &  4.735033 &  4.865182\\\\\n",
       "\t 0.25      &  6.787436 &  6.737201\\\\\n",
       "\t 0.50      &  9.500000 &  9.341818\\\\\n",
       "\t 0.75      & 12.667501 & 12.548861\\\\\n",
       "\t 0.90      & 15.907341 & 15.987179\\\\\n",
       "\t 0.95      & 18.022522 & 18.307038\\\\\n",
       "\\end{tabular}\n"
      ],
      "text/markdown": [
       "\n",
       "| p | approximation | exact |\n",
       "|---|---|---|\n",
       "| 0.05      |  3.683021 |  3.940299 |\n",
       "| 0.10      |  4.735033 |  4.865182 |\n",
       "| 0.25      |  6.787436 |  6.737201 |\n",
       "| 0.50      |  9.500000 |  9.341818 |\n",
       "| 0.75      | 12.667501 | 12.548861 |\n",
       "| 0.90      | 15.907341 | 15.987179 |\n",
       "| 0.95      | 18.022522 | 18.307038 |\n",
       "\n"
      ],
      "text/plain": [
       "  p    approximation exact    \n",
       "1 0.05  3.683021      3.940299\n",
       "2 0.10  4.735033      4.865182\n",
       "3 0.25  6.787436      6.737201\n",
       "4 0.50  9.500000      9.341818\n",
       "5 0.75 12.667501     12.548861\n",
       "6 0.90 15.907341     15.987179\n",
       "7 0.95 18.022522     18.307038"
      ]
     },
     "metadata": {},
     "output_type": "display_data"
    }
   ],
   "source": [
    "x"
   ]
  },
  {
   "cell_type": "markdown",
   "id": "progressive-consensus",
   "metadata": {},
   "source": [
    "We try an approximation function to ease our simulation. In this scenario, it's hard to generate a chi-square distribution. Hence we use an approximation function to generate one more steps from standard normal distribution.\n",
    "\n",
    "However, we have an ready input function from R so we can compare how off it is from the exact real number."
   ]
  },
  {
   "cell_type": "markdown",
   "id": "square-contrast",
   "metadata": {},
   "source": [
    "## Close Form Approximations\n",
    "- Not covered in depth\n",
    "- Used to fit an approximating function that is simpler in form but models the behavior of a given probability function 𝐹(𝑥). Typically, a polynomial or rational fraction approximating function is used.\n",
    "- Horner’s rule"
   ]
  },
  {
   "cell_type": "code",
   "execution_count": 4,
   "id": "associate-bleeding",
   "metadata": {},
   "outputs": [],
   "source": [
    "approx2 <- function(x, a){\n",
    "    n <- length(a)\n",
    "    h <- a[n]*x + a[n-1]\n",
    "    for (i in (n-1):2){\n",
    "        h <- h*x + a[i-1]\n",
    "    }\n",
    "    return(h)\n",
    "}"
   ]
  },
  {
   "cell_type": "code",
   "execution_count": 5,
   "id": "leading-vertical",
   "metadata": {},
   "outputs": [
    {
     "data": {
      "text/html": [
       "<ol class=list-inline>\n",
       "\t<li>1</li>\n",
       "\t<li>1.0649328</li>\n",
       "\t<li>1.1500608</li>\n",
       "\t<li>1.2599248</li>\n",
       "\t<li>1.4020608</li>\n",
       "\t<li>1.587</li>\n",
       "</ol>\n"
      ],
      "text/latex": [
       "\\begin{enumerate*}\n",
       "\\item 1\n",
       "\\item 1.0649328\n",
       "\\item 1.1500608\n",
       "\\item 1.2599248\n",
       "\\item 1.4020608\n",
       "\\item 1.587\n",
       "\\end{enumerate*}\n"
      ],
      "text/markdown": [
       "1. 1\n",
       "2. 1.0649328\n",
       "3. 1.1500608\n",
       "4. 1.2599248\n",
       "5. 1.4020608\n",
       "6. 1.587\n",
       "\n",
       "\n"
      ],
      "text/plain": [
       "[1] 1.000000 1.064933 1.150061 1.259925 1.402061 1.587000"
      ]
     },
     "metadata": {},
     "output_type": "display_data"
    }
   ],
   "source": [
    "x <- seq(0, 1, by=0.2)\n",
    "a <- c(1, 0.278, 0.23, 0.001, 0.078)\n",
    "approx2(x, a)"
   ]
  },
  {
   "cell_type": "markdown",
   "id": "ancient-confidence",
   "metadata": {},
   "source": [
    "## General Series Expansion\n",
    "- Not going into details\n",
    "- Series expansion of various types can be derived and used as a basis for developing computing algorithms. In some cases, the first few terms for an expansion are used to provide an approximation of the type described in the section on approximating transformation of random variables. (truncation)\n",
    "\n",
    "## Exact Relationships between Distribution\n",
    "- There are many instances where exact relationships exist betwen distributions\n",
    "- Example: F and Beta distributions are related through their cdf.\n",
    "\n",
    "## Numerical Root Finding\n",
    "- Not a must to find global roots but local roots.\n",
    "- Eg.\n",
    "    - Newton's method\n",
    "    - Secant method\n",
    "    - Bisection method\n",
    "- Bisection converges more slowly that the Newton’s and secant methods, but does not use derivatives, avoids potential numeric problems found in secant method and maintains a bracket of the root throughout all iterations.\n",
    "- please go through newton, secant and bisection method"
   ]
  },
  {
   "cell_type": "code",
   "execution_count": null,
   "id": "played-zambia",
   "metadata": {},
   "outputs": [],
   "source": [
    "# psi of x\n",
    "pnorm"
   ]
  },
  {
   "cell_type": "markdown",
   "id": "specified-lyric",
   "metadata": {},
   "source": [
    "## Continue Fractions"
   ]
  },
  {
   "cell_type": "markdown",
   "id": "sticky-truth",
   "metadata": {},
   "source": [
    "## Quadrature\n",
    "- decide what quadrature formula to use\n",
    "    - finite form: legendre-gauss\n",
    "    - other form of quadrature"
   ]
  }
 ],
 "metadata": {
  "kernelspec": {
   "display_name": "R",
   "language": "R",
   "name": "ir"
  },
  "language_info": {
   "codemirror_mode": "r",
   "file_extension": ".r",
   "mimetype": "text/x-r-source",
   "name": "R",
   "pygments_lexer": "r",
   "version": "3.6.1"
  },
  "toc": {
   "base_numbering": 1,
   "nav_menu": {},
   "number_sections": true,
   "sideBar": true,
   "skip_h1_title": false,
   "title_cell": "Table of Contents",
   "title_sidebar": "Contents",
   "toc_cell": false,
   "toc_position": {},
   "toc_section_display": true,
   "toc_window_display": false
  },
  "varInspector": {
   "cols": {
    "lenName": 16,
    "lenType": 16,
    "lenVar": 40
   },
   "kernels_config": {
    "python": {
     "delete_cmd_postfix": "",
     "delete_cmd_prefix": "del ",
     "library": "var_list.py",
     "varRefreshCmd": "print(var_dic_list())"
    },
    "r": {
     "delete_cmd_postfix": ") ",
     "delete_cmd_prefix": "rm(",
     "library": "var_list.r",
     "varRefreshCmd": "cat(var_dic_list()) "
    }
   },
   "types_to_exclude": [
    "module",
    "function",
    "builtin_function_or_method",
    "instance",
    "_Feature"
   ],
   "window_display": false
  }
 },
 "nbformat": 4,
 "nbformat_minor": 5
}
