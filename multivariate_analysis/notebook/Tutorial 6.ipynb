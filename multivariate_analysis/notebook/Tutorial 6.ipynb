{
 "cells": [
  {
   "cell_type": "markdown",
   "metadata": {},
   "source": [
    "# Q1"
   ]
  },
  {
   "cell_type": "code",
   "execution_count": 1,
   "metadata": {},
   "outputs": [],
   "source": [
    "library('psych')"
   ]
  },
  {
   "cell_type": "markdown",
   "metadata": {},
   "source": [
    "- https://www.geo.fu-berlin.de/en/v/soga/Geodata-analysis/factor-analysis/A-simple-example-of-FA/index.html\n",
    "- http://rtutorialseries.blogspot.com/2011/10/r-tutorial-series-exploratory-factor.html"
   ]
  },
  {
   "cell_type": "code",
   "execution_count": 2,
   "metadata": {},
   "outputs": [],
   "source": [
    "q1.cov <- matrix(c(1, 0.63, 0.45, 0.63, 1, 0.35, 0.45, 0.35, 1), nrow=3, ncol=3, byrow=TRUE)"
   ]
  },
  {
   "cell_type": "markdown",
   "metadata": {},
   "source": [
    "## Q1(a)"
   ]
  },
  {
   "cell_type": "code",
   "execution_count": 3,
   "metadata": {},
   "outputs": [
    {
     "data": {
      "text/plain": [
       "\n",
       "Call:\n",
       "factanal(factors = 1, covmat = q1.cov, rotation = \"none\")\n",
       "\n",
       "Uniquenesses:\n",
       "[1] 0.19 0.51 0.75\n",
       "\n",
       "Loadings:\n",
       "     Factor1\n",
       "[1,] 0.9    \n",
       "[2,] 0.7    \n",
       "[3,] 0.5    \n",
       "\n",
       "               Factor1\n",
       "SS loadings      1.550\n",
       "Proportion Var   0.517\n",
       "\n",
       "The degrees of freedom for the model is 0 and the fit was 0 "
      ]
     },
     "metadata": {},
     "output_type": "display_data"
    }
   ],
   "source": [
    "q1.fa <- factanal(covmat=q1.cov, factors=1, rotation='none')\n",
    "q1.fa"
   ]
  },
  {
   "cell_type": "markdown",
   "metadata": {},
   "source": [
    "## Q1(b)"
   ]
  },
  {
   "cell_type": "markdown",
   "metadata": {},
   "source": [
    "### Q1(b)(i) Communalities"
   ]
  },
  {
   "cell_type": "code",
   "execution_count": 4,
   "metadata": {},
   "outputs": [
    {
     "data": {
      "text/html": [
       "<ol class=list-inline>\n",
       "\t<li>0.809996292898082</li>\n",
       "\t<li>0.490001056980482</li>\n",
       "\t<li>0.250000842303687</li>\n",
       "</ol>\n"
      ],
      "text/latex": [
       "\\begin{enumerate*}\n",
       "\\item 0.809996292898082\n",
       "\\item 0.490001056980482\n",
       "\\item 0.250000842303687\n",
       "\\end{enumerate*}\n"
      ],
      "text/markdown": [
       "1. 0.809996292898082\n",
       "2. 0.490001056980482\n",
       "3. 0.250000842303687\n",
       "\n",
       "\n"
      ],
      "text/plain": [
       "[1] 0.8099963 0.4900011 0.2500008"
      ]
     },
     "metadata": {},
     "output_type": "display_data"
    }
   ],
   "source": [
    "q1.fa$comm <- apply(q1.fa$loadings^2,1,sum)\n",
    "q1.fa$comm"
   ]
  },
  {
   "cell_type": "markdown",
   "metadata": {},
   "source": [
    "h1 have the greatest weight among all other factors.\n",
    "The communalities are those parts of the vairances of the variables explained by the single factor."
   ]
  },
  {
   "cell_type": "markdown",
   "metadata": {},
   "source": [
    "### Q1(b)(ii) Corr"
   ]
  },
  {
   "cell_type": "code",
   "execution_count": 5,
   "metadata": {},
   "outputs": [
    {
     "data": {
      "text/plain": [
       "\n",
       "Loadings:\n",
       "     Factor1\n",
       "[1,] 0.9    \n",
       "[2,] 0.7    \n",
       "[3,] 0.5    \n",
       "\n",
       "               Factor1\n",
       "SS loadings      1.550\n",
       "Proportion Var   0.517"
      ]
     },
     "metadata": {},
     "output_type": "display_data"
    }
   ],
   "source": [
    "q1.fa$loadings"
   ]
  },
  {
   "cell_type": "markdown",
   "metadata": {},
   "source": [
    "Z1 carry the most weight."
   ]
  },
  {
   "cell_type": "markdown",
   "metadata": {},
   "source": [
    "## Q1(c)"
   ]
  },
  {
   "cell_type": "code",
   "execution_count": 6,
   "metadata": {},
   "outputs": [
    {
     "data": {
      "text/plain": [
       "eigen() decomposition\n",
       "$values\n",
       "[1] 1.9632830 0.6794930 0.3572239\n",
       "\n",
       "$vectors\n",
       "           [,1]       [,2]       [,3]\n",
       "[1,] -0.6250027  0.2186276  0.7493822\n",
       "[2,] -0.5931510  0.4910833 -0.6379726\n",
       "[3,] -0.5074875 -0.8432314 -0.1772492\n"
      ]
     },
     "metadata": {},
     "output_type": "display_data"
    }
   ],
   "source": [
    "q1.eigen <- eigen(q1.cov)\n",
    "q1.eigen"
   ]
  },
  {
   "cell_type": "markdown",
   "metadata": {},
   "source": [
    "### Q1(c)(i)"
   ]
  },
  {
   "cell_type": "code",
   "execution_count": 7,
   "metadata": {},
   "outputs": [
    {
     "data": {
      "text/html": [
       "<ol class=list-inline>\n",
       "\t<li>-0.875736283329767</li>\n",
       "\t<li>-0.831106596553663</li>\n",
       "\t<li>-0.711077230326866</li>\n",
       "</ol>\n"
      ],
      "text/latex": [
       "\\begin{enumerate*}\n",
       "\\item -0.875736283329767\n",
       "\\item -0.831106596553663\n",
       "\\item -0.711077230326866\n",
       "\\end{enumerate*}\n"
      ],
      "text/markdown": [
       "1. -0.875736283329767\n",
       "2. -0.831106596553663\n",
       "3. -0.711077230326866\n",
       "\n",
       "\n"
      ],
      "text/plain": [
       "[1] -0.8757363 -0.8311066 -0.7110772"
      ]
     },
     "metadata": {},
     "output_type": "display_data"
    },
    {
     "data": {
      "text/plain": [
       "\n",
       "Loadings:\n",
       "     Factor1\n",
       "[1,] 0.9    \n",
       "[2,] 0.7    \n",
       "[3,] 0.5    \n",
       "\n",
       "               Factor1\n",
       "SS loadings      1.550\n",
       "Proportion Var   0.517"
      ]
     },
     "metadata": {},
     "output_type": "display_data"
    }
   ],
   "source": [
    "q1.pc <- sqrt(q1.eigen$values[1]) * q1.eigen$vectors[,1]\n",
    "q1.pc\n",
    "q1.fa$loadings"
   ]
  },
  {
   "cell_type": "markdown",
   "metadata": {},
   "source": [
    "Slightly different."
   ]
  },
  {
   "cell_type": "markdown",
   "metadata": {},
   "source": [
    "### Q1(c)(ii)"
   ]
  },
  {
   "cell_type": "code",
   "execution_count": 8,
   "metadata": {},
   "outputs": [
    {
     "name": "stdout",
     "output_type": "stream",
     "text": [
      "[1] \"Proportion:\"\n",
      "[1] 0.6544277\n",
      "[1] 0.2264977\n",
      "[1] 0.1190746\n"
     ]
    },
    {
     "data": {
      "text/html": [
       "0.654427680088192"
      ],
      "text/latex": [
       "0.654427680088192"
      ],
      "text/markdown": [
       "0.654427680088192"
      ],
      "text/plain": [
       "[1] 0.6544277"
      ]
     },
     "metadata": {},
     "output_type": "display_data"
    }
   ],
   "source": [
    "print('Proportion:')\n",
    "for (s in q1.eigen$values) {\n",
    "  print(s / sum(q1.eigen$values))\n",
    "}\n",
    "\n",
    "q1.pc.first_proportion <- q1.eigen$values[1] / sum(q1.eigen$values)\n",
    "q1.pc.first_proportion"
   ]
  },
  {
   "cell_type": "markdown",
   "metadata": {},
   "source": [
    "# Q2"
   ]
  },
  {
   "cell_type": "code",
   "execution_count": 9,
   "metadata": {},
   "outputs": [
    {
     "data": {
      "text/html": [
       "<table>\n",
       "<thead><tr><th scope=col>x1</th><th scope=col>x2</th><th scope=col>x3</th><th scope=col>x4</th><th scope=col>x5</th><th scope=col>x6</th><th scope=col>x7</th></tr></thead>\n",
       "<tbody>\n",
       "\t<tr><td> 8 </td><td> 98</td><td>7  </td><td>2  </td><td>12 </td><td> 8 </td><td>2  </td></tr>\n",
       "\t<tr><td> 7 </td><td>107</td><td>4  </td><td>3  </td><td> 9 </td><td> 5 </td><td>3  </td></tr>\n",
       "\t<tr><td> 7 </td><td>103</td><td>4  </td><td>3  </td><td> 5 </td><td> 6 </td><td>3  </td></tr>\n",
       "\t<tr><td>10 </td><td> 88</td><td>5  </td><td>2  </td><td> 8 </td><td>15 </td><td>4  </td></tr>\n",
       "\t<tr><td> 6 </td><td> 91</td><td>4  </td><td>2  </td><td> 8 </td><td>10 </td><td>3  </td></tr>\n",
       "\t<tr><td> 8 </td><td> 90</td><td>5  </td><td>2  </td><td>12 </td><td>12 </td><td>4  </td></tr>\n",
       "</tbody>\n",
       "</table>\n"
      ],
      "text/latex": [
       "\\begin{tabular}{r|lllllll}\n",
       " x1 & x2 & x3 & x4 & x5 & x6 & x7\\\\\n",
       "\\hline\n",
       "\t  8  &  98 & 7   & 2   & 12  &  8  & 2  \\\\\n",
       "\t  7  & 107 & 4   & 3   &  9  &  5  & 3  \\\\\n",
       "\t  7  & 103 & 4   & 3   &  5  &  6  & 3  \\\\\n",
       "\t 10  &  88 & 5   & 2   &  8  & 15  & 4  \\\\\n",
       "\t  6  &  91 & 4   & 2   &  8  & 10  & 3  \\\\\n",
       "\t  8  &  90 & 5   & 2   & 12  & 12  & 4  \\\\\n",
       "\\end{tabular}\n"
      ],
      "text/markdown": [
       "\n",
       "| x1 | x2 | x3 | x4 | x5 | x6 | x7 |\n",
       "|---|---|---|---|---|---|---|\n",
       "|  8  |  98 | 7   | 2   | 12  |  8  | 2   |\n",
       "|  7  | 107 | 4   | 3   |  9  |  5  | 3   |\n",
       "|  7  | 103 | 4   | 3   |  5  |  6  | 3   |\n",
       "| 10  |  88 | 5   | 2   |  8  | 15  | 4   |\n",
       "|  6  |  91 | 4   | 2   |  8  | 10  | 3   |\n",
       "|  8  |  90 | 5   | 2   | 12  | 12  | 4   |\n",
       "\n"
      ],
      "text/plain": [
       "  x1 x2  x3 x4 x5 x6 x7\n",
       "1  8  98 7  2  12  8 2 \n",
       "2  7 107 4  3   9  5 3 \n",
       "3  7 103 4  3   5  6 3 \n",
       "4 10  88 5  2   8 15 4 \n",
       "5  6  91 4  2   8 10 3 \n",
       "6  8  90 5  2  12 12 4 "
      ]
     },
     "metadata": {},
     "output_type": "display_data"
    }
   ],
   "source": [
    "path <- '../data/pollution.csv'\n",
    "q2 <- read.csv(path, fileEncoding=\"UTF-8-BOM\")\n",
    "head(q2)"
   ]
  },
  {
   "cell_type": "markdown",
   "metadata": {},
   "source": [
    "## Q2(a)"
   ]
  },
  {
   "cell_type": "code",
   "execution_count": 10,
   "metadata": {},
   "outputs": [],
   "source": [
    "q2 <- q2[, c(1,2,5,6)]"
   ]
  },
  {
   "cell_type": "code",
   "execution_count": 11,
   "metadata": {},
   "outputs": [
    {
     "data": {
      "text/plain": [
       "Factor Analysis using method =  ml\n",
       "Call: fa(r = q2, nfactors = 1, rotate = \"none\", scores = \"regression\", \n",
       "    covar = TRUE, fm = \"ml\")\n",
       "Unstandardized loadings (pattern matrix) based upon covariance matrix\n",
       "     ML1      h2   u2    H2   U2\n",
       "x1 -0.19   0.035  2.5 0.014 0.99\n",
       "x2 16.39 268.483 32.0 0.893 0.11\n",
       "x5  0.44   0.190 11.2 0.017 0.98\n",
       "x6  1.91   3.636 27.3 0.117 0.88\n",
       "\n",
       "                  ML1\n",
       "SS loadings    272.34\n",
       "Proportion Var   0.79\n",
       "\n",
       " Standardized loadings (pattern matrix)\n",
       "   V   ML1    h2   u2\n",
       "x1 1 -0.12 0.014 0.99\n",
       "x2 2  0.95 0.893 0.11\n",
       "x5 3  0.13 0.017 0.98\n",
       "x6 4  0.34 0.117 0.88\n",
       "\n",
       "                ML1\n",
       "SS loadings    3.15\n",
       "Proportion Var 0.79\n",
       "\n",
       "Mean item complexity =  1\n",
       "Test of the hypothesis that 1 factor is sufficient.\n",
       "\n",
       "The degrees of freedom for the null model are  6  and the objective function was  329.08 with Chi Square of  12779.43\n",
       "The degrees of freedom for the model are 2  and the objective function was  0.08 \n",
       "\n",
       "The root mean square of the residuals (RMSR) is  1.26 \n",
       "The df corrected root mean square of the residuals is  2.18 \n",
       "\n",
       "The harmonic number of observations is  42 with the empirical chi square  795.51  with prob <  1.8e-173 \n",
       "The total number of observations was  42  with Likelihood Chi Square =  2.94  with prob <  0.23 \n",
       "\n",
       "Tucker Lewis Index of factoring reliability =  1\n",
       "RMSEA index =  0.119  and the 90 % confidence intervals are  0 0.347\n",
       "BIC =  -4.54\n",
       "Fit based upon off diagonal values = 0.99\n",
       "Measures of factor score adequacy             \n",
       "                                                   ML1\n",
       "Correlation of (regression) scores with factors   0.95\n",
       "Multiple R square of scores with factors          0.90\n",
       "Minimum correlation of possible factor scores     0.79"
      ]
     },
     "metadata": {},
     "output_type": "display_data"
    }
   ],
   "source": [
    "q2.cov.fa.a1 <- fa(r=q2, covar = TRUE, nfactors = 1, fm='ml', rotate='none', scores='regression')\n",
    "q2.cov.fa.a1"
   ]
  },
  {
   "cell_type": "code",
   "execution_count": 12,
   "metadata": {
    "scrolled": false
   },
   "outputs": [
    {
     "data": {
      "text/plain": [
       "Factor Analysis using method =  ml\n",
       "Call: fa(r = q2, nfactors = 2, rotate = \"none\", scores = \"regression\", \n",
       "    covar = TRUE, fm = \"ml\")\n",
       "Unstandardized loadings (pattern matrix) based upon covariance matrix\n",
       "     ML1   ML2     h2   u2    H2   U2\n",
       "x1 -0.20 -0.64   0.45  2.1 0.179 0.82\n",
       "x2 16.37 -0.79 268.64 31.9 0.894 0.11\n",
       "x5  0.45  0.78   0.80 10.6 0.071 0.93\n",
       "x6  2.02  2.86  12.26 18.7 0.396 0.60\n",
       "\n",
       "                         ML1  ML2\n",
       "SS loadings           272.34 9.81\n",
       "Proportion Var          0.79 0.03\n",
       "Cumulative Var          0.79 0.82\n",
       "Proportion Explained    0.97 0.03\n",
       "Cumulative Proportion   0.97 1.00\n",
       "\n",
       " Standardized loadings (pattern matrix)\n",
       "   item   ML1   ML2    h2   u2\n",
       "x1    1 -0.13 -0.40 0.179 0.82\n",
       "x2    2  0.94 -0.05 0.894 0.11\n",
       "x5    3  0.13  0.23 0.071 0.93\n",
       "x6    4  0.36  0.51 0.396 0.60\n",
       "\n",
       "                 ML1  ML2\n",
       "SS loadings     1.06 0.48\n",
       "Proportion Var  0.26 0.12\n",
       "Cumulative Var  0.26 0.38\n",
       "Cum. factor Var 0.69 1.00\n",
       "\n",
       "Mean item complexity =  1.4\n",
       "Test of the hypothesis that 2 factors are sufficient.\n",
       "\n",
       "The degrees of freedom for the null model are  6  and the objective function was  329.08 with Chi Square of  12779.43\n",
       "The degrees of freedom for the model are -1  and the objective function was  0 \n",
       "\n",
       "The root mean square of the residuals (RMSR) is  0 \n",
       "The df corrected root mean square of the residuals is  NA \n",
       "\n",
       "The harmonic number of observations is  42 with the empirical chi square  0  with prob <  NA \n",
       "The total number of observations was  42  with Likelihood Chi Square =  0  with prob <  NA \n",
       "\n",
       "Tucker Lewis Index of factoring reliability =  1\n",
       "Fit based upon off diagonal values = 1\n",
       "Measures of factor score adequacy             \n",
       "                                                   ML1   ML2\n",
       "Correlation of (regression) scores with factors   0.95  0.64\n",
       "Multiple R square of scores with factors          0.90  0.42\n",
       "Minimum correlation of possible factor scores     0.79 -0.17"
      ]
     },
     "metadata": {},
     "output_type": "display_data"
    }
   ],
   "source": [
    "q2.cov.fa.a2 <- fa(r=q2, covar = TRUE, nfactors = 2, fm='ml', rotate='none', scores='regression')\n",
    "q2.cov.fa.a2"
   ]
  },
  {
   "cell_type": "markdown",
   "metadata": {},
   "source": [
    "## Q2(b)"
   ]
  },
  {
   "cell_type": "code",
   "execution_count": 14,
   "metadata": {
    "scrolled": false
   },
   "outputs": [
    {
     "data": {
      "text/plain": [
       "Factor Analysis using method =  ml\n",
       "Call: fa(r = q2, nfactors = 2, rotate = \"varimax\", scores = \"regression\", \n",
       "    covar = TRUE, fm = \"ml\")\n",
       "Unstandardized loadings (pattern matrix) based upon covariance matrix\n",
       "     ML1   ML2     h2   u2    H2   U2\n",
       "x1 -0.04 -0.67   0.45  2.1 0.179 0.82\n",
       "x2 16.06  3.27 268.64 31.9 0.894 0.11\n",
       "x5  0.25  0.86   0.80 10.6 0.071 0.93\n",
       "x6  1.25  3.27  12.26 18.7 0.396 0.60\n",
       "\n",
       "                         ML1   ML2\n",
       "SS loadings           259.55 22.60\n",
       "Proportion Var          0.75  0.07\n",
       "Cumulative Var          0.75  0.82\n",
       "Proportion Explained    0.92  0.08\n",
       "Cumulative Proportion   0.92  1.00\n",
       "\n",
       " Standardized loadings (pattern matrix)\n",
       "   item   ML1   ML2    h2   u2\n",
       "x1    1 -0.02 -0.42 0.179 0.82\n",
       "x2    2  0.93  0.19 0.894 0.11\n",
       "x5    3  0.07  0.26 0.071 0.93\n",
       "x6    4  0.22  0.59 0.396 0.60\n",
       "\n",
       "                 ML1  ML2\n",
       "SS loadings     0.91 0.62\n",
       "Proportion Var  0.23 0.16\n",
       "Cumulative Var  0.23 0.38\n",
       "Cum. factor Var 0.59 1.00\n",
       "\n",
       "Mean item complexity =  1.1\n",
       "Test of the hypothesis that 2 factors are sufficient.\n",
       "\n",
       "The degrees of freedom for the null model are  6  and the objective function was  329.08 with Chi Square of  12779.43\n",
       "The degrees of freedom for the model are -1  and the objective function was  0 \n",
       "\n",
       "The root mean square of the residuals (RMSR) is  0 \n",
       "The df corrected root mean square of the residuals is  NA \n",
       "\n",
       "The harmonic number of observations is  42 with the empirical chi square  0  with prob <  NA \n",
       "The total number of observations was  42  with Likelihood Chi Square =  0  with prob <  NA \n",
       "\n",
       "Tucker Lewis Index of factoring reliability =  1\n",
       "Fit based upon off diagonal values = 1\n",
       "Measures of factor score adequacy             \n",
       "                                                   ML1   ML2\n",
       "Correlation of (regression) scores with factors   0.93  0.67\n",
       "Multiple R square of scores with factors          0.87  0.45\n",
       "Minimum correlation of possible factor scores     0.73 -0.11"
      ]
     },
     "metadata": {},
     "output_type": "display_data"
    }
   ],
   "source": [
    "q2.cov.fa.b2 <- fa(r=q2, covar = TRUE, nfactors = 2, fm='ml', rotate='varimax', scores='regression')\n",
    "q2.cov.fa.b2"
   ]
  },
  {
   "cell_type": "markdown",
   "metadata": {},
   "source": [
    "When we see the plot, so we know how it rotates."
   ]
  },
  {
   "cell_type": "markdown",
   "metadata": {},
   "source": [
    "observe the distributions"
   ]
  },
  {
   "cell_type": "code",
   "execution_count": 17,
   "metadata": {},
   "outputs": [
    {
     "data": {
      "text/plain": [
       "Factor Analysis using method =  ml\n",
       "Call: fa(r = q2, nfactors = 2, rotate = \"varimax\", scores = \"Bartlett\", \n",
       "    covar = TRUE, fm = \"ml\")\n",
       "Unstandardized loadings (pattern matrix) based upon covariance matrix\n",
       "     ML1   ML2     h2   u2    H2   U2\n",
       "x1 -0.04 -0.67   0.45  2.1 0.179 0.82\n",
       "x2 16.06  3.27 268.64 31.9 0.894 0.11\n",
       "x5  0.25  0.86   0.80 10.6 0.071 0.93\n",
       "x6  1.25  3.27  12.26 18.7 0.396 0.60\n",
       "\n",
       "                         ML1   ML2\n",
       "SS loadings           259.55 22.60\n",
       "Proportion Var          0.75  0.07\n",
       "Cumulative Var          0.75  0.82\n",
       "Proportion Explained    0.92  0.08\n",
       "Cumulative Proportion   0.92  1.00\n",
       "\n",
       " Standardized loadings (pattern matrix)\n",
       "   item   ML1   ML2    h2   u2\n",
       "x1    1 -0.02 -0.42 0.179 0.82\n",
       "x2    2  0.93  0.19 0.894 0.11\n",
       "x5    3  0.07  0.26 0.071 0.93\n",
       "x6    4  0.22  0.59 0.396 0.60\n",
       "\n",
       "                 ML1  ML2\n",
       "SS loadings     0.91 0.62\n",
       "Proportion Var  0.23 0.16\n",
       "Cumulative Var  0.23 0.38\n",
       "Cum. factor Var 0.59 1.00\n",
       "\n",
       "Mean item complexity =  1.1\n",
       "Test of the hypothesis that 2 factors are sufficient.\n",
       "\n",
       "The degrees of freedom for the null model are  6  and the objective function was  329.08 with Chi Square of  12779.43\n",
       "The degrees of freedom for the model are -1  and the objective function was  0 \n",
       "\n",
       "The root mean square of the residuals (RMSR) is  0 \n",
       "The df corrected root mean square of the residuals is  NA \n",
       "\n",
       "The harmonic number of observations is  42 with the empirical chi square  0  with prob <  NA \n",
       "The total number of observations was  42  with Likelihood Chi Square =  0  with prob <  NA \n",
       "\n",
       "Tucker Lewis Index of factoring reliability =  1\n",
       "Fit based upon off diagonal values = 1\n",
       "Measures of factor score adequacy             \n",
       "                                                   ML1   ML2\n",
       "Correlation of (regression) scores with factors   0.93  0.67\n",
       "Multiple R square of scores with factors          0.87  0.45\n",
       "Minimum correlation of possible factor scores     0.73 -0.11"
      ]
     },
     "metadata": {},
     "output_type": "display_data"
    }
   ],
   "source": [
    "q2.cov.fa.b2 <- fa(r=q2, covar = TRUE, nfactors = 2, fm='ml', rotate='varimax', scores='Bartlett')\n",
    "q2.cov.fa.b2"
   ]
  },
  {
   "cell_type": "markdown",
   "metadata": {},
   "source": [
    "### Q2(C)"
   ]
  },
  {
   "cell_type": "code",
   "execution_count": 30,
   "metadata": {
    "scrolled": false
   },
   "outputs": [
    {
     "data": {
      "image/png": "[encoded data removed]",
      "text/plain": [
       "plot without title"
      ]
     },
     "metadata": {},
     "output_type": "display_data"
    },
    {
     "data": {
      "image/png": "[encoded data removed]",
      "text/plain": [
       "plot without title"
      ]
     },
     "metadata": {},
     "output_type": "display_data"
    }
   ],
   "source": [
    "q2.cov.fa.c2 <- fa(r=q2, covar = TRUE, nfactors = 2, fm='ml', rotate='none', scores='regression')\n",
    "plot(q2.cov.fa.c2$scores)\n",
    "\n",
    "q2.cov.fa.c2 <- fa(r=q2, covar = TRUE, nfactors = 2, fm='ml', rotate='none', scores='Bartlett')\n",
    "plot(q2.cov.fa.c2$scores)"
   ]
  },
  {
   "cell_type": "markdown",
   "metadata": {},
   "source": [
    "## Q2(d)"
   ]
  },
  {
   "cell_type": "code",
   "execution_count": 28,
   "metadata": {
    "scrolled": false
   },
   "outputs": [
    {
     "data": {
      "text/plain": [
       "Factor Analysis using method =  ml\n",
       "Call: fa(r = q2, nfactors = 1, rotate = \"none\", scores = \"regression\", \n",
       "    covar = FALSE, fm = \"ml\")\n",
       "Standardized loadings (pattern matrix) based upon correlation matrix\n",
       "     ML1    h2   u2 com\n",
       "x1 -0.32 0.105 0.89   1\n",
       "x2  0.41 0.168 0.83   1\n",
       "x5  0.23 0.054 0.95   1\n",
       "x6  0.77 0.595 0.41   1\n",
       "\n",
       "                ML1\n",
       "SS loadings    0.92\n",
       "Proportion Var 0.23\n",
       "\n",
       "Mean item complexity =  1\n",
       "Test of the hypothesis that 1 factor is sufficient.\n",
       "\n",
       "The degrees of freedom for the null model are  6  and the objective function was  0.21 with Chi Square of  8.23\n",
       "The degrees of freedom for the model are 2  and the objective function was  0 \n",
       "\n",
       "The root mean square of the residuals (RMSR) is  0.02 \n",
       "The df corrected root mean square of the residuals is  0.04 \n",
       "\n",
       "The harmonic number of observations is  42 with the empirical chi square  0.23  with prob <  0.89 \n",
       "The total number of observations was  42  with Likelihood Chi Square =  0.15  with prob <  0.93 \n",
       "\n",
       "Tucker Lewis Index of factoring reliability =  3.666\n",
       "RMSEA index =  0  and the 90 % confidence intervals are  0 0.093\n",
       "BIC =  -7.33\n",
       "Fit based upon off diagonal values = 0.99\n",
       "Measures of factor score adequacy             \n",
       "                                                   ML1\n",
       "Correlation of (regression) scores with factors   0.81\n",
       "Multiple R square of scores with factors          0.65\n",
       "Minimum correlation of possible factor scores     0.30"
      ]
     },
     "metadata": {},
     "output_type": "display_data"
    },
    {
     "data": {
      "text/plain": [
       "Factor Analysis using method =  ml\n",
       "Call: fa(r = q2, nfactors = 2, rotate = \"none\", scores = \"regression\", \n",
       "    covar = FALSE, fm = \"ml\")\n",
       "Standardized loadings (pattern matrix) based upon correlation matrix\n",
       "     ML1   ML2    h2   u2 com\n",
       "x1 -0.38  0.32 0.248 0.75 2.0\n",
       "x2  0.50  0.27 0.323 0.68 1.5\n",
       "x5  0.25 -0.04 0.067 0.93 1.1\n",
       "x6  0.65 -0.02 0.425 0.58 1.0\n",
       "\n",
       "                       ML1  ML2\n",
       "SS loadings           0.88 0.18\n",
       "Proportion Var        0.22 0.05\n",
       "Cumulative Var        0.22 0.27\n",
       "Proportion Explained  0.83 0.17\n",
       "Cumulative Proportion 0.83 1.00\n",
       "\n",
       "Mean item complexity =  1.4\n",
       "Test of the hypothesis that 2 factors are sufficient.\n",
       "\n",
       "The degrees of freedom for the null model are  6  and the objective function was  0.21 with Chi Square of  8.23\n",
       "The degrees of freedom for the model are -1  and the objective function was  0 \n",
       "\n",
       "The root mean square of the residuals (RMSR) is  0 \n",
       "The df corrected root mean square of the residuals is  NA \n",
       "\n",
       "The harmonic number of observations is  42 with the empirical chi square  0  with prob <  NA \n",
       "The total number of observations was  42  with Likelihood Chi Square =  0  with prob <  NA \n",
       "\n",
       "Tucker Lewis Index of factoring reliability =  4.084\n",
       "Fit based upon off diagonal values = 1\n",
       "Measures of factor score adequacy             \n",
       "                                                   ML1   ML2\n",
       "Correlation of (regression) scores with factors   0.76  0.45\n",
       "Multiple R square of scores with factors          0.58  0.20\n",
       "Minimum correlation of possible factor scores     0.15 -0.60"
      ]
     },
     "metadata": {},
     "output_type": "display_data"
    },
    {
     "data": {
      "image/png": "[encoded data removed]",
      "text/plain": [
       "plot without title"
      ]
     },
     "metadata": {},
     "output_type": "display_data"
    },
    {
     "data": {
      "image/png": "[encoded data removed]",
      "text/plain": [
       "plot without title"
      ]
     },
     "metadata": {},
     "output_type": "display_data"
    }
   ],
   "source": [
    "q2.cor <- cor(q2)\n",
    "q2.cor.fa.a1 <- fa(r=q2, covar = FALSE, nfactors = 1, fm='ml', rotate='none', scores='regression')\n",
    "q2.cor.fa.a1\n",
    "q2.cor.fa.a2 <- fa(r=q2, covar = FALSE, nfactors = 2, fm='ml', rotate='none', scores='regression')\n",
    "q2.cor.fa.a2\n",
    "\n",
    "q2.cor.fa.c2 <- fa(r=q2, covar = FALSE, nfactors = 2, fm='ml', rotate='none', scores='regression')\n",
    "plot(q2.cor.fa.c2$scores)\n",
    "q2.cor.fa.c2 <- fa(r=q2, covar = FALSE, nfactors = 2, fm='ml', rotate='none', scores='Bartlett')\n",
    "plot(q2.cor.fa.c2$scores)"
   ]
  },
  {
   "cell_type": "markdown",
   "metadata": {},
   "source": [
    "Usually people use 1 and 2 factors in general. Varimax Rotation is to see if there's rotation, will it be having a different result.\n",
    "\n",
    "Using correlation will be having a standardized, the scores is more random.\n",
    "\n",
    "Rotation is to group the variables together to sharpen the contributions when it's on a lower dimension.\n",
    "References book prefer to use MLE instead of PCA."
   ]
  }
 ],
 "metadata": {
  "kernelspec": {
   "display_name": "R",
   "language": "R",
   "name": "ir"
  },
  "language_info": {
   "codemirror_mode": "r",
   "file_extension": ".r",
   "mimetype": "text/x-r-source",
   "name": "R",
   "pygments_lexer": "r",
   "version": "3.6.1"
  },
  "toc": {
   "base_numbering": 1,
   "nav_menu": {},
   "number_sections": true,
   "sideBar": true,
   "skip_h1_title": false,
   "title_cell": "Table of Contents",
   "title_sidebar": "Contents",
   "toc_cell": false,
   "toc_position": {},
   "toc_section_display": true,
   "toc_window_display": false
  },
  "varInspector": {
   "cols": {
    "lenName": 16,
    "lenType": 16,
    "lenVar": 40
   },
   "kernels_config": {
    "python": {
     "delete_cmd_postfix": "",
     "delete_cmd_prefix": "del ",
     "library": "var_list.py",
     "varRefreshCmd": "print(var_dic_list())"
    },
    "r": {
     "delete_cmd_postfix": ") ",
     "delete_cmd_prefix": "rm(",
     "library": "var_list.r",
     "varRefreshCmd": "cat(var_dic_list()) "
    }
   },
   "types_to_exclude": [
    "module",
    "function",
    "builtin_function_or_method",
    "instance",
    "_Feature"
   ],
   "window_display": false
  }
 },
 "nbformat": 4,
 "nbformat_minor": 4
}
