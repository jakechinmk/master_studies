{
 "cells": [
  {
   "cell_type": "markdown",
   "metadata": {},
   "source": [
    "# Examples"
   ]
  },
  {
   "cell_type": "code",
   "execution_count": 1,
   "metadata": {},
   "outputs": [
    {
     "data": {
      "text/html": [
       "<table>\n",
       "<tbody>\n",
       "\t<tr><td>-0.9238795</td><td>0.0000000 </td><td>2.2304425 </td></tr>\n",
       "\t<tr><td> 1.3065630</td><td>0.0000000 </td><td>0.5411961 </td></tr>\n",
       "\t<tr><td> 0.0000000</td><td>0.4142136 </td><td>0.0000000 </td></tr>\n",
       "</tbody>\n",
       "</table>\n"
      ],
      "text/latex": [
       "\\begin{tabular}{lll}\n",
       "\t -0.9238795 & 0.0000000  & 2.2304425 \\\\\n",
       "\t  1.3065630 & 0.0000000  & 0.5411961 \\\\\n",
       "\t  0.0000000 & 0.4142136  & 0.0000000 \\\\\n",
       "\\end{tabular}\n"
      ],
      "text/markdown": [
       "\n",
       "| -0.9238795 | 0.0000000  | 2.2304425  |\n",
       "|  1.3065630 | 0.0000000  | 0.5411961  |\n",
       "|  0.0000000 | 0.4142136  | 0.0000000  |\n",
       "\n"
      ],
      "text/plain": [
       "     [,1]       [,2]      [,3]     \n",
       "[1,] -0.9238795 0.0000000 2.2304425\n",
       "[2,]  1.3065630 0.0000000 0.5411961\n",
       "[3,]  0.0000000 0.4142136 0.0000000"
      ]
     },
     "metadata": {},
     "output_type": "display_data"
    }
   ],
   "source": [
    "eg.cov <- matrix(c(1,-2, 0, -2, 5, 0, 0, 0,2), nrow=3, byrow=TRUE)\n",
    "eg.eigen <- eigen(eg.cov)\n",
    "sqrt(eg.eigen$values) * eg.eigen$vectors"
   ]
  },
  {
   "cell_type": "code",
   "execution_count": 2,
   "metadata": {},
   "outputs": [
    {
     "data": {
      "text/html": [
       "<table>\n",
       "<tbody>\n",
       "\t<tr><td> 1</td><td>-2</td><td>0 </td></tr>\n",
       "\t<tr><td>-2</td><td> 5</td><td>0 </td></tr>\n",
       "\t<tr><td> 0</td><td> 0</td><td>2 </td></tr>\n",
       "</tbody>\n",
       "</table>\n"
      ],
      "text/latex": [
       "\\begin{tabular}{lll}\n",
       "\t  1 & -2 & 0 \\\\\n",
       "\t -2 &  5 & 0 \\\\\n",
       "\t  0 &  0 & 2 \\\\\n",
       "\\end{tabular}\n"
      ],
      "text/markdown": [
       "\n",
       "|  1 | -2 | 0  |\n",
       "| -2 |  5 | 0  |\n",
       "|  0 |  0 | 2  |\n",
       "\n"
      ],
      "text/plain": [
       "     [,1] [,2] [,3]\n",
       "[1,]  1   -2   0   \n",
       "[2,] -2    5   0   \n",
       "[3,]  0    0   2   "
      ]
     },
     "metadata": {},
     "output_type": "display_data"
    }
   ],
   "source": [
    "eg.cov"
   ]
  },
  {
   "cell_type": "code",
   "execution_count": 3,
   "metadata": {},
   "outputs": [
    {
     "data": {
      "text/html": [
       "<table>\n",
       "<tbody>\n",
       "\t<tr><td>-0.9247685</td><td>0.0000000 </td><td>2.2310343 </td></tr>\n",
       "\t<tr><td> 1.3067333</td><td>0.0000000 </td><td>0.5416438 </td></tr>\n",
       "\t<tr><td> 0.0000000</td><td>0.4123106 </td><td>0.0000000 </td></tr>\n",
       "</tbody>\n",
       "</table>\n"
      ],
      "text/latex": [
       "\\begin{tabular}{lll}\n",
       "\t -0.9247685 & 0.0000000  & 2.2310343 \\\\\n",
       "\t  1.3067333 & 0.0000000  & 0.5416438 \\\\\n",
       "\t  0.0000000 & 0.4123106  & 0.0000000 \\\\\n",
       "\\end{tabular}\n"
      ],
      "text/markdown": [
       "\n",
       "| -0.9247685 | 0.0000000  | 2.2310343  |\n",
       "|  1.3067333 | 0.0000000  | 0.5416438  |\n",
       "|  0.0000000 | 0.4123106  | 0.0000000  |\n",
       "\n"
      ],
      "text/plain": [
       "     [,1]       [,2]      [,3]     \n",
       "[1,] -0.9247685 0.0000000 2.2310343\n",
       "[2,]  1.3067333 0.0000000 0.5416438\n",
       "[3,]  0.0000000 0.4123106 0.0000000"
      ]
     },
     "metadata": {},
     "output_type": "display_data"
    }
   ],
   "source": [
    "sqrt(round(eg.eigen$values,2)) * round(eg.eigen$vectors,3)"
   ]
  },
  {
   "cell_type": "markdown",
   "metadata": {},
   "source": [
    "# Q1"
   ]
  },
  {
   "cell_type": "code",
   "execution_count": 4,
   "metadata": {},
   "outputs": [
    {
     "data": {
      "text/html": [
       "<table>\n",
       "<tbody>\n",
       "\t<tr><td>5</td><td>2</td></tr>\n",
       "\t<tr><td>2</td><td>2</td></tr>\n",
       "</tbody>\n",
       "</table>\n"
      ],
      "text/latex": [
       "\\begin{tabular}{ll}\n",
       "\t 5 & 2\\\\\n",
       "\t 2 & 2\\\\\n",
       "\\end{tabular}\n"
      ],
      "text/markdown": [
       "\n",
       "| 5 | 2 |\n",
       "| 2 | 2 |\n",
       "\n"
      ],
      "text/plain": [
       "     [,1] [,2]\n",
       "[1,] 5    2   \n",
       "[2,] 2    2   "
      ]
     },
     "metadata": {},
     "output_type": "display_data"
    },
    {
     "data": {
      "text/plain": [
       "eigen() decomposition\n",
       "$values\n",
       "[1] 6 1\n",
       "\n",
       "$vectors\n",
       "           [,1]       [,2]\n",
       "[1,] -0.8944272  0.4472136\n",
       "[2,] -0.4472136 -0.8944272\n"
      ]
     },
     "metadata": {},
     "output_type": "display_data"
    },
    {
     "name": "stdout",
     "output_type": "stream",
     "text": [
      "[1] \"Proportion:\"\n",
      "[1] 0.8571429\n",
      "[1] 0.1428571\n"
     ]
    }
   ],
   "source": [
    "# a\n",
    "q1.cov <- matrix(c(5,2,2,2),nrow=2, byrow=TRUE)\n",
    "q1.cov\n",
    "\n",
    "\n",
    "q1.cov_eigen <- eigen(q1.cov)\n",
    "q1.cov_eigen\n",
    "\n",
    "print('Proportion:')\n",
    "for (s in q1.cov_eigen$values) {\n",
    "  print(s / sum(q1.cov_eigen$values))\n",
    "}"
   ]
  },
  {
   "cell_type": "code",
   "execution_count": 5,
   "metadata": {},
   "outputs": [
    {
     "data": {
      "text/html": [
       "<table>\n",
       "<tbody>\n",
       "\t<tr><td>1.0000000</td><td>0.6324555</td></tr>\n",
       "\t<tr><td>0.6324555</td><td>1.0000000</td></tr>\n",
       "</tbody>\n",
       "</table>\n"
      ],
      "text/latex": [
       "\\begin{tabular}{ll}\n",
       "\t 1.0000000 & 0.6324555\\\\\n",
       "\t 0.6324555 & 1.0000000\\\\\n",
       "\\end{tabular}\n"
      ],
      "text/markdown": [
       "\n",
       "| 1.0000000 | 0.6324555 |\n",
       "| 0.6324555 | 1.0000000 |\n",
       "\n"
      ],
      "text/plain": [
       "     [,1]      [,2]     \n",
       "[1,] 1.0000000 0.6324555\n",
       "[2,] 0.6324555 1.0000000"
      ]
     },
     "metadata": {},
     "output_type": "display_data"
    },
    {
     "data": {
      "text/plain": [
       "eigen() decomposition\n",
       "$values\n",
       "[1] 1.6324555 0.3675445\n",
       "\n",
       "$vectors\n",
       "          [,1]       [,2]\n",
       "[1,] 0.7071068 -0.7071068\n",
       "[2,] 0.7071068  0.7071068\n"
      ]
     },
     "metadata": {},
     "output_type": "display_data"
    },
    {
     "name": "stdout",
     "output_type": "stream",
     "text": [
      "[1] \"Proportion:\"\n",
      "[1] 0.8162278\n",
      "[1] 0.1837722\n"
     ]
    },
    {
     "data": {
      "text/html": [
       "0.903453245064092"
      ],
      "text/latex": [
       "0.903453245064092"
      ],
      "text/markdown": [
       "0.903453245064092"
      ],
      "text/plain": [
       "[1] 0.9034532"
      ]
     },
     "metadata": {},
     "output_type": "display_data"
    },
    {
     "data": {
      "text/html": [
       "0.903453245064092"
      ],
      "text/latex": [
       "0.903453245064092"
      ],
      "text/markdown": [
       "0.903453245064092"
      ],
      "text/plain": [
       "[1] 0.9034532"
      ]
     },
     "metadata": {},
     "output_type": "display_data"
    },
    {
     "data": {
      "text/html": [
       "-0.428686638447202"
      ],
      "text/latex": [
       "-0.428686638447202"
      ],
      "text/markdown": [
       "-0.428686638447202"
      ],
      "text/plain": [
       "[1] -0.4286866"
      ]
     },
     "metadata": {},
     "output_type": "display_data"
    }
   ],
   "source": [
    "# b\n",
    "q1.corr <- cov2cor(q1.cov)\n",
    "q1.corr\n",
    "\n",
    "q1.corr_eigen <- eigen(q1.corr)\n",
    "q1.corr_eigen\n",
    "\n",
    "print('Proportion:')\n",
    "for (s in q1.corr_eigen$values) {\n",
    "  print(s / sum(q1.corr_eigen$values))\n",
    "}\n",
    "\n",
    "q1.corr_y1z1 <- q1.corr_eigen$vectors[1,1]*sqrt(q1.corr_eigen$values[1])\n",
    "q1.corr_y1z2 <- q1.corr_eigen$vectors[2,1]*sqrt(q1.corr_eigen$values[1])\n",
    "q1.corr_y2z1 <- q1.corr_eigen$vectors[1,2]*sqrt(q1.corr_eigen$values[2]) \n",
    "\n",
    "q1.corr_y1z1\n",
    "q1.corr_y1z2\n",
    "q1.corr_y2z1"
   ]
  },
  {
   "cell_type": "markdown",
   "metadata": {},
   "source": [
    "[Note! The variance-covariance matrix of the standardized data is equal to the correlation matrix for the unstandardized data. Therefore, principal component analysis using the standardized data is equivalent to principal component analysis using the correlation matrix.](https://online.stat.psu.edu/stat505/book/export/html/670#:~:text=for%20variable%20j-,Note!,analysis%20using%20the%20correlation%20matrix.)\n",
    "- That why it's different if it's not standardized\n",
    "\n",
    "The two (standardized) variables contribute equally to the pc in b(i). The two variables contribute unequally to the principal components in a because of their unequal vairances."
   ]
  },
  {
   "cell_type": "markdown",
   "metadata": {},
   "source": [
    "# Q2"
   ]
  },
  {
   "cell_type": "code",
   "execution_count": 6,
   "metadata": {},
   "outputs": [
    {
     "data": {
      "text/html": [
       "<table>\n",
       "<tbody>\n",
       "\t<tr><td>7476.45</td><td>303.62 </td></tr>\n",
       "\t<tr><td> 303.62</td><td> 26.19 </td></tr>\n",
       "</tbody>\n",
       "</table>\n"
      ],
      "text/latex": [
       "\\begin{tabular}{ll}\n",
       "\t 7476.45 & 303.62 \\\\\n",
       "\t  303.62 &  26.19 \\\\\n",
       "\\end{tabular}\n"
      ],
      "text/markdown": [
       "\n",
       "| 7476.45 | 303.62  |\n",
       "|  303.62 |  26.19  |\n",
       "\n"
      ],
      "text/plain": [
       "     [,1]    [,2]  \n",
       "[1,] 7476.45 303.62\n",
       "[2,]  303.62  26.19"
      ]
     },
     "metadata": {},
     "output_type": "display_data"
    },
    {
     "data": {
      "text/plain": [
       "eigen() decomposition\n",
       "$values\n",
       "[1] 7488.80293   13.83707\n",
       "\n",
       "$vectors\n",
       "            [,1]        [,2]\n",
       "[1,] -0.99917337  0.04065185\n",
       "[2,] -0.04065185 -0.99917337\n"
      ]
     },
     "metadata": {},
     "output_type": "display_data"
    },
    {
     "name": "stdout",
     "output_type": "stream",
     "text": [
      "[1] \"Proportion:\"\n",
      "[1] 0.9981557\n",
      "[1] 0.001844294\n"
     ]
    }
   ],
   "source": [
    "# a\n",
    "q2.cov <- matrix(c(7476.45, 303.62,303.62,26.19),nrow=2, byrow=TRUE)\n",
    "q2.cov\n",
    "\n",
    "q2.cov_eigen <- eigen(q2.cov)\n",
    "q2.cov_eigen\n",
    "\n",
    "print('Proportion:')\n",
    "for (s in q2.cov_eigen$values) {\n",
    "  print(s / sum(q2.cov_eigen$values))\n",
    "}"
   ]
  },
  {
   "cell_type": "code",
   "execution_count": 10,
   "metadata": {},
   "outputs": [
    {
     "data": {
      "text/html": [
       "-0.999998470745409"
      ],
      "text/latex": [
       "-0.999998470745409"
      ],
      "text/markdown": [
       "-0.999998470745409"
      ],
      "text/plain": [
       "[1] -0.9999985"
      ]
     },
     "metadata": {},
     "output_type": "display_data"
    },
    {
     "data": {
      "text/html": [
       "-0.687414617862137"
      ],
      "text/latex": [
       "-0.687414617862137"
      ],
      "text/markdown": [
       "-0.687414617862137"
      ],
      "text/plain": [
       "[1] -0.6874146"
      ]
     },
     "metadata": {},
     "output_type": "display_data"
    }
   ],
   "source": [
    "# b\n",
    "q2.cov_y1z1 <- q2.cov_eigen$vectors[1,1]*sqrt(q2.cov_eigen$values[1]) / sqrt(q2.cov[1,1])\n",
    "q2.cov_y1z2 <- q2.cov_eigen$vectors[2,1]*sqrt(q2.cov_eigen$values[1]) / sqrt(q2.cov[2,2])\n",
    "\n",
    "q2.cov_y1z1\n",
    "q2.cov_y1z2"
   ]
  },
  {
   "cell_type": "markdown",
   "metadata": {},
   "source": [
    "the first component is completely determined by x1=sales since its variance is approx 285 times of x2=profits"
   ]
  },
  {
   "cell_type": "code",
   "execution_count": 11,
   "metadata": {},
   "outputs": [
    {
     "data": {
      "text/html": [
       "<table>\n",
       "<tbody>\n",
       "\t<tr><td>1.0000000</td><td>0.6861434</td></tr>\n",
       "\t<tr><td>0.6861434</td><td>1.0000000</td></tr>\n",
       "</tbody>\n",
       "</table>\n"
      ],
      "text/latex": [
       "\\begin{tabular}{ll}\n",
       "\t 1.0000000 & 0.6861434\\\\\n",
       "\t 0.6861434 & 1.0000000\\\\\n",
       "\\end{tabular}\n"
      ],
      "text/markdown": [
       "\n",
       "| 1.0000000 | 0.6861434 |\n",
       "| 0.6861434 | 1.0000000 |\n",
       "\n"
      ],
      "text/plain": [
       "     [,1]      [,2]     \n",
       "[1,] 1.0000000 0.6861434\n",
       "[2,] 0.6861434 1.0000000"
      ]
     },
     "metadata": {},
     "output_type": "display_data"
    },
    {
     "data": {
      "text/plain": [
       "eigen() decomposition\n",
       "$values\n",
       "[1] 1.6861434 0.3138566\n",
       "\n",
       "$vectors\n",
       "          [,1]       [,2]\n",
       "[1,] 0.7071068 -0.7071068\n",
       "[2,] 0.7071068  0.7071068\n"
      ]
     },
     "metadata": {},
     "output_type": "display_data"
    },
    {
     "name": "stdout",
     "output_type": "stream",
     "text": [
      "[1] \"Proportion:\"\n",
      "[1] 0.8430717\n",
      "[1] 0.1569283\n"
     ]
    },
    {
     "data": {
      "text/html": [
       "0.918189368102989"
      ],
      "text/latex": [
       "0.918189368102989"
      ],
      "text/markdown": [
       "0.918189368102989"
      ],
      "text/plain": [
       "[1] 0.9181894"
      ]
     },
     "metadata": {},
     "output_type": "display_data"
    },
    {
     "data": {
      "text/html": [
       "0.918189368102989"
      ],
      "text/latex": [
       "0.918189368102989"
      ],
      "text/markdown": [
       "0.918189368102989"
      ],
      "text/plain": [
       "[1] 0.9181894"
      ]
     },
     "metadata": {},
     "output_type": "display_data"
    }
   ],
   "source": [
    "# c\n",
    "q2.corr <- cov2cor(q2.cov)\n",
    "q2.corr\n",
    "\n",
    "q2.corr.eigen <- eigen(q2.corr)\n",
    "q2.corr.eigen\n",
    "\n",
    "print('Proportion:')\n",
    "for (s in q2.corr.eigen$values) {\n",
    "  print(s / sum(q2.corr.eigen$values))\n",
    "}\n",
    "\n",
    "q2.corr_y1z1 <- q2.corr.eigen$vectors[1,1]*sqrt(q2.corr.eigen$values[1])\n",
    "q2.corr_y1z2 <- q2.corr.eigen$vectors[2,1]*sqrt(q2.corr.eigen$values[1])\n",
    "\n",
    "q2.corr_y1z1\n",
    "q2.corr_y1z2"
   ]
  },
  {
   "cell_type": "markdown",
   "metadata": {},
   "source": [
    "The standardized \"sales\" and \"profits\" contribute equally to the first principal component.\n",
    "The variance for x1 and x2 has a huge difference, then the pc will be affected of the whichever variable that having a larger range. Hence it will be better to use the standardized."
   ]
  },
  {
   "cell_type": "markdown",
   "metadata": {},
   "source": [
    "# Q3"
   ]
  },
  {
   "cell_type": "code",
   "execution_count": 18,
   "metadata": {},
   "outputs": [],
   "source": [
    "path <- '../data/radiotherapy.csv'\n",
    "q3 <- read.csv(path, fileEncoding=\"UTF-8-BOM\")"
   ]
  },
  {
   "cell_type": "code",
   "execution_count": 26,
   "metadata": {},
   "outputs": [
    {
     "data": {
      "text/html": [
       "<table>\n",
       "<thead><tr><th></th><th scope=col>x1</th><th scope=col>x2</th><th scope=col>x3</th><th scope=col>x4</th><th scope=col>x5</th><th scope=col>x6</th></tr></thead>\n",
       "<tbody>\n",
       "\t<tr><th scope=row>x1</th><td>1.00000000 </td><td> 0.55143669</td><td>0.3615773  </td><td>0.38627479 </td><td> 0.53655840</td><td> 0.07897812</td></tr>\n",
       "\t<tr><th scope=row>x2</th><td>0.55143669 </td><td> 1.00000000</td><td>0.1874625  </td><td>0.45544470 </td><td> 0.53500626</td><td>-0.03420407</td></tr>\n",
       "\t<tr><th scope=row>x3</th><td>0.36157729 </td><td> 0.18746250</td><td>1.0000000  </td><td>0.34638617 </td><td> 0.49577944</td><td> 0.15696886</td></tr>\n",
       "\t<tr><th scope=row>x4</th><td>0.38627479 </td><td> 0.45544470</td><td>0.3463862  </td><td>1.00000000 </td><td> 0.70464665</td><td> 0.07073348</td></tr>\n",
       "\t<tr><th scope=row>x5</th><td>0.53655840 </td><td> 0.53500626</td><td>0.4957794  </td><td>0.70464665 </td><td> 1.00000000</td><td>-0.01023155</td></tr>\n",
       "\t<tr><th scope=row>x6</th><td>0.07897812 </td><td>-0.03420407</td><td>0.1569689  </td><td>0.07073348 </td><td>-0.01023155</td><td> 1.00000000</td></tr>\n",
       "</tbody>\n",
       "</table>\n"
      ],
      "text/latex": [
       "\\begin{tabular}{r|llllll}\n",
       "  & x1 & x2 & x3 & x4 & x5 & x6\\\\\n",
       "\\hline\n",
       "\tx1 & 1.00000000  &  0.55143669 & 0.3615773   & 0.38627479  &  0.53655840 &  0.07897812\\\\\n",
       "\tx2 & 0.55143669  &  1.00000000 & 0.1874625   & 0.45544470  &  0.53500626 & -0.03420407\\\\\n",
       "\tx3 & 0.36157729  &  0.18746250 & 1.0000000   & 0.34638617  &  0.49577944 &  0.15696886\\\\\n",
       "\tx4 & 0.38627479  &  0.45544470 & 0.3463862   & 1.00000000  &  0.70464665 &  0.07073348\\\\\n",
       "\tx5 & 0.53655840  &  0.53500626 & 0.4957794   & 0.70464665  &  1.00000000 & -0.01023155\\\\\n",
       "\tx6 & 0.07897812  & -0.03420407 & 0.1569689   & 0.07073348  & -0.01023155 &  1.00000000\\\\\n",
       "\\end{tabular}\n"
      ],
      "text/markdown": [
       "\n",
       "| <!--/--> | x1 | x2 | x3 | x4 | x5 | x6 |\n",
       "|---|---|---|---|---|---|---|\n",
       "| x1 | 1.00000000  |  0.55143669 | 0.3615773   | 0.38627479  |  0.53655840 |  0.07897812 |\n",
       "| x2 | 0.55143669  |  1.00000000 | 0.1874625   | 0.45544470  |  0.53500626 | -0.03420407 |\n",
       "| x3 | 0.36157729  |  0.18746250 | 1.0000000   | 0.34638617  |  0.49577944 |  0.15696886 |\n",
       "| x4 | 0.38627479  |  0.45544470 | 0.3463862   | 1.00000000  |  0.70464665 |  0.07073348 |\n",
       "| x5 | 0.53655840  |  0.53500626 | 0.4957794   | 0.70464665  |  1.00000000 | -0.01023155 |\n",
       "| x6 | 0.07897812  | -0.03420407 | 0.1569689   | 0.07073348  | -0.01023155 |  1.00000000 |\n",
       "\n"
      ],
      "text/plain": [
       "   x1         x2          x3        x4         x5          x6         \n",
       "x1 1.00000000  0.55143669 0.3615773 0.38627479  0.53655840  0.07897812\n",
       "x2 0.55143669  1.00000000 0.1874625 0.45544470  0.53500626 -0.03420407\n",
       "x3 0.36157729  0.18746250 1.0000000 0.34638617  0.49577944  0.15696886\n",
       "x4 0.38627479  0.45544470 0.3463862 1.00000000  0.70464665  0.07073348\n",
       "x5 0.53655840  0.53500626 0.4957794 0.70464665  1.00000000 -0.01023155\n",
       "x6 0.07897812 -0.03420407 0.1569689 0.07073348 -0.01023155  1.00000000"
      ]
     },
     "metadata": {},
     "output_type": "display_data"
    }
   ],
   "source": [
    "q3.cov <- cov(q3)\n",
    "q3.cor <- cor(q3)\n",
    "q3.cor"
   ]
  },
  {
   "cell_type": "code",
   "execution_count": 36,
   "metadata": {},
   "outputs": [
    {
     "data": {
      "text/plain": [
       "eigen() decomposition\n",
       "$values\n",
       "[1] 2.8643078 1.0764496 0.7776412 0.6503143 0.3880318 0.2432554\n",
       "\n",
       "$vectors\n",
       "            [,1]        [,2]       [,3]        [,4]        [,5]        [,6]\n",
       "[1,] -0.44485828 -0.02665962 -0.3393295  0.55114851  0.60085058  0.14649150\n",
       "[2,] -0.42929971 -0.29173810 -0.4986071  0.06136723 -0.68729718  0.07640845\n",
       "[3,] -0.35877306  0.38013490  0.6281571  0.42105976 -0.33183937  0.21163500\n",
       "[4,] -0.46285372 -0.02095878  0.1245847 -0.66560356  0.20741295  0.53268901\n",
       "[5,] -0.52127626 -0.07369010  0.2033387 -0.20052634  0.10317525 -0.79412736\n",
       "[6,] -0.05587718  0.87396001 -0.4298804 -0.17871526 -0.05308994 -0.11626161\n"
      ]
     },
     "metadata": {},
     "output_type": "display_data"
    },
    {
     "name": "stdout",
     "output_type": "stream",
     "text": [
      "[1] \"Proportion:\"\n",
      "[1] 0.4773846\n",
      "[1] 0.1794083\n",
      "[1] 0.1296069\n",
      "[1] 0.1083857\n",
      "[1] 0.06467196\n",
      "[1] 0.04054257\n"
     ]
    }
   ],
   "source": [
    "q3.cor.eigen <- eigen(q3.cor)\n",
    "q3.cor.eigen\n",
    "\n",
    "print('Proportion:')\n",
    "for (s in q3.cor.eigen$values) {\n",
    "  print(s / sum(q3.cor.eigen$values))\n",
    "}"
   ]
  },
  {
   "cell_type": "code",
   "execution_count": 37,
   "metadata": {},
   "outputs": [],
   "source": [
    "q3.pc <- princomp(scale(q3))"
   ]
  },
  {
   "cell_type": "markdown",
   "metadata": {},
   "source": [
    "Number of important pc is 4, which account for 89% of the variation. It is not possible to summarize the radiotherapy data with single reaction index component."
   ]
  },
  {
   "cell_type": "code",
   "execution_count": 38,
   "metadata": {},
   "outputs": [
    {
     "data": {
      "text/plain": [
       "\n",
       "Loadings:\n",
       "   Comp.1 Comp.2 Comp.3 Comp.4 Comp.5 Comp.6\n",
       "x1  0.445         0.339  0.551  0.601  0.146\n",
       "x2  0.429  0.292  0.499        -0.687       \n",
       "x3  0.359 -0.380 -0.628  0.421 -0.332  0.212\n",
       "x4  0.463        -0.125 -0.666  0.207  0.533\n",
       "x5  0.521        -0.203 -0.201  0.103 -0.794\n",
       "x6        -0.874  0.430 -0.179        -0.116\n",
       "\n",
       "               Comp.1 Comp.2 Comp.3 Comp.4 Comp.5 Comp.6\n",
       "SS loadings     1.000  1.000  1.000  1.000  1.000  1.000\n",
       "Proportion Var  0.167  0.167  0.167  0.167  0.167  0.167\n",
       "Cumulative Var  0.167  0.333  0.500  0.667  0.833  1.000"
      ]
     },
     "metadata": {},
     "output_type": "display_data"
    }
   ],
   "source": [
    "q3.pc$loadings"
   ]
  },
  {
   "cell_type": "code",
   "execution_count": 39,
   "metadata": {},
   "outputs": [],
   "source": [
    "q3.scale = scale(q3)\n",
    "q3.x1 = as.matrix(q3) %*% q3.pc$loadings[,1]"
   ]
  },
  {
   "cell_type": "code",
   "execution_count": 41,
   "metadata": {},
   "outputs": [
    {
     "data": {
      "image/png": "[encoded data removed]",
      "text/plain": [
       "Plot with title \"Normal Q-Q Plot\""
      ]
     },
     "metadata": {},
     "output_type": "display_data"
    }
   ],
   "source": [
    "qqnorm(q3.x1)"
   ]
  },
  {
   "cell_type": "code",
   "execution_count": null,
   "metadata": {},
   "outputs": [],
   "source": []
  }
 ],
 "metadata": {
  "kernelspec": {
   "display_name": "R",
   "language": "R",
   "name": "ir"
  },
  "language_info": {
   "codemirror_mode": "r",
   "file_extension": ".r",
   "mimetype": "text/x-r-source",
   "name": "R",
   "pygments_lexer": "r",
   "version": "3.6.1"
  },
  "toc": {
   "base_numbering": 1,
   "nav_menu": {},
   "number_sections": true,
   "sideBar": true,
   "skip_h1_title": false,
   "title_cell": "Table of Contents",
   "title_sidebar": "Contents",
   "toc_cell": false,
   "toc_position": {},
   "toc_section_display": true,
   "toc_window_display": false
  },
  "varInspector": {
   "cols": {
    "lenName": 16,
    "lenType": 16,
    "lenVar": 40
   },
   "kernels_config": {
    "python": {
     "delete_cmd_postfix": "",
     "delete_cmd_prefix": "del ",
     "library": "var_list.py",
     "varRefreshCmd": "print(var_dic_list())"
    },
    "r": {
     "delete_cmd_postfix": ") ",
     "delete_cmd_prefix": "rm(",
     "library": "var_list.r",
     "varRefreshCmd": "cat(var_dic_list()) "
    }
   },
   "types_to_exclude": [
    "module",
    "function",
    "builtin_function_or_method",
    "instance",
    "_Feature"
   ],
   "window_display": false
  }
 },
 "nbformat": 4,
 "nbformat_minor": 4
}
