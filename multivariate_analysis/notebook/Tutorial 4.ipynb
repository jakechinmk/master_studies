{
 "cells": [
  {
   "cell_type": "markdown",
   "metadata": {},
   "source": [
    "# Q1"
   ]
  },
  {
   "cell_type": "code",
   "execution_count": 1,
   "metadata": {},
   "outputs": [
    {
     "data": {
      "text/plain": [
       "\n",
       "Call:\n",
       "lm(formula = y ~ z)\n",
       "\n",
       "Coefficients:\n",
       "(Intercept)            z  \n",
       "    -0.6667       1.2667  \n"
      ]
     },
     "metadata": {},
     "output_type": "display_data"
    },
    {
     "data": {
      "text/html": [
       "<dl class=dl-horizontal>\n",
       "\t<dt>1</dt>\n",
       "\t\t<dd>12</dd>\n",
       "\t<dt>2</dt>\n",
       "\t\t<dd>5.66666666666667</dd>\n",
       "\t<dt>3</dt>\n",
       "\t\t<dd>8.2</dd>\n",
       "\t<dt>4</dt>\n",
       "\t\t<dd>23.4</dd>\n",
       "\t<dt>5</dt>\n",
       "\t\t<dd>13.2666666666667</dd>\n",
       "\t<dt>6</dt>\n",
       "\t\t<dd>9.46666666666667</dd>\n",
       "</dl>\n"
      ],
      "text/latex": [
       "\\begin{description*}\n",
       "\\item[1] 12\n",
       "\\item[2] 5.66666666666667\n",
       "\\item[3] 8.2\n",
       "\\item[4] 23.4\n",
       "\\item[5] 13.2666666666667\n",
       "\\item[6] 9.46666666666667\n",
       "\\end{description*}\n"
      ],
      "text/markdown": [
       "1\n",
       ":   122\n",
       ":   5.666666666666673\n",
       ":   8.24\n",
       ":   23.45\n",
       ":   13.26666666666676\n",
       ":   9.46666666666667\n",
       "\n"
      ],
      "text/plain": [
       "        1         2         3         4         5         6 \n",
       "12.000000  5.666667  8.200000 23.400000 13.266667  9.466667 "
      ]
     },
     "metadata": {},
     "output_type": "display_data"
    },
    {
     "data": {
      "text/html": [
       "<dl class=dl-horizontal>\n",
       "\t<dt>1</dt>\n",
       "\t\t<dd>3</dd>\n",
       "\t<dt>2</dt>\n",
       "\t\t<dd>3.33333333333333</dd>\n",
       "\t<dt>3</dt>\n",
       "\t\t<dd>-5.2</dd>\n",
       "\t<dt>4</dt>\n",
       "\t\t<dd>1.6</dd>\n",
       "\t<dt>5</dt>\n",
       "\t\t<dd>-6.26666666666667</dd>\n",
       "\t<dt>6</dt>\n",
       "\t\t<dd>3.53333333333333</dd>\n",
       "</dl>\n"
      ],
      "text/latex": [
       "\\begin{description*}\n",
       "\\item[1] 3\n",
       "\\item[2] 3.33333333333333\n",
       "\\item[3] -5.2\n",
       "\\item[4] 1.6\n",
       "\\item[5] -6.26666666666667\n",
       "\\item[6] 3.53333333333333\n",
       "\\end{description*}\n"
      ],
      "text/markdown": [
       "1\n",
       ":   32\n",
       ":   3.333333333333333\n",
       ":   -5.24\n",
       ":   1.65\n",
       ":   -6.266666666666676\n",
       ":   3.53333333333333\n",
       "\n"
      ],
      "text/plain": [
       "        1         2         3         4         5         6 \n",
       " 3.000000  3.333333 -5.200000  1.600000 -6.266667  3.533333 "
      ]
     },
     "metadata": {},
     "output_type": "display_data"
    }
   ],
   "source": [
    "y = as.matrix(c(15, 9, 3, 25, 7, 13))\n",
    "z = as.matrix(c(10, 5, 7, 19, 11, 8))\n",
    "\n",
    "model <- lm(y~z)\n",
    "model\n",
    "\n",
    "y_hat <- model$fitted.values\n",
    "y_hat\n",
    "\n",
    "residuals <- model$residuals\n",
    "residuals"
   ]
  },
  {
   "cell_type": "markdown",
   "metadata": {},
   "source": [
    "# Q2"
   ]
  },
  {
   "cell_type": "code",
   "execution_count": 2,
   "metadata": {},
   "outputs": [],
   "source": [
    "path <- '../data/CompanyData.csv'\n",
    "company_data <- read.csv(path)"
   ]
  },
  {
   "cell_type": "code",
   "execution_count": 3,
   "metadata": {},
   "outputs": [],
   "source": [
    "colnames(company_data) <- c('z1', 'y', 'z2')"
   ]
  },
  {
   "cell_type": "code",
   "execution_count": 4,
   "metadata": {},
   "outputs": [
    {
     "data": {
      "text/plain": [
       "\n",
       "Call:\n",
       "lm(formula = y ~ ., data = company_data)\n",
       "\n",
       "Coefficients:\n",
       "(Intercept)           z1           z2  \n",
       "   0.013325     0.068058     0.005768  \n"
      ]
     },
     "metadata": {},
     "output_type": "display_data"
    }
   ],
   "source": [
    "model <- lm(y~., data=company_data)\n",
    "model"
   ]
  },
  {
   "cell_type": "code",
   "execution_count": 5,
   "metadata": {},
   "outputs": [
    {
     "data": {
      "text/plain": [
       "\n",
       "Call:\n",
       "lm(formula = y ~ ., data = company_data)\n",
       "\n",
       "Residuals:\n",
       "   Min     1Q Median     3Q    Max \n",
       "-4.954 -1.215 -0.316  1.686  6.224 \n",
       "\n",
       "Coefficients:\n",
       "            Estimate Std. Error t value Pr(>|t|)  \n",
       "(Intercept) 0.013325   7.641453   0.002   0.9987  \n",
       "z1          0.068058   0.027851   2.444   0.0445 *\n",
       "z2          0.005768   0.004946   1.166   0.2817  \n",
       "---\n",
       "Signif. codes:  0 '***' 0.001 '**' 0.01 '*' 0.05 '.' 0.1 ' ' 1\n",
       "\n",
       "Residual standard error: 3.863 on 7 degrees of freedom\n",
       "Multiple R-squared:  0.5569,\tAdjusted R-squared:  0.4303 \n",
       "F-statistic: 4.399 on 2 and 7 DF,  p-value: 0.05792\n"
      ]
     },
     "metadata": {},
     "output_type": "display_data"
    }
   ],
   "source": [
    "summary(model)"
   ]
  },
  {
   "cell_type": "markdown",
   "metadata": {},
   "source": [
    "https://statisticsbyjim.com/regression/interpret-f-test-overall-significance-regression/\n",
    "- For general F-statistics with p-value 0.05792, If our alpha value is 0.05 then it's not significant, but if our alpha value is 0.1 then it is significant.\n",
    "- For the partial signifance, z1 (0.0445) is significant for the alpha level of 0.05.\n",
    "\n",
    "https://statisticsbyjim.com/regression/interpret-r-squared-regression/\n",
    "- the model only edplain 55% of the variation"
   ]
  },
  {
   "cell_type": "code",
   "execution_count": 6,
   "metadata": {},
   "outputs": [
    {
     "data": {
      "text/html": [
       "<table>\n",
       "<thead><tr><th></th><th scope=col>2.5 %</th><th scope=col>97.5 %</th></tr></thead>\n",
       "<tbody>\n",
       "\t<tr><th scope=row>(Intercept)</th><td>-18.05584030</td><td>18.08249077 </td></tr>\n",
       "\t<tr><th scope=row>z1</th><td>  0.00220035</td><td> 0.13391485 </td></tr>\n",
       "\t<tr><th scope=row>z2</th><td> -0.00592749</td><td> 0.01746398 </td></tr>\n",
       "</tbody>\n",
       "</table>\n"
      ],
      "text/latex": [
       "\\begin{tabular}{r|ll}\n",
       "  & 2.5 \\% & 97.5 \\%\\\\\n",
       "\\hline\n",
       "\t(Intercept) & -18.05584030 & 18.08249077 \\\\\n",
       "\tz1 &   0.00220035 &  0.13391485 \\\\\n",
       "\tz2 &  -0.00592749 &  0.01746398 \\\\\n",
       "\\end{tabular}\n"
      ],
      "text/markdown": [
       "\n",
       "| <!--/--> | 2.5 % | 97.5 % |\n",
       "|---|---|---|\n",
       "| (Intercept) | -18.05584030 | 18.08249077  |\n",
       "| z1 |   0.00220035 |  0.13391485  |\n",
       "| z2 |  -0.00592749 |  0.01746398  |\n",
       "\n"
      ],
      "text/plain": [
       "            2.5 %        97.5 %     \n",
       "(Intercept) -18.05584030 18.08249077\n",
       "z1            0.00220035  0.13391485\n",
       "z2           -0.00592749  0.01746398"
      ]
     },
     "metadata": {},
     "output_type": "display_data"
    }
   ],
   "source": [
    "confint(model, newdata = company_data, level=0.95)"
   ]
  },
  {
   "cell_type": "markdown",
   "metadata": {},
   "source": [
    "intercept and beta 2 might not be significant"
   ]
  },
  {
   "cell_type": "code",
   "execution_count": 7,
   "metadata": {
    "scrolled": false
   },
   "outputs": [
    {
     "data": {
      "image/png": "[encoded data removed]",
      "text/plain": [
       "Plot with title \"\""
      ]
     },
     "metadata": {},
     "output_type": "display_data"
    }
   ],
   "source": [
    "par(mfrow = c(2, 2))\n",
    "plot(model)"
   ]
  },
  {
   "cell_type": "markdown",
   "metadata": {},
   "source": [
    "1. Error Independent - No trend for residual plots\n",
    "2. Normality - Seems like not normal but the point is too less\n",
    "3. "
   ]
  },
  {
   "cell_type": "code",
   "execution_count": 8,
   "metadata": {},
   "outputs": [
    {
     "data": {
      "text/html": [
       "<table>\n",
       "<thead><tr><th scope=col>fit</th><th scope=col>lwr</th><th scope=col>upr</th></tr></thead>\n",
       "<tbody>\n",
       "\t<tr><td>9.703207 </td><td>-1.545611</td><td>20.95203 </td></tr>\n",
       "</tbody>\n",
       "</table>\n"
      ],
      "text/latex": [
       "\\begin{tabular}{r|lll}\n",
       " fit & lwr & upr\\\\\n",
       "\\hline\n",
       "\t 9.703207  & -1.545611 & 20.95203 \\\\\n",
       "\\end{tabular}\n"
      ],
      "text/markdown": [
       "\n",
       "| fit | lwr | upr |\n",
       "|---|---|---|\n",
       "| 9.703207  | -1.545611 | 20.95203  |\n",
       "\n"
      ],
      "text/plain": [
       "  fit      lwr       upr     \n",
       "1 9.703207 -1.545611 20.95203"
      ]
     },
     "metadata": {},
     "output_type": "display_data"
    }
   ],
   "source": [
    "newdata = data.frame(z1=100, z2=500)\n",
    "predict(model, newdata = newdata, interval = \"prediction\")"
   ]
  },
  {
   "cell_type": "markdown",
   "metadata": {},
   "source": [
    "(g) yes. because the variation is not explained and the assumptions for regression model is violated."
   ]
  },
  {
   "cell_type": "code",
   "execution_count": 9,
   "metadata": {},
   "outputs": [
    {
     "data": {
      "text/plain": [
       "\n",
       "Call:\n",
       "lm(formula = y ~ z1, data = company_data)\n",
       "\n",
       "Coefficients:\n",
       "(Intercept)           z1  \n",
       "    8.38497      0.04061  \n"
      ]
     },
     "metadata": {},
     "output_type": "display_data"
    },
    {
     "data": {
      "text/plain": [
       "\n",
       "Call:\n",
       "lm(formula = y ~ z1, data = company_data)\n",
       "\n",
       "Residuals:\n",
       "    Min      1Q  Median      3Q     Max \n",
       "-4.2312 -3.3430 -0.9744  2.8273  6.2244 \n",
       "\n",
       "Coefficients:\n",
       "            Estimate Std. Error t value Pr(>|t|)  \n",
       "(Intercept)  8.38497    2.67770   3.131   0.0140 *\n",
       "z1           0.04061    0.01522   2.668   0.0285 *\n",
       "---\n",
       "Signif. codes:  0 '***' 0.001 '**' 0.01 '*' 0.05 '.' 0.1 ' ' 1\n",
       "\n",
       "Residual standard error: 3.949 on 8 degrees of freedom\n",
       "Multiple R-squared:  0.4708,\tAdjusted R-squared:  0.4046 \n",
       "F-statistic: 7.117 on 1 and 8 DF,  p-value: 0.02846\n"
      ]
     },
     "metadata": {},
     "output_type": "display_data"
    },
    {
     "data": {
      "image/png": "[encoded data removed]",
      "text/plain": [
       "Plot with title \"\""
      ]
     },
     "metadata": {},
     "output_type": "display_data"
    }
   ],
   "source": [
    "model <- lm(y~z1, data=company_data)\n",
    "model\n",
    "\n",
    "summary(model)\n",
    "par(mfrow = c(2, 2))\n",
    "plot(model)"
   ]
  },
  {
   "cell_type": "markdown",
   "metadata": {},
   "source": [
    "The residual plot is still not really good. BUt then normal Q-Q plot is almost normal."
   ]
  },
  {
   "cell_type": "markdown",
   "metadata": {},
   "source": [
    "# Q3"
   ]
  },
  {
   "cell_type": "code",
   "execution_count": 10,
   "metadata": {},
   "outputs": [
    {
     "data": {
      "text/html": [
       "<table>\n",
       "<thead><tr><th></th><th scope=col>z1</th><th scope=col>y</th><th scope=col>z2</th></tr></thead>\n",
       "<tbody>\n",
       "\t<tr><th scope=row>z1</th><td> 1.0000000</td><td> 0.6861360</td><td>-0.8450549</td></tr>\n",
       "\t<tr><th scope=row>y</th><td> 0.6861360</td><td> 1.0000000</td><td>-0.4229366</td></tr>\n",
       "\t<tr><th scope=row>z2</th><td>-0.8450549</td><td>-0.4229366</td><td> 1.0000000</td></tr>\n",
       "</tbody>\n",
       "</table>\n"
      ],
      "text/latex": [
       "\\begin{tabular}{r|lll}\n",
       "  & z1 & y & z2\\\\\n",
       "\\hline\n",
       "\tz1 &  1.0000000 &  0.6861360 & -0.8450549\\\\\n",
       "\ty &  0.6861360 &  1.0000000 & -0.4229366\\\\\n",
       "\tz2 & -0.8450549 & -0.4229366 &  1.0000000\\\\\n",
       "\\end{tabular}\n"
      ],
      "text/markdown": [
       "\n",
       "| <!--/--> | z1 | y | z2 |\n",
       "|---|---|---|---|\n",
       "| z1 |  1.0000000 |  0.6861360 | -0.8450549 |\n",
       "| y |  0.6861360 |  1.0000000 | -0.4229366 |\n",
       "| z2 | -0.8450549 | -0.4229366 |  1.0000000 |\n",
       "\n"
      ],
      "text/plain": [
       "   z1         y          z2        \n",
       "z1  1.0000000  0.6861360 -0.8450549\n",
       "y   0.6861360  1.0000000 -0.4229366\n",
       "z2 -0.8450549 -0.4229366  1.0000000"
      ]
     },
     "metadata": {},
     "output_type": "display_data"
    }
   ],
   "source": [
    "cor(company_data, method='pearson')"
   ]
  },
  {
   "cell_type": "markdown",
   "metadata": {},
   "source": [
    "y is strong positive correlated with z1 and moderate negative correlated to z2."
   ]
  },
  {
   "cell_type": "code",
   "execution_count": 11,
   "metadata": {},
   "outputs": [
    {
     "data": {
      "text/html": [
       "<table>\n",
       "<thead><tr><th></th><th scope=col>z1</th><th scope=col>y</th><th scope=col>z2</th></tr></thead>\n",
       "<tbody>\n",
       "\t<tr><th scope=row>z1</th><td> 1.0000000</td><td> 0.4666667</td><td>-0.6888889</td></tr>\n",
       "\t<tr><th scope=row>y</th><td> 0.4666667</td><td> 1.0000000</td><td>-0.3333333</td></tr>\n",
       "\t<tr><th scope=row>z2</th><td>-0.6888889</td><td>-0.3333333</td><td> 1.0000000</td></tr>\n",
       "</tbody>\n",
       "</table>\n"
      ],
      "text/latex": [
       "\\begin{tabular}{r|lll}\n",
       "  & z1 & y & z2\\\\\n",
       "\\hline\n",
       "\tz1 &  1.0000000 &  0.4666667 & -0.6888889\\\\\n",
       "\ty &  0.4666667 &  1.0000000 & -0.3333333\\\\\n",
       "\tz2 & -0.6888889 & -0.3333333 &  1.0000000\\\\\n",
       "\\end{tabular}\n"
      ],
      "text/markdown": [
       "\n",
       "| <!--/--> | z1 | y | z2 |\n",
       "|---|---|---|---|\n",
       "| z1 |  1.0000000 |  0.4666667 | -0.6888889 |\n",
       "| y |  0.4666667 |  1.0000000 | -0.3333333 |\n",
       "| z2 | -0.6888889 | -0.3333333 |  1.0000000 |\n",
       "\n"
      ],
      "text/plain": [
       "   z1         y          z2        \n",
       "z1  1.0000000  0.4666667 -0.6888889\n",
       "y   0.4666667  1.0000000 -0.3333333\n",
       "z2 -0.6888889 -0.3333333  1.0000000"
      ]
     },
     "metadata": {},
     "output_type": "display_data"
    }
   ],
   "source": [
    "cor(company_data, method='kendall')"
   ]
  },
  {
   "cell_type": "code",
   "execution_count": 12,
   "metadata": {},
   "outputs": [
    {
     "data": {
      "text/html": [
       "<table>\n",
       "<thead><tr><th></th><th scope=col>z1</th><th scope=col>y</th><th scope=col>z2</th></tr></thead>\n",
       "<tbody>\n",
       "\t<tr><th scope=row>z1</th><td> 1.0000000</td><td> 0.6727273</td><td>-0.8303030</td></tr>\n",
       "\t<tr><th scope=row>y</th><td> 0.6727273</td><td> 1.0000000</td><td>-0.4424242</td></tr>\n",
       "\t<tr><th scope=row>z2</th><td>-0.8303030</td><td>-0.4424242</td><td> 1.0000000</td></tr>\n",
       "</tbody>\n",
       "</table>\n"
      ],
      "text/latex": [
       "\\begin{tabular}{r|lll}\n",
       "  & z1 & y & z2\\\\\n",
       "\\hline\n",
       "\tz1 &  1.0000000 &  0.6727273 & -0.8303030\\\\\n",
       "\ty &  0.6727273 &  1.0000000 & -0.4424242\\\\\n",
       "\tz2 & -0.8303030 & -0.4424242 &  1.0000000\\\\\n",
       "\\end{tabular}\n"
      ],
      "text/markdown": [
       "\n",
       "| <!--/--> | z1 | y | z2 |\n",
       "|---|---|---|---|\n",
       "| z1 |  1.0000000 |  0.6727273 | -0.8303030 |\n",
       "| y |  0.6727273 |  1.0000000 | -0.4424242 |\n",
       "| z2 | -0.8303030 | -0.4424242 |  1.0000000 |\n",
       "\n"
      ],
      "text/plain": [
       "   z1         y          z2        \n",
       "z1  1.0000000  0.6727273 -0.8303030\n",
       "y   0.6727273  1.0000000 -0.4424242\n",
       "z2 -0.8303030 -0.4424242  1.0000000"
      ]
     },
     "metadata": {},
     "output_type": "display_data"
    }
   ],
   "source": [
    "cor(company_data, method='spearman')"
   ]
  },
  {
   "cell_type": "code",
   "execution_count": 13,
   "metadata": {},
   "outputs": [
    {
     "data": {
      "image/png": "[encoded data removed]",
      "text/plain": [
       "Plot with title \"Normal Q-Q Plot\""
      ]
     },
     "metadata": {},
     "output_type": "display_data"
    }
   ],
   "source": [
    "qqnorm(company_data$z1)\n",
    "qqline(company_data$z1)"
   ]
  },
  {
   "cell_type": "code",
   "execution_count": 14,
   "metadata": {},
   "outputs": [
    {
     "data": {
      "image/png": "[encoded data removed]",
      "text/plain": [
       "Plot with title \"Normal Q-Q Plot\""
      ]
     },
     "metadata": {},
     "output_type": "display_data"
    }
   ],
   "source": [
    "qqnorm(company_data$z2)\n",
    "qqline(company_data$z2)"
   ]
  },
  {
   "cell_type": "code",
   "execution_count": 15,
   "metadata": {},
   "outputs": [
    {
     "data": {
      "image/png": "[encoded data removed]",
      "text/plain": [
       "Plot with title \"Normal Q-Q Plot\""
      ]
     },
     "metadata": {},
     "output_type": "display_data"
    }
   ],
   "source": [
    "qqnorm(company_data$y)\n",
    "qqline(company_data$y)"
   ]
  },
  {
   "cell_type": "markdown",
   "metadata": {},
   "source": [
    "There might be outlier or data is not normal. Becauase of the data is too less."
   ]
  },
  {
   "cell_type": "code",
   "execution_count": 16,
   "metadata": {},
   "outputs": [
    {
     "name": "stderr",
     "output_type": "stream",
     "text": [
      "Loading required package: MASS\n"
     ]
    }
   ],
   "source": [
    "library('ppcor')"
   ]
  },
  {
   "cell_type": "markdown",
   "metadata": {},
   "source": [
    "- Peasron significant (data have to be normal and assuming the data is to be linear.)\n",
    "- Kendall significant at 0.1 (non parametric)\n",
    "- Spearman significant (non parametric)\n",
    "\n",
    "The correlation matrix actually affect the significance"
   ]
  },
  {
   "cell_type": "code",
   "execution_count": 17,
   "metadata": {},
   "outputs": [
    {
     "data": {
      "text/html": [
       "<dl>\n",
       "\t<dt>$estimate</dt>\n",
       "\t\t<dd><table>\n",
       "<thead><tr><th></th><th scope=col>z1</th><th scope=col>y</th><th scope=col>z2</th></tr></thead>\n",
       "<tbody>\n",
       "\t<tr><th scope=row>z1</th><td> 1.0000000</td><td>0.6784894 </td><td>-0.8417131</td></tr>\n",
       "\t<tr><th scope=row>y</th><td> 0.6784894</td><td>1.0000000 </td><td> 0.4033423</td></tr>\n",
       "\t<tr><th scope=row>z2</th><td>-0.8417131</td><td>0.4033423 </td><td> 1.0000000</td></tr>\n",
       "</tbody>\n",
       "</table>\n",
       "</dd>\n",
       "\t<dt>$p.value</dt>\n",
       "\t\t<dd><table>\n",
       "<thead><tr><th></th><th scope=col>z1</th><th scope=col>y</th><th scope=col>z2</th></tr></thead>\n",
       "<tbody>\n",
       "\t<tr><th scope=row>z1</th><td>0.000000000</td><td>0.04452135 </td><td>0.004434021</td></tr>\n",
       "\t<tr><th scope=row>y</th><td>0.044521354</td><td>0.00000000 </td><td>0.281719452</td></tr>\n",
       "\t<tr><th scope=row>z2</th><td>0.004434021</td><td>0.28171945 </td><td>0.000000000</td></tr>\n",
       "</tbody>\n",
       "</table>\n",
       "</dd>\n",
       "\t<dt>$statistic</dt>\n",
       "\t\t<dd><table>\n",
       "<thead><tr><th></th><th scope=col>z1</th><th scope=col>y</th><th scope=col>z2</th></tr></thead>\n",
       "<tbody>\n",
       "\t<tr><th scope=row>z1</th><td> 0.000000</td><td>2.443628 </td><td>-4.124579</td></tr>\n",
       "\t<tr><th scope=row>y</th><td> 2.443628</td><td>0.000000 </td><td> 1.166214</td></tr>\n",
       "\t<tr><th scope=row>z2</th><td>-4.124579</td><td>1.166214 </td><td> 0.000000</td></tr>\n",
       "</tbody>\n",
       "</table>\n",
       "</dd>\n",
       "\t<dt>$n</dt>\n",
       "\t\t<dd>10</dd>\n",
       "\t<dt>$gp</dt>\n",
       "\t\t<dd>1</dd>\n",
       "\t<dt>$method</dt>\n",
       "\t\t<dd>'pearson'</dd>\n",
       "</dl>\n"
      ],
      "text/latex": [
       "\\begin{description}\n",
       "\\item[\\$estimate] \\begin{tabular}{r|lll}\n",
       "  & z1 & y & z2\\\\\n",
       "\\hline\n",
       "\tz1 &  1.0000000 & 0.6784894  & -0.8417131\\\\\n",
       "\ty &  0.6784894 & 1.0000000  &  0.4033423\\\\\n",
       "\tz2 & -0.8417131 & 0.4033423  &  1.0000000\\\\\n",
       "\\end{tabular}\n",
       "\n",
       "\\item[\\$p.value] \\begin{tabular}{r|lll}\n",
       "  & z1 & y & z2\\\\\n",
       "\\hline\n",
       "\tz1 & 0.000000000 & 0.04452135  & 0.004434021\\\\\n",
       "\ty & 0.044521354 & 0.00000000  & 0.281719452\\\\\n",
       "\tz2 & 0.004434021 & 0.28171945  & 0.000000000\\\\\n",
       "\\end{tabular}\n",
       "\n",
       "\\item[\\$statistic] \\begin{tabular}{r|lll}\n",
       "  & z1 & y & z2\\\\\n",
       "\\hline\n",
       "\tz1 &  0.000000 & 2.443628  & -4.124579\\\\\n",
       "\ty &  2.443628 & 0.000000  &  1.166214\\\\\n",
       "\tz2 & -4.124579 & 1.166214  &  0.000000\\\\\n",
       "\\end{tabular}\n",
       "\n",
       "\\item[\\$n] 10\n",
       "\\item[\\$gp] 1\n",
       "\\item[\\$method] 'pearson'\n",
       "\\end{description}\n"
      ],
      "text/markdown": [
       "$estimate\n",
       ":   \n",
       "| <!--/--> | z1 | y | z2 |\n",
       "|---|---|---|---|\n",
       "| z1 |  1.0000000 | 0.6784894  | -0.8417131 |\n",
       "| y |  0.6784894 | 1.0000000  |  0.4033423 |\n",
       "| z2 | -0.8417131 | 0.4033423  |  1.0000000 |\n",
       "\n",
       "\n",
       "$p.value\n",
       ":   \n",
       "| <!--/--> | z1 | y | z2 |\n",
       "|---|---|---|---|\n",
       "| z1 | 0.000000000 | 0.04452135  | 0.004434021 |\n",
       "| y | 0.044521354 | 0.00000000  | 0.281719452 |\n",
       "| z2 | 0.004434021 | 0.28171945  | 0.000000000 |\n",
       "\n",
       "\n",
       "$statistic\n",
       ":   \n",
       "| <!--/--> | z1 | y | z2 |\n",
       "|---|---|---|---|\n",
       "| z1 |  0.000000 | 2.443628  | -4.124579 |\n",
       "| y |  2.443628 | 0.000000  |  1.166214 |\n",
       "| z2 | -4.124579 | 1.166214  |  0.000000 |\n",
       "\n",
       "\n",
       "$n\n",
       ":   10\n",
       "$gp\n",
       ":   1\n",
       "$method\n",
       ":   'pearson'\n",
       "\n",
       "\n"
      ],
      "text/plain": [
       "$estimate\n",
       "           z1         y         z2\n",
       "z1  1.0000000 0.6784894 -0.8417131\n",
       "y   0.6784894 1.0000000  0.4033423\n",
       "z2 -0.8417131 0.4033423  1.0000000\n",
       "\n",
       "$p.value\n",
       "            z1          y          z2\n",
       "z1 0.000000000 0.04452135 0.004434021\n",
       "y  0.044521354 0.00000000 0.281719452\n",
       "z2 0.004434021 0.28171945 0.000000000\n",
       "\n",
       "$statistic\n",
       "          z1        y        z2\n",
       "z1  0.000000 2.443628 -4.124579\n",
       "y   2.443628 0.000000  1.166214\n",
       "z2 -4.124579 1.166214  0.000000\n",
       "\n",
       "$n\n",
       "[1] 10\n",
       "\n",
       "$gp\n",
       "[1] 1\n",
       "\n",
       "$method\n",
       "[1] \"pearson\"\n"
      ]
     },
     "metadata": {},
     "output_type": "display_data"
    }
   ],
   "source": [
    "pcor(company_data, method='pearson')"
   ]
  },
  {
   "cell_type": "markdown",
   "metadata": {},
   "source": [
    "- y and z1 \n",
    "- z1 and z2\n",
    "\n",
    "As mentioned by Dr. Adriana, we need to look into the analysis and compare with the full correlation as well and observe how much does it differ."
   ]
  },
  {
   "cell_type": "code",
   "execution_count": 18,
   "metadata": {},
   "outputs": [
    {
     "data": {
      "text/html": [
       "<dl>\n",
       "\t<dt>$estimate</dt>\n",
       "\t\t<dd><table>\n",
       "<thead><tr><th></th><th scope=col>z1</th><th scope=col>y</th><th scope=col>z2</th></tr></thead>\n",
       "<tbody>\n",
       "\t<tr><th scope=row>z1</th><td> 1.0000000 </td><td> 0.34684399</td><td>-0.63960215</td></tr>\n",
       "\t<tr><th scope=row>y</th><td> 0.3468440 </td><td> 1.00000000</td><td>-0.01848685</td></tr>\n",
       "\t<tr><th scope=row>z2</th><td>-0.6396021 </td><td>-0.01848685</td><td> 1.00000000</td></tr>\n",
       "</tbody>\n",
       "</table>\n",
       "</dd>\n",
       "\t<dt>$p.value</dt>\n",
       "\t\t<dd><table>\n",
       "<thead><tr><th></th><th scope=col>z1</th><th scope=col>y</th><th scope=col>z2</th></tr></thead>\n",
       "<tbody>\n",
       "\t<tr><th scope=row>z1</th><td>0.00000000</td><td>0.1929863 </td><td>0.01636854</td></tr>\n",
       "\t<tr><th scope=row>y</th><td>0.19298631</td><td>0.0000000 </td><td>0.94468243</td></tr>\n",
       "\t<tr><th scope=row>z2</th><td>0.01636854</td><td>0.9446824 </td><td>0.00000000</td></tr>\n",
       "</tbody>\n",
       "</table>\n",
       "</dd>\n",
       "\t<dt>$statistic</dt>\n",
       "\t\t<dd><table>\n",
       "<thead><tr><th></th><th scope=col>z1</th><th scope=col>y</th><th scope=col>z2</th></tr></thead>\n",
       "<tbody>\n",
       "\t<tr><th scope=row>z1</th><td> 0.000000  </td><td> 1.30179548</td><td>-2.40059281</td></tr>\n",
       "\t<tr><th scope=row>y</th><td> 1.301795  </td><td> 0.00000000</td><td>-0.06938593</td></tr>\n",
       "\t<tr><th scope=row>z2</th><td>-2.400593  </td><td>-0.06938593</td><td> 0.00000000</td></tr>\n",
       "</tbody>\n",
       "</table>\n",
       "</dd>\n",
       "\t<dt>$n</dt>\n",
       "\t\t<dd>10</dd>\n",
       "\t<dt>$gp</dt>\n",
       "\t\t<dd>1</dd>\n",
       "\t<dt>$method</dt>\n",
       "\t\t<dd>'kendall'</dd>\n",
       "</dl>\n"
      ],
      "text/latex": [
       "\\begin{description}\n",
       "\\item[\\$estimate] \\begin{tabular}{r|lll}\n",
       "  & z1 & y & z2\\\\\n",
       "\\hline\n",
       "\tz1 &  1.0000000  &  0.34684399 & -0.63960215\\\\\n",
       "\ty &  0.3468440  &  1.00000000 & -0.01848685\\\\\n",
       "\tz2 & -0.6396021  & -0.01848685 &  1.00000000\\\\\n",
       "\\end{tabular}\n",
       "\n",
       "\\item[\\$p.value] \\begin{tabular}{r|lll}\n",
       "  & z1 & y & z2\\\\\n",
       "\\hline\n",
       "\tz1 & 0.00000000 & 0.1929863  & 0.01636854\\\\\n",
       "\ty & 0.19298631 & 0.0000000  & 0.94468243\\\\\n",
       "\tz2 & 0.01636854 & 0.9446824  & 0.00000000\\\\\n",
       "\\end{tabular}\n",
       "\n",
       "\\item[\\$statistic] \\begin{tabular}{r|lll}\n",
       "  & z1 & y & z2\\\\\n",
       "\\hline\n",
       "\tz1 &  0.000000   &  1.30179548 & -2.40059281\\\\\n",
       "\ty &  1.301795   &  0.00000000 & -0.06938593\\\\\n",
       "\tz2 & -2.400593   & -0.06938593 &  0.00000000\\\\\n",
       "\\end{tabular}\n",
       "\n",
       "\\item[\\$n] 10\n",
       "\\item[\\$gp] 1\n",
       "\\item[\\$method] 'kendall'\n",
       "\\end{description}\n"
      ],
      "text/markdown": [
       "$estimate\n",
       ":   \n",
       "| <!--/--> | z1 | y | z2 |\n",
       "|---|---|---|---|\n",
       "| z1 |  1.0000000  |  0.34684399 | -0.63960215 |\n",
       "| y |  0.3468440  |  1.00000000 | -0.01848685 |\n",
       "| z2 | -0.6396021  | -0.01848685 |  1.00000000 |\n",
       "\n",
       "\n",
       "$p.value\n",
       ":   \n",
       "| <!--/--> | z1 | y | z2 |\n",
       "|---|---|---|---|\n",
       "| z1 | 0.00000000 | 0.1929863  | 0.01636854 |\n",
       "| y | 0.19298631 | 0.0000000  | 0.94468243 |\n",
       "| z2 | 0.01636854 | 0.9446824  | 0.00000000 |\n",
       "\n",
       "\n",
       "$statistic\n",
       ":   \n",
       "| <!--/--> | z1 | y | z2 |\n",
       "|---|---|---|---|\n",
       "| z1 |  0.000000   |  1.30179548 | -2.40059281 |\n",
       "| y |  1.301795   |  0.00000000 | -0.06938593 |\n",
       "| z2 | -2.400593   | -0.06938593 |  0.00000000 |\n",
       "\n",
       "\n",
       "$n\n",
       ":   10\n",
       "$gp\n",
       ":   1\n",
       "$method\n",
       ":   'kendall'\n",
       "\n",
       "\n"
      ],
      "text/plain": [
       "$estimate\n",
       "           z1           y          z2\n",
       "z1  1.0000000  0.34684399 -0.63960215\n",
       "y   0.3468440  1.00000000 -0.01848685\n",
       "z2 -0.6396021 -0.01848685  1.00000000\n",
       "\n",
       "$p.value\n",
       "           z1         y         z2\n",
       "z1 0.00000000 0.1929863 0.01636854\n",
       "y  0.19298631 0.0000000 0.94468243\n",
       "z2 0.01636854 0.9446824 0.00000000\n",
       "\n",
       "$statistic\n",
       "          z1           y          z2\n",
       "z1  0.000000  1.30179548 -2.40059281\n",
       "y   1.301795  0.00000000 -0.06938593\n",
       "z2 -2.400593 -0.06938593  0.00000000\n",
       "\n",
       "$n\n",
       "[1] 10\n",
       "\n",
       "$gp\n",
       "[1] 1\n",
       "\n",
       "$method\n",
       "[1] \"kendall\"\n"
      ]
     },
     "metadata": {},
     "output_type": "display_data"
    }
   ],
   "source": [
    "pcor(company_data, method='kendall')"
   ]
  },
  {
   "cell_type": "code",
   "execution_count": 19,
   "metadata": {},
   "outputs": [
    {
     "data": {
      "text/html": [
       "<dl>\n",
       "\t<dt>$estimate</dt>\n",
       "\t\t<dd><table>\n",
       "<thead><tr><th></th><th scope=col>z1</th><th scope=col>y</th><th scope=col>z2</th></tr></thead>\n",
       "<tbody>\n",
       "\t<tr><th scope=row>z1</th><td> 1.0000000</td><td>0.6110055 </td><td>-0.8027755</td></tr>\n",
       "\t<tr><th scope=row>y</th><td> 0.6110055</td><td>1.0000000 </td><td> 0.2816618</td></tr>\n",
       "\t<tr><th scope=row>z2</th><td>-0.8027755</td><td>0.2816618 </td><td> 1.0000000</td></tr>\n",
       "</tbody>\n",
       "</table>\n",
       "</dd>\n",
       "\t<dt>$p.value</dt>\n",
       "\t\t<dd><table>\n",
       "<thead><tr><th></th><th scope=col>z1</th><th scope=col>y</th><th scope=col>z2</th></tr></thead>\n",
       "<tbody>\n",
       "\t<tr><th scope=row>z1</th><td>0.000000000</td><td>0.08046483 </td><td>0.009195006</td></tr>\n",
       "\t<tr><th scope=row>y</th><td>0.080464835</td><td>0.00000000 </td><td>0.462796274</td></tr>\n",
       "\t<tr><th scope=row>z2</th><td>0.009195006</td><td>0.46279627 </td><td>0.000000000</td></tr>\n",
       "</tbody>\n",
       "</table>\n",
       "</dd>\n",
       "\t<dt>$statistic</dt>\n",
       "\t\t<dd><table>\n",
       "<thead><tr><th></th><th scope=col>z1</th><th scope=col>y</th><th scope=col>z2</th></tr></thead>\n",
       "<tbody>\n",
       "\t<tr><th scope=row>z1</th><td> 0.000000 </td><td>2.0420855 </td><td>-3.5619828</td></tr>\n",
       "\t<tr><th scope=row>y</th><td> 2.042086 </td><td>0.0000000 </td><td> 0.7766508</td></tr>\n",
       "\t<tr><th scope=row>z2</th><td>-3.561983 </td><td>0.7766508 </td><td> 0.0000000</td></tr>\n",
       "</tbody>\n",
       "</table>\n",
       "</dd>\n",
       "\t<dt>$n</dt>\n",
       "\t\t<dd>10</dd>\n",
       "\t<dt>$gp</dt>\n",
       "\t\t<dd>1</dd>\n",
       "\t<dt>$method</dt>\n",
       "\t\t<dd>'spearman'</dd>\n",
       "</dl>\n"
      ],
      "text/latex": [
       "\\begin{description}\n",
       "\\item[\\$estimate] \\begin{tabular}{r|lll}\n",
       "  & z1 & y & z2\\\\\n",
       "\\hline\n",
       "\tz1 &  1.0000000 & 0.6110055  & -0.8027755\\\\\n",
       "\ty &  0.6110055 & 1.0000000  &  0.2816618\\\\\n",
       "\tz2 & -0.8027755 & 0.2816618  &  1.0000000\\\\\n",
       "\\end{tabular}\n",
       "\n",
       "\\item[\\$p.value] \\begin{tabular}{r|lll}\n",
       "  & z1 & y & z2\\\\\n",
       "\\hline\n",
       "\tz1 & 0.000000000 & 0.08046483  & 0.009195006\\\\\n",
       "\ty & 0.080464835 & 0.00000000  & 0.462796274\\\\\n",
       "\tz2 & 0.009195006 & 0.46279627  & 0.000000000\\\\\n",
       "\\end{tabular}\n",
       "\n",
       "\\item[\\$statistic] \\begin{tabular}{r|lll}\n",
       "  & z1 & y & z2\\\\\n",
       "\\hline\n",
       "\tz1 &  0.000000  & 2.0420855  & -3.5619828\\\\\n",
       "\ty &  2.042086  & 0.0000000  &  0.7766508\\\\\n",
       "\tz2 & -3.561983  & 0.7766508  &  0.0000000\\\\\n",
       "\\end{tabular}\n",
       "\n",
       "\\item[\\$n] 10\n",
       "\\item[\\$gp] 1\n",
       "\\item[\\$method] 'spearman'\n",
       "\\end{description}\n"
      ],
      "text/markdown": [
       "$estimate\n",
       ":   \n",
       "| <!--/--> | z1 | y | z2 |\n",
       "|---|---|---|---|\n",
       "| z1 |  1.0000000 | 0.6110055  | -0.8027755 |\n",
       "| y |  0.6110055 | 1.0000000  |  0.2816618 |\n",
       "| z2 | -0.8027755 | 0.2816618  |  1.0000000 |\n",
       "\n",
       "\n",
       "$p.value\n",
       ":   \n",
       "| <!--/--> | z1 | y | z2 |\n",
       "|---|---|---|---|\n",
       "| z1 | 0.000000000 | 0.08046483  | 0.009195006 |\n",
       "| y | 0.080464835 | 0.00000000  | 0.462796274 |\n",
       "| z2 | 0.009195006 | 0.46279627  | 0.000000000 |\n",
       "\n",
       "\n",
       "$statistic\n",
       ":   \n",
       "| <!--/--> | z1 | y | z2 |\n",
       "|---|---|---|---|\n",
       "| z1 |  0.000000  | 2.0420855  | -3.5619828 |\n",
       "| y |  2.042086  | 0.0000000  |  0.7766508 |\n",
       "| z2 | -3.561983  | 0.7766508  |  0.0000000 |\n",
       "\n",
       "\n",
       "$n\n",
       ":   10\n",
       "$gp\n",
       ":   1\n",
       "$method\n",
       ":   'spearman'\n",
       "\n",
       "\n"
      ],
      "text/plain": [
       "$estimate\n",
       "           z1         y         z2\n",
       "z1  1.0000000 0.6110055 -0.8027755\n",
       "y   0.6110055 1.0000000  0.2816618\n",
       "z2 -0.8027755 0.2816618  1.0000000\n",
       "\n",
       "$p.value\n",
       "            z1          y          z2\n",
       "z1 0.000000000 0.08046483 0.009195006\n",
       "y  0.080464835 0.00000000 0.462796274\n",
       "z2 0.009195006 0.46279627 0.000000000\n",
       "\n",
       "$statistic\n",
       "          z1         y         z2\n",
       "z1  0.000000 2.0420855 -3.5619828\n",
       "y   2.042086 0.0000000  0.7766508\n",
       "z2 -3.561983 0.7766508  0.0000000\n",
       "\n",
       "$n\n",
       "[1] 10\n",
       "\n",
       "$gp\n",
       "[1] 1\n",
       "\n",
       "$method\n",
       "[1] \"spearman\"\n"
      ]
     },
     "metadata": {},
     "output_type": "display_data"
    }
   ],
   "source": [
    "pcor(company_data, method='spearman')"
   ]
  },
  {
   "cell_type": "code",
   "execution_count": null,
   "metadata": {},
   "outputs": [],
   "source": []
  }
 ],
 "metadata": {
  "kernelspec": {
   "display_name": "R",
   "language": "R",
   "name": "ir"
  },
  "language_info": {
   "codemirror_mode": "r",
   "file_extension": ".r",
   "mimetype": "text/x-r-source",
   "name": "R",
   "pygments_lexer": "r",
   "version": "3.6.1"
  },
  "toc": {
   "base_numbering": 1,
   "nav_menu": {},
   "number_sections": true,
   "sideBar": true,
   "skip_h1_title": false,
   "title_cell": "Table of Contents",
   "title_sidebar": "Contents",
   "toc_cell": false,
   "toc_position": {},
   "toc_section_display": true,
   "toc_window_display": true
  },
  "varInspector": {
   "cols": {
    "lenName": 16,
    "lenType": 16,
    "lenVar": 40
   },
   "kernels_config": {
    "python": {
     "delete_cmd_postfix": "",
     "delete_cmd_prefix": "del ",
     "library": "var_list.py",
     "varRefreshCmd": "print(var_dic_list())"
    },
    "r": {
     "delete_cmd_postfix": ") ",
     "delete_cmd_prefix": "rm(",
     "library": "var_list.r",
     "varRefreshCmd": "cat(var_dic_list()) "
    }
   },
   "types_to_exclude": [
    "module",
    "function",
    "builtin_function_or_method",
    "instance",
    "_Feature"
   ],
   "window_display": false
  }
 },
 "nbformat": 4,
 "nbformat_minor": 4
}
