{
 "cells": [
  {
   "cell_type": "code",
   "execution_count": 1,
   "id": "pleasant-basement",
   "metadata": {},
   "outputs": [],
   "source": [
    "path = '../../data/sub_price.csv'\n",
    "df = read.csv(path)"
   ]
  },
  {
   "cell_type": "code",
   "execution_count": 18,
   "id": "classified-setting",
   "metadata": {},
   "outputs": [
    {
     "data": {
      "text/html": [
       "<table>\n",
       "<thead><tr><th scope=col>Quarterperiodend</th><th scope=col>suburb</th><th scope=col>X1BR_flats</th><th scope=col>X2BR_flats</th><th scope=col>X3BR_flats</th><th scope=col>X4.BR_flats</th><th scope=col>total_flats</th><th scope=col>X1BR_houses</th><th scope=col>X2BR_houses</th><th scope=col>X3BR_houses</th><th scope=col>X3BR_houses.1</th><th scope=col>X4.BR_houses</th></tr></thead>\n",
       "<tbody>\n",
       "\t<tr><td>2019-03</td><td>a      </td><td>320.0  </td><td>460    </td><td>570    </td><td>715    </td><td>344.0  </td><td>162    </td><td>440    </td><td>46     </td><td>487.5  </td><td>475.0  </td></tr>\n",
       "\t<tr><td>2019-03</td><td>b      </td><td>310.0  </td><td>365    </td><td>450    </td><td>750    </td><td>357.5  </td><td>325    </td><td>420    </td><td>30     </td><td>500.0  </td><td>872.5  </td></tr>\n",
       "\t<tr><td>2019-03</td><td>b      </td><td>335.0  </td><td>395    </td><td>440    </td><td> NA    </td><td>390.0  </td><td>185    </td><td>330    </td><td>54     </td><td>450.0  </td><td>460.0  </td></tr>\n",
       "\t<tr><td>2019-03</td><td>b      </td><td>250.0  </td><td>265    </td><td>390    </td><td>350    </td><td>275.0  </td><td>165    </td><td>320    </td><td>89     </td><td>370.0  </td><td>165.0  </td></tr>\n",
       "\t<tr><td>2019-03</td><td>b      </td><td>195.7  </td><td>200    </td><td>390    </td><td> NA    </td><td>390.0  </td><td>330    </td><td>340    </td><td>14     </td><td>425.0  </td><td>437.5  </td></tr>\n",
       "\t<tr><td>2019-03</td><td>a      </td><td>225.0  </td><td>280    </td><td> NA    </td><td> NA    </td><td>250.0  </td><td> NA    </td><td>220    </td><td>18     </td><td>382.5  </td><td>450.0  </td></tr>\n",
       "</tbody>\n",
       "</table>\n"
      ],
      "text/latex": [
       "\\begin{tabular}{r|llllllllllll}\n",
       " Quarterperiodend & suburb & X1BR\\_flats & X2BR\\_flats & X3BR\\_flats & X4.BR\\_flats & total\\_flats & X1BR\\_houses & X2BR\\_houses & X3BR\\_houses & X3BR\\_houses.1 & X4.BR\\_houses\\\\\n",
       "\\hline\n",
       "\t 2019-03 & a       & 320.0   & 460     & 570     & 715     & 344.0   & 162     & 440     & 46      & 487.5   & 475.0  \\\\\n",
       "\t 2019-03 & b       & 310.0   & 365     & 450     & 750     & 357.5   & 325     & 420     & 30      & 500.0   & 872.5  \\\\\n",
       "\t 2019-03 & b       & 335.0   & 395     & 440     &  NA     & 390.0   & 185     & 330     & 54      & 450.0   & 460.0  \\\\\n",
       "\t 2019-03 & b       & 250.0   & 265     & 390     & 350     & 275.0   & 165     & 320     & 89      & 370.0   & 165.0  \\\\\n",
       "\t 2019-03 & b       & 195.7   & 200     & 390     &  NA     & 390.0   & 330     & 340     & 14      & 425.0   & 437.5  \\\\\n",
       "\t 2019-03 & a       & 225.0   & 280     &  NA     &  NA     & 250.0   &  NA     & 220     & 18      & 382.5   & 450.0  \\\\\n",
       "\\end{tabular}\n"
      ],
      "text/markdown": [
       "\n",
       "| Quarterperiodend | suburb | X1BR_flats | X2BR_flats | X3BR_flats | X4.BR_flats | total_flats | X1BR_houses | X2BR_houses | X3BR_houses | X3BR_houses.1 | X4.BR_houses |\n",
       "|---|---|---|---|---|---|---|---|---|---|---|---|\n",
       "| 2019-03 | a       | 320.0   | 460     | 570     | 715     | 344.0   | 162     | 440     | 46      | 487.5   | 475.0   |\n",
       "| 2019-03 | b       | 310.0   | 365     | 450     | 750     | 357.5   | 325     | 420     | 30      | 500.0   | 872.5   |\n",
       "| 2019-03 | b       | 335.0   | 395     | 440     |  NA     | 390.0   | 185     | 330     | 54      | 450.0   | 460.0   |\n",
       "| 2019-03 | b       | 250.0   | 265     | 390     | 350     | 275.0   | 165     | 320     | 89      | 370.0   | 165.0   |\n",
       "| 2019-03 | b       | 195.7   | 200     | 390     |  NA     | 390.0   | 330     | 340     | 14      | 425.0   | 437.5   |\n",
       "| 2019-03 | a       | 225.0   | 280     |  NA     |  NA     | 250.0   |  NA     | 220     | 18      | 382.5   | 450.0   |\n",
       "\n"
      ],
      "text/plain": [
       "  Quarterperiodend suburb X1BR_flats X2BR_flats X3BR_flats X4.BR_flats\n",
       "1 2019-03          a      320.0      460        570        715        \n",
       "2 2019-03          b      310.0      365        450        750        \n",
       "3 2019-03          b      335.0      395        440         NA        \n",
       "4 2019-03          b      250.0      265        390        350        \n",
       "5 2019-03          b      195.7      200        390         NA        \n",
       "6 2019-03          a      225.0      280         NA         NA        \n",
       "  total_flats X1BR_houses X2BR_houses X3BR_houses X3BR_houses.1 X4.BR_houses\n",
       "1 344.0       162         440         46          487.5         475.0       \n",
       "2 357.5       325         420         30          500.0         872.5       \n",
       "3 390.0       185         330         54          450.0         460.0       \n",
       "4 275.0       165         320         89          370.0         165.0       \n",
       "5 390.0       330         340         14          425.0         437.5       \n",
       "6 250.0        NA         220         18          382.5         450.0       "
      ]
     },
     "metadata": {},
     "output_type": "display_data"
    }
   ],
   "source": [
    "head(df)"
   ]
  },
  {
   "cell_type": "code",
   "execution_count": 4,
   "id": "convenient-second",
   "metadata": {},
   "outputs": [
    {
     "data": {
      "text/plain": [
       " Quarterperiodend suburb    X1BR_flats      X2BR_flats       X3BR_flats   \n",
       " 2019-03:274      a:163   Min.   : 75.0   Min.   : 77.25   Min.   :125.0  \n",
       "                  b:111   1st Qu.:160.0   1st Qu.:231.25   1st Qu.:290.0  \n",
       "                          Median :220.0   Median :272.50   Median :340.0  \n",
       "                          Mean   :208.1   Mean   :264.91   Mean   :340.6  \n",
       "                          3rd Qu.:240.0   3rd Qu.:300.00   3rd Qu.:400.0  \n",
       "                          Max.   :349.5   Max.   :480.00   Max.   :570.0  \n",
       "                          NA's   :165     NA's   :119      NA's   :138    \n",
       "  X4.BR_flats     total_flats      X1BR_houses     X2BR_houses     X3BR_houses \n",
       " Min.   : 89.0   Min.   : 77.25   Min.   : 88.0   Min.   : 59.4   *      : 94  \n",
       " 1st Qu.:378.8   1st Qu.:220.00   1st Qu.:165.0   1st Qu.:231.3   0      : 27  \n",
       " Median :420.0   Median :275.00   Median :200.0   Median :280.0   11     :  7  \n",
       " Mean   :451.2   Mean   :264.76   Mean   :209.8   Mean   :284.2   17     :  6  \n",
       " 3rd Qu.:500.0   3rd Qu.:310.00   3rd Qu.:245.0   3rd Qu.:340.0   21     :  6  \n",
       " Max.   :825.0   Max.   :490.00   Max.   :370.0   Max.   :460.0   8      :  6  \n",
       " NA's   :243     NA's   :92       NA's   :202     NA's   :110     (Other):128  \n",
       " X3BR_houses.1    X4.BR_houses  \n",
       " Min.   :100.0   Min.   :100.0  \n",
       " 1st Qu.:255.0   1st Qu.:340.0  \n",
       " Median :320.0   Median :400.0  \n",
       " Mean   :334.1   Mean   :423.3  \n",
       " 3rd Qu.:400.0   3rd Qu.:485.0  \n",
       " Max.   :850.0   Max.   :975.0  \n",
       " NA's   :27      NA's   :73     "
      ]
     },
     "metadata": {},
     "output_type": "display_data"
    }
   ],
   "source": [
    "summary(df)"
   ]
  },
  {
   "cell_type": "code",
   "execution_count": 6,
   "id": "developing-fleece",
   "metadata": {},
   "outputs": [
    {
     "ename": "ERROR",
     "evalue": "Error in ggplot(df, kind = \"hist\"): could not find function \"ggplot\"\n",
     "output_type": "error",
     "traceback": [
      "Error in ggplot(df, kind = \"hist\"): could not find function \"ggplot\"\nTraceback:\n"
     ]
    }
   ],
   "source": [
    "ggplot(df, kind='hist')"
   ]
  },
  {
   "cell_type": "code",
   "execution_count": 12,
   "id": "steady-preliminary",
   "metadata": {},
   "outputs": [
    {
     "name": "stderr",
     "output_type": "stream",
     "text": [
      "\n",
      "Attaching package: 'dplyr'\n",
      "\n",
      "The following objects are masked from 'package:stats':\n",
      "\n",
      "    filter, lag\n",
      "\n",
      "The following objects are masked from 'package:base':\n",
      "\n",
      "    intersect, setdiff, setequal, union\n",
      "\n"
     ]
    }
   ],
   "source": [
    "library(tidyr)\n",
    "library(ggplot2)\n",
    "library(dplyr)"
   ]
  },
  {
   "cell_type": "code",
   "execution_count": 59,
   "id": "federal-geometry",
   "metadata": {},
   "outputs": [
    {
     "name": "stderr",
     "output_type": "stream",
     "text": [
      "Warning message:\n",
      "\"Removed 1169 rows containing non-finite values (stat_bin).\""
     ]
    },
    {
     "data": {
      "image/png": "[encoded data removed]",
      "text/plain": [
       "plot without title"
      ]
     },
     "metadata": {},
     "output_type": "display_data"
    }
   ],
   "source": [
    "(df \n",
    " %>% select_if(is.numeric)\n",
    " %>%  gather(cols, value) \n",
    " %>%  ggplot(aes(x = value), color=suburb) \n",
    " + geom_histogram(bins=10) \n",
    " + facet_wrap(.~cols, scales='free_x')\n",
    ")"
   ]
  },
  {
   "cell_type": "code",
   "execution_count": null,
   "id": "needed-paragraph",
   "metadata": {},
   "outputs": [],
   "source": []
  }
 ],
 "metadata": {
  "kernelspec": {
   "display_name": "R",
   "language": "R",
   "name": "ir"
  },
  "language_info": {
   "codemirror_mode": "r",
   "file_extension": ".r",
   "mimetype": "text/x-r-source",
   "name": "R",
   "pygments_lexer": "r",
   "version": "3.6.1"
  },
  "toc": {
   "base_numbering": 1,
   "nav_menu": {},
   "number_sections": true,
   "sideBar": true,
   "skip_h1_title": false,
   "title_cell": "Table of Contents",
   "title_sidebar": "Contents",
   "toc_cell": false,
   "toc_position": {},
   "toc_section_display": true,
   "toc_window_display": false
  },
  "varInspector": {
   "cols": {
    "lenName": 16,
    "lenType": 16,
    "lenVar": 40
   },
   "kernels_config": {
    "python": {
     "delete_cmd_postfix": "",
     "delete_cmd_prefix": "del ",
     "library": "var_list.py",
     "varRefreshCmd": "print(var_dic_list())"
    },
    "r": {
     "delete_cmd_postfix": ") ",
     "delete_cmd_prefix": "rm(",
     "library": "var_list.r",
     "varRefreshCmd": "cat(var_dic_list()) "
    }
   },
   "types_to_exclude": [
    "module",
    "function",
    "builtin_function_or_method",
    "instance",
    "_Feature"
   ],
   "window_display": false
  }
 },
 "nbformat": 4,
 "nbformat_minor": 5
}
